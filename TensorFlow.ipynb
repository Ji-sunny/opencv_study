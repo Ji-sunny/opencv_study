{
 "cells": [
  {
   "cell_type": "markdown",
   "metadata": {},
   "source": [
    "# 텐서플로우\n",
    "## 텐서 플로우 설치 확인"
   ]
  },
  {
   "cell_type": "code",
   "execution_count": null,
   "metadata": {
    "ExecuteTime": {
     "end_time": "2021-04-27T02:22:08.632921Z",
     "start_time": "2021-04-27T02:22:08.501940Z"
    }
   },
   "outputs": [],
   "source": [
    "import tensorflow.compat.v1 as tf\n",
    "tf.disable_v2_behavior()  # 텐서플로우 2에 1을 적용하게끔 만드는 코드"
   ]
  },
  {
   "cell_type": "code",
   "execution_count": null,
   "metadata": {
    "ExecuteTime": {
     "end_time": "2021-04-27T02:22:01.261895Z",
     "start_time": "2021-04-27T02:21:58.795680Z"
    }
   },
   "outputs": [],
   "source": [
    "import tensorflow\n",
    "tensorflow.__version__"
   ]
  },
  {
   "cell_type": "code",
   "execution_count": null,
   "metadata": {
    "ExecuteTime": {
     "end_time": "2021-04-27T02:23:48.215030Z",
     "start_time": "2021-04-27T02:23:48.198041Z"
    }
   },
   "outputs": [],
   "source": [
    "hello = tf.constant(\"Hello Tensorflow\")"
   ]
  },
  {
   "cell_type": "code",
   "execution_count": null,
   "metadata": {
    "ExecuteTime": {
     "end_time": "2021-04-27T02:23:53.556431Z",
     "start_time": "2021-04-27T02:23:53.540797Z"
    }
   },
   "outputs": [],
   "source": [
    "hello"
   ]
  },
  {
   "cell_type": "code",
   "execution_count": null,
   "metadata": {
    "ExecuteTime": {
     "end_time": "2021-04-27T02:24:30.289783Z",
     "start_time": "2021-04-27T02:24:30.268786Z"
    }
   },
   "outputs": [],
   "source": [
    "session = tf.Session()\n",
    "print(session.run(hello))"
   ]
  },
  {
   "cell_type": "markdown",
   "metadata": {},
   "source": [
    "## 인공신경망 예제 (keras, MLPClassifier)"
   ]
  },
  {
   "cell_type": "code",
   "execution_count": null,
   "metadata": {
    "ExecuteTime": {
     "end_time": "2021-04-28T06:12:31.525656Z",
     "start_time": "2021-04-28T06:12:29.105536Z"
    }
   },
   "outputs": [],
   "source": [
    "from tensorflow.keras.datasets import mnist\n",
    "(train_img, train_labels), (test_img, test_labels) = mnist.load_data()"
   ]
  },
  {
   "cell_type": "code",
   "execution_count": null,
   "metadata": {
    "ExecuteTime": {
     "end_time": "2021-04-27T03:20:13.576875Z",
     "start_time": "2021-04-27T03:20:13.514533Z"
    }
   },
   "outputs": [],
   "source": [
    "from tensorflow.keras.models import Sequential\n",
    "from tensorflow.keras.layers import Dense\n",
    "\n",
    "network = Sequential()\n",
    "network.add(Dense(512, activation='relu', input_shape = (28*28,)))  #입력층: input_shape\n",
    "network.add(Dense(10, activation='softmax'))\n"
   ]
  },
  {
   "cell_type": "code",
   "execution_count": null,
   "metadata": {
    "ExecuteTime": {
     "end_time": "2021-04-27T03:21:28.244114Z",
     "start_time": "2021-04-27T03:21:28.179435Z"
    }
   },
   "outputs": [],
   "source": [
    "network.compile(optimizer='rmsprop', loss='categorical_crossentropy', metrics=['accuracy'])\n"
   ]
  },
  {
   "cell_type": "code",
   "execution_count": null,
   "metadata": {
    "ExecuteTime": {
     "end_time": "2021-04-28T06:12:34.458771Z",
     "start_time": "2021-04-28T06:12:34.320721Z"
    }
   },
   "outputs": [],
   "source": [
    "#X의 모양을 입력 모양에 맞도록 수정\n",
    "\n",
    "train_img = train_img.reshape((-1, 28*28))\n",
    "test_img = test_img.reshape((10000, 28*28))\n",
    "\n",
    "#표준화\n",
    "train_img = train_img.astype('float32')/255\n",
    "test_img = test_img.astype('float32') / 255"
   ]
  },
  {
   "cell_type": "code",
   "execution_count": null,
   "metadata": {
    "ExecuteTime": {
     "end_time": "2021-04-28T06:12:35.394961Z",
     "start_time": "2021-04-28T06:12:35.376961Z"
    }
   },
   "outputs": [],
   "source": [
    "#y를 원-핫 인코딩 \n",
    "\n",
    "from tensorflow.keras.utils import to_categorical\n",
    "\n",
    "train_labels = to_categorical(train_labels)\n",
    "test_labels = to_categorical(test_labels)"
   ]
  },
  {
   "cell_type": "code",
   "execution_count": null,
   "metadata": {
    "ExecuteTime": {
     "end_time": "2021-04-27T03:33:40.996313Z",
     "start_time": "2021-04-27T03:31:48.707061Z"
    }
   },
   "outputs": [],
   "source": [
    "network.fit(train_img, train_labels, epochs=50, batch_size=128)\n",
    "\n",
    "#128개 씩 가중치가 업데이트됨\n",
    "# 총 5번 실행된"
   ]
  },
  {
   "cell_type": "code",
   "execution_count": null,
   "metadata": {
    "ExecuteTime": {
     "end_time": "2021-04-27T03:33:45.172939Z",
     "start_time": "2021-04-27T03:33:45.009887Z"
    }
   },
   "outputs": [],
   "source": [
    "test_loss, test_acc = network.evaluate(test_img, test_labels)"
   ]
  },
  {
   "cell_type": "code",
   "execution_count": null,
   "metadata": {
    "ExecuteTime": {
     "end_time": "2021-04-27T03:33:46.172719Z",
     "start_time": "2021-04-27T03:33:46.153719Z"
    }
   },
   "outputs": [],
   "source": [
    "test_acc"
   ]
  },
  {
   "cell_type": "code",
   "execution_count": null,
   "metadata": {
    "ExecuteTime": {
     "end_time": "2021-04-27T03:40:42.418606Z",
     "start_time": "2021-04-27T03:40:42.410610Z"
    }
   },
   "outputs": [],
   "source": [
    "from sklearn.neural_network import MLPClassifier\n",
    "\n",
    "model = MLPClassifier(hidden_layer_sizes=(512,), max_iter=5, batch_size=128, solver='adam')"
   ]
  },
  {
   "cell_type": "code",
   "execution_count": null,
   "metadata": {
    "ExecuteTime": {
     "end_time": "2021-04-27T03:43:22.710147Z",
     "start_time": "2021-04-27T03:43:22.473624Z"
    }
   },
   "outputs": [],
   "source": [
    "from tensorflow.keras.datasets import mnist\n",
    "(train_img, train_labels), (test_img, test_labels) = mnist.load_data()\n",
    "\n",
    "train_img = train_img.reshape((-1, 28*28))\n",
    "test_img = test_img.reshape((10000, 28*28))\n",
    "\n",
    "#원-핫 인코딩 하지 않음"
   ]
  },
  {
   "cell_type": "code",
   "execution_count": null,
   "metadata": {
    "ExecuteTime": {
     "end_time": "2021-04-27T03:44:24.711812Z",
     "start_time": "2021-04-27T03:43:36.953010Z"
    }
   },
   "outputs": [],
   "source": [
    "import numpy as np\n",
    "\n",
    "model.fit(train_img, train_labels)"
   ]
  },
  {
   "cell_type": "code",
   "execution_count": null,
   "metadata": {
    "ExecuteTime": {
     "end_time": "2021-04-27T03:44:30.017131Z",
     "start_time": "2021-04-27T03:44:29.866203Z"
    }
   },
   "outputs": [],
   "source": [
    "model.score(test_img, test_labels)"
   ]
  },
  {
   "cell_type": "markdown",
   "metadata": {},
   "source": [
    "## iris data\n",
    "### 사이킷런을 이용한 인공신경망"
   ]
  },
  {
   "cell_type": "code",
   "execution_count": null,
   "metadata": {
    "ExecuteTime": {
     "end_time": "2021-04-29T02:32:31.295038Z",
     "start_time": "2021-04-29T02:32:31.279413Z"
    }
   },
   "outputs": [],
   "source": [
    "import numpy as np\n",
    "import pandas as pd\n",
    "from sklearn import datasets\n",
    "\n",
    "iris = datasets.load_iris() #target이 종속 변수, data가 독립변수\n",
    "\n",
    "iris_X = iris.data\n",
    "iris_y = iris.target"
   ]
  },
  {
   "cell_type": "code",
   "execution_count": null,
   "metadata": {
    "ExecuteTime": {
     "end_time": "2021-04-29T02:32:44.267328Z",
     "start_time": "2021-04-29T02:32:44.259333Z"
    }
   },
   "outputs": [],
   "source": [
    "from sklearn.model_selection import train_test_split\n",
    "\n",
    "train_X, test_X, train_y, test_y = train_test_split(iris_X, iris_y, test_size=0.3)"
   ]
  },
  {
   "cell_type": "code",
   "execution_count": null,
   "metadata": {
    "ExecuteTime": {
     "end_time": "2021-04-29T02:32:44.661046Z",
     "start_time": "2021-04-29T02:32:44.644055Z"
    }
   },
   "outputs": [],
   "source": [
    "from sklearn.neural_network import MLPClassifier\n",
    "\n",
    "mlp = MLPClassifier(hidden_layer_sizes=(50, 50, 30), activation='relu', verbose=True)"
   ]
  },
  {
   "cell_type": "code",
   "execution_count": null,
   "metadata": {
    "ExecuteTime": {
     "end_time": "2021-04-29T02:32:45.355445Z",
     "start_time": "2021-04-29T02:32:45.104159Z"
    }
   },
   "outputs": [],
   "source": [
    "mlp.fit(train_X, train_y)"
   ]
  },
  {
   "cell_type": "code",
   "execution_count": null,
   "metadata": {
    "ExecuteTime": {
     "end_time": "2021-04-29T02:32:45.621292Z",
     "start_time": "2021-04-29T02:32:45.606302Z"
    }
   },
   "outputs": [],
   "source": [
    "mlp.score(test_X, test_y)"
   ]
  },
  {
   "cell_type": "markdown",
   "metadata": {},
   "source": [
    "### 텐서플로우를 이용한 인공신경망"
   ]
  },
  {
   "cell_type": "code",
   "execution_count": null,
   "metadata": {
    "ExecuteTime": {
     "end_time": "2021-04-29T02:08:02.118476Z",
     "start_time": "2021-04-29T02:08:02.100477Z"
    }
   },
   "outputs": [],
   "source": [
    "import tensorflow.compat.v1 as tf\n",
    "tf.disable_v2_behavior()"
   ]
  },
  {
   "cell_type": "code",
   "execution_count": null,
   "metadata": {
    "ExecuteTime": {
     "end_time": "2021-04-29T02:08:02.530203Z",
     "start_time": "2021-04-29T02:08:02.525207Z"
    }
   },
   "outputs": [],
   "source": [
    "import pandas as pd\n",
    "\n",
    "iris_y = pd.get_dummies(iris.target).to_numpy() # 원핫 인코딩 후 넘파이 배열로 바꾸기 "
   ]
  },
  {
   "cell_type": "code",
   "execution_count": null,
   "metadata": {
    "ExecuteTime": {
     "end_time": "2021-04-29T02:08:03.032157Z",
     "start_time": "2021-04-29T02:08:03.021163Z"
    }
   },
   "outputs": [],
   "source": [
    "train_X, test_X, train_y, test_y = train_test_split(iris_X, iris_y,test_size=0.3, random_state=1)"
   ]
  },
  {
   "cell_type": "code",
   "execution_count": null,
   "metadata": {
    "ExecuteTime": {
     "end_time": "2021-04-29T02:08:03.518115Z",
     "start_time": "2021-04-29T02:08:03.493130Z"
    }
   },
   "outputs": [],
   "source": [
    "# Tensor, Variable(W, b를 정의할 때), placeholder\n",
    "# h(출력값) = f(w*x + b)\n",
    "\n",
    "x = tf.placeholder(tf.float32, [None, 4])\n",
    "y = tf.placeholder(tf.float32, [None, 3])\n",
    "w = tf.Variable(tf.zeros([4,3])) #4행 3열을 0으로 채워주세요\n",
    "b = tf.Variable(tf.zeros([3]))"
   ]
  },
  {
   "cell_type": "code",
   "execution_count": null,
   "metadata": {
    "ExecuteTime": {
     "end_time": "2021-04-29T02:08:04.357588Z",
     "start_time": "2021-04-29T02:08:04.341597Z"
    }
   },
   "outputs": [],
   "source": [
    "h= tf.nn.softmax(tf.matmul(x, w) +b) # 행렬의 곱(matmul)  >> h 출력"
   ]
  },
  {
   "cell_type": "code",
   "execution_count": null,
   "metadata": {
    "ExecuteTime": {
     "end_time": "2021-04-29T02:08:04.942329Z",
     "start_time": "2021-04-29T02:08:04.924340Z"
    }
   },
   "outputs": [],
   "source": [
    "cross_entropy = -tf.reduce_sum(y * tf.log(h), reduction_indices=[1])  # reduction_indices는 axis와 동일함"
   ]
  },
  {
   "cell_type": "code",
   "execution_count": null,
   "metadata": {
    "ExecuteTime": {
     "end_time": "2021-04-29T02:08:05.320168Z",
     "start_time": "2021-04-29T02:08:05.301163Z"
    }
   },
   "outputs": [],
   "source": [
    "loss = tf.reduce_mean(cross_entropy)"
   ]
  },
  {
   "cell_type": "code",
   "execution_count": null,
   "metadata": {
    "ExecuteTime": {
     "end_time": "2021-04-29T02:08:05.748136Z",
     "start_time": "2021-04-29T02:08:05.700165Z"
    }
   },
   "outputs": [],
   "source": [
    "# loss 최소화\n",
    "train = tf.train.GradientDescentOptimizer(0.001).minimize(loss)"
   ]
  },
  {
   "cell_type": "code",
   "execution_count": null,
   "metadata": {
    "ExecuteTime": {
     "end_time": "2021-04-29T02:08:06.143136Z",
     "start_time": "2021-04-29T02:08:06.117161Z"
    }
   },
   "outputs": [],
   "source": [
    "init = tf.global_variables_initializer()\n",
    "sess = tf.Session()\n",
    "sess.run(init) #operation 실행"
   ]
  },
  {
   "cell_type": "code",
   "execution_count": null,
   "metadata": {
    "ExecuteTime": {
     "end_time": "2021-04-29T02:08:31.689992Z",
     "start_time": "2021-04-29T02:08:06.628151Z"
    }
   },
   "outputs": [],
   "source": [
    "for i in range(100000):\n",
    "    _, loss_value = sess.run([train, loss], feed_dict={x: train_X, y:train_y})\n",
    "    \n",
    "    if i% 10000 == 0:\n",
    "        print(f\"{i}, {loss_value}\")"
   ]
  },
  {
   "cell_type": "code",
   "execution_count": null,
   "metadata": {
    "ExecuteTime": {
     "end_time": "2021-04-29T02:08:40.700276Z",
     "start_time": "2021-04-29T02:08:40.684648Z"
    }
   },
   "outputs": [],
   "source": [
    "#예측\n",
    "pred = sess.run(h, feed_dict={x:test_X})"
   ]
  },
  {
   "cell_type": "code",
   "execution_count": null,
   "metadata": {
    "ExecuteTime": {
     "end_time": "2021-04-29T02:08:42.334654Z",
     "start_time": "2021-04-29T02:08:42.316666Z"
    }
   },
   "outputs": [],
   "source": [
    "np.argmax(pred, axis=1)"
   ]
  },
  {
   "cell_type": "code",
   "execution_count": null,
   "metadata": {
    "ExecuteTime": {
     "end_time": "2021-04-29T02:08:43.243369Z",
     "start_time": "2021-04-29T02:08:43.229367Z"
    }
   },
   "outputs": [],
   "source": [
    "np.argmax(test_y, axis=1)"
   ]
  },
  {
   "cell_type": "code",
   "execution_count": null,
   "metadata": {
    "ExecuteTime": {
     "end_time": "2021-04-29T02:08:44.677245Z",
     "start_time": "2021-04-29T02:08:44.653260Z"
    }
   },
   "outputs": [],
   "source": [
    "pd.crosstab(np.argmax(test_y, axis=1), np.argmax(pred, axis=1))"
   ]
  },
  {
   "cell_type": "markdown",
   "metadata": {},
   "source": [
    "### 케라스를 이용한 인공신경망 모형"
   ]
  },
  {
   "cell_type": "code",
   "execution_count": null,
   "metadata": {
    "ExecuteTime": {
     "end_time": "2021-04-28T01:30:27.942320Z",
     "start_time": "2021-04-28T01:30:27.925320Z"
    }
   },
   "outputs": [],
   "source": [
    "from tensorflow.keras.models import Sequential\n",
    "from tensorflow.keras.layers import Input, Dense"
   ]
  },
  {
   "cell_type": "code",
   "execution_count": null,
   "metadata": {
    "ExecuteTime": {
     "end_time": "2021-04-28T02:48:21.559867Z",
     "start_time": "2021-04-28T02:48:21.553858Z"
    }
   },
   "outputs": [],
   "source": [
    "train_X.shape, train_y.shape"
   ]
  },
  {
   "cell_type": "code",
   "execution_count": null,
   "metadata": {
    "ExecuteTime": {
     "end_time": "2021-04-28T02:27:12.529311Z",
     "start_time": "2021-04-28T02:27:12.514320Z"
    }
   },
   "outputs": [],
   "source": [
    "network = Sequential()"
   ]
  },
  {
   "cell_type": "code",
   "execution_count": null,
   "metadata": {
    "ExecuteTime": {
     "end_time": "2021-04-28T02:27:13.421140Z",
     "start_time": "2021-04-28T02:27:13.378386Z"
    }
   },
   "outputs": [],
   "source": [
    "from tensorflow.keras.activations import sigmoid\n",
    "from tensorflow.keras.layers import ELU, PReLU\n",
    "from tensorflow.keras.initializers import RandomNormal\n",
    "\n",
    "rand_init = RandomNormal(mean=0, stddev=0.1)\n",
    "network.add(Input(4))\n",
    "network.add(Dense(50, activation='sigmoid', kernel_initializer='he_normal'))\n",
    "network.add(Dense(50, activation=ELU(alpha=2)))\n",
    "network.add(Dense(30, activation=PReLU(), kernel_initializer=rand_init))\n",
    "network.add(Dense(3, activation='softmax'))"
   ]
  },
  {
   "cell_type": "code",
   "execution_count": null,
   "metadata": {
    "ExecuteTime": {
     "end_time": "2021-04-28T02:27:14.550571Z",
     "start_time": "2021-04-28T02:27:14.506517Z"
    }
   },
   "outputs": [],
   "source": [
    "#기본\n",
    "\n",
    "\n",
    "# network.add(Input(4))\n",
    "# network.add(Dense(50, activation='relu'))\n",
    "# network.add(Dense(50, activation='relu'))\n",
    "# network.add(Dense(30, activation='relu'))\n",
    "# network.add(Dense(3, activation='softmax'))"
   ]
  },
  {
   "cell_type": "code",
   "execution_count": null,
   "metadata": {
    "ExecuteTime": {
     "end_time": "2021-04-28T02:27:16.999480Z",
     "start_time": "2021-04-28T02:27:16.986488Z"
    }
   },
   "outputs": [],
   "source": [
    "network.compile(loss=\"categorical_crossentropy\", optimizer='adam', metrics=['accuracy'] )"
   ]
  },
  {
   "cell_type": "code",
   "execution_count": null,
   "metadata": {
    "ExecuteTime": {
     "end_time": "2021-04-28T02:27:19.539032Z",
     "start_time": "2021-04-28T02:27:17.530351Z"
    }
   },
   "outputs": [],
   "source": [
    "network.fit(train_X, train_y, batch_size=30, epochs=200, verbose=1)"
   ]
  },
  {
   "cell_type": "code",
   "execution_count": null,
   "metadata": {
    "ExecuteTime": {
     "end_time": "2021-04-28T02:27:19.853756Z",
     "start_time": "2021-04-28T02:27:19.636416Z"
    }
   },
   "outputs": [],
   "source": [
    "network.evaluate(test_X, test_y)"
   ]
  },
  {
   "cell_type": "code",
   "execution_count": null,
   "metadata": {
    "ExecuteTime": {
     "end_time": "2021-04-28T02:27:22.203502Z",
     "start_time": "2021-04-28T02:27:22.106082Z"
    }
   },
   "outputs": [],
   "source": [
    "pred = np.argmax(network.predict(test_X), axis=1)"
   ]
  },
  {
   "cell_type": "code",
   "execution_count": null,
   "metadata": {
    "ExecuteTime": {
     "end_time": "2021-04-28T02:27:24.170360Z",
     "start_time": "2021-04-28T02:27:24.146365Z"
    }
   },
   "outputs": [],
   "source": [
    "pd.crosstab(np.argmax(test_y, axis=1), pred)"
   ]
  },
  {
   "cell_type": "markdown",
   "metadata": {},
   "source": [
    "## 와인 데이터셋 분류\n",
    "\n",
    " \n",
    " - 레이어5개\n",
    " - 뉴런의 수 64, 128, 128, 64, 32\n",
    " - 활성화 함수 relu, elu, preu, sigmoid, relu\n",
    " - Weight 초기화 1~3 glorot_uniform, 4평균 0 표준편차 0.1인 난수 5 he_uniform\n",
    " - 손실함수 크로스엔트로피\n",
    " - 옵티마이저 Adam, 학습률 0.001, 배치 크기50, 학습횟수 200"
   ]
  },
  {
   "cell_type": "code",
   "execution_count": null,
   "metadata": {
    "ExecuteTime": {
     "end_time": "2021-04-28T03:13:11.831611Z",
     "start_time": "2021-04-28T03:13:10.751402Z"
    }
   },
   "outputs": [],
   "source": [
    "import numpy as np\n",
    "import pandas as pd\n",
    "from sklearn import datasets\n",
    "\n",
    "redwine = pd.read_csv('winequality-red.csv', sep=';')"
   ]
  },
  {
   "cell_type": "code",
   "execution_count": null,
   "metadata": {
    "ExecuteTime": {
     "end_time": "2021-04-28T03:13:12.331396Z",
     "start_time": "2021-04-28T03:13:12.299862Z"
    }
   },
   "outputs": [],
   "source": [
    "redwine.quality.value_counts()"
   ]
  },
  {
   "cell_type": "code",
   "execution_count": null,
   "metadata": {
    "ExecuteTime": {
     "end_time": "2021-04-28T03:13:14.490615Z",
     "start_time": "2021-04-28T03:13:14.480633Z"
    }
   },
   "outputs": [],
   "source": [
    "redwine_X = redwine.iloc[:, :-1].to_numpy()\n",
    "redwine_y = pd.get_dummies(redwine.iloc[:, -1]).to_numpy()"
   ]
  },
  {
   "cell_type": "code",
   "execution_count": null,
   "metadata": {
    "ExecuteTime": {
     "end_time": "2021-04-28T03:13:16.565513Z",
     "start_time": "2021-04-28T03:13:16.561505Z"
    }
   },
   "outputs": [],
   "source": [
    "redwine_y"
   ]
  },
  {
   "cell_type": "code",
   "execution_count": null,
   "metadata": {
    "ExecuteTime": {
     "end_time": "2021-04-28T03:42:23.146560Z",
     "start_time": "2021-04-28T03:42:23.130947Z"
    }
   },
   "outputs": [],
   "source": [
    "from sklearn.model_selection import train_test_split\n",
    "\n",
    "train_X, test_X, train_y, test_y = train_test_split(redwine_X, redwine_y, test_size=0.3, random_state=3)\n"
   ]
  },
  {
   "cell_type": "code",
   "execution_count": null,
   "metadata": {
    "ExecuteTime": {
     "end_time": "2021-04-28T03:42:23.571183Z",
     "start_time": "2021-04-28T03:42:23.554194Z"
    }
   },
   "outputs": [],
   "source": [
    "train_X.shape, train_y.shape"
   ]
  },
  {
   "cell_type": "code",
   "execution_count": null,
   "metadata": {
    "ExecuteTime": {
     "end_time": "2021-04-28T03:42:24.148637Z",
     "start_time": "2021-04-28T03:42:24.087666Z"
    }
   },
   "outputs": [],
   "source": [
    "from tensorflow.keras.models import Sequential\n",
    "from tensorflow.keras.layers import Input, Dense\n",
    "from tensorflow.keras.layers import ELU, PReLU\n",
    "from tensorflow.keras.initializers import RandomNormal\n",
    "\n",
    "rand_init = RandomNormal(mean=0, stddev=0.1)\n",
    "\n",
    "network = Sequential()\n",
    "\n",
    "network.add(Input(11))\n",
    "network.add(Dense(64, activation='relu', kernel_initializer='glorot_uniform'))\n",
    "network.add(Dense(128, activation=ELU(alpha=0.1), kernel_initializer='glorot_uniform'))\n",
    "network.add(Dense(256, activation=PReLU(), kernel_initializer='glorot_uniform'))\n",
    "network.add(Dense(128, activation='sigmoid', kernel_initializer=rand_init))\n",
    "network.add(Dense(32, activation='relu', kernel_initializer='he_uniform'))\n",
    "network.add(Dense(6, activation='softmax'))"
   ]
  },
  {
   "cell_type": "code",
   "execution_count": null,
   "metadata": {
    "ExecuteTime": {
     "end_time": "2021-04-28T03:42:24.647325Z",
     "start_time": "2021-04-28T03:42:24.632324Z"
    }
   },
   "outputs": [],
   "source": [
    "from tensorflow.keras.optimizers import Adam\n",
    "\n",
    "network.compile(loss='categorical_crossentropy', optimizer=Adam(0.001), metrics=['accuracy'])"
   ]
  },
  {
   "cell_type": "code",
   "execution_count": null,
   "metadata": {
    "ExecuteTime": {
     "end_time": "2021-04-28T03:42:32.915262Z",
     "start_time": "2021-04-28T03:42:25.133141Z"
    }
   },
   "outputs": [],
   "source": [
    "network.fit(train_X, train_y, batch_size=100, epochs=300, verbose=1)"
   ]
  },
  {
   "cell_type": "code",
   "execution_count": null,
   "metadata": {
    "ExecuteTime": {
     "end_time": "2021-04-28T03:42:33.215360Z",
     "start_time": "2021-04-28T03:42:33.028810Z"
    }
   },
   "outputs": [],
   "source": [
    "network.evaluate(test_X, test_y)"
   ]
  },
  {
   "cell_type": "code",
   "execution_count": null,
   "metadata": {
    "ExecuteTime": {
     "end_time": "2021-04-28T03:27:07.998462Z",
     "start_time": "2021-04-28T03:27:07.903997Z"
    }
   },
   "outputs": [],
   "source": [
    "pred = np.argmax(network.predict(test_X), axis=1)"
   ]
  },
  {
   "cell_type": "code",
   "execution_count": null,
   "metadata": {
    "ExecuteTime": {
     "end_time": "2021-04-28T03:27:08.843049Z",
     "start_time": "2021-04-28T03:27:08.816051Z"
    }
   },
   "outputs": [],
   "source": [
    "pd.crosstab(np.argmax(test_y, axis=1)+3, pred+3)"
   ]
  },
  {
   "cell_type": "code",
   "execution_count": null,
   "metadata": {
    "ExecuteTime": {
     "end_time": "2021-04-28T03:41:35.589204Z",
     "start_time": "2021-04-28T03:41:35.576202Z"
    }
   },
   "outputs": [],
   "source": [
    "network.summary()"
   ]
  },
  {
   "cell_type": "markdown",
   "metadata": {
    "ExecuteTime": {
     "end_time": "2021-04-28T02:56:45.690570Z",
     "start_time": "2021-04-28T02:56:45.674589Z"
    }
   },
   "source": [
    "## 필기체 이미지 분류"
   ]
  },
  {
   "cell_type": "markdown",
   "metadata": {},
   "source": [
    "### 케라스 Mnist"
   ]
  },
  {
   "cell_type": "code",
   "execution_count": null,
   "metadata": {
    "ExecuteTime": {
     "end_time": "2021-04-28T06:11:01.992238Z",
     "start_time": "2021-04-28T06:11:01.753637Z"
    }
   },
   "outputs": [],
   "source": [
    "from tensorflow.keras.datasets import mnist\n",
    "(train_img, train_labels), (test_img, test_labels) = mnist.load_data()"
   ]
  },
  {
   "cell_type": "code",
   "execution_count": null,
   "metadata": {
    "ExecuteTime": {
     "end_time": "2021-04-28T06:11:02.432969Z",
     "start_time": "2021-04-28T06:11:02.424983Z"
    }
   },
   "outputs": [],
   "source": [
    "#X의 모양을 입력 모양에 맞도록 수정\n",
    "\n",
    "train_img = train_img.reshape((-1, 28*28))\n",
    "test_img = test_img.reshape((10000, 28*28))\n",
    "\n",
    "#표준화\n",
    "train_img = train_img.astype('float32')/255\n",
    "test_img = test_img.astype('float32') / 255\n",
    "\n",
    "#y를 원-핫 인코딩 \n",
    "\n",
    "from tensorflow.keras.utils import to_categorical\n",
    "\n",
    "train_labels = to_categorical(train_labels)\n",
    "test_labels = to_categorical(test_labels)"
   ]
  },
  {
   "cell_type": "code",
   "execution_count": null,
   "metadata": {
    "ExecuteTime": {
     "end_time": "2021-04-28T06:13:33.529768Z",
     "start_time": "2021-04-28T06:13:33.472788Z"
    }
   },
   "outputs": [],
   "source": [
    "from tensorflow.keras.models import Sequential\n",
    "from tensorflow.keras.layers import Dense, Input\n",
    "\n",
    "model = Sequential()\n",
    "\n",
    "model.add(Dense(512, activation='relu', kernel_initializer='glorot_uniform', input_shape = (28*28,)))\n",
    "model.add(Dense(256, activation='relu', kernel_initializer='glorot_uniform'))\n",
    "model.add(Dense(218, activation='relu', kernel_initializer='glorot_uniform'))\n",
    "model.add(Dense(10, activation='softmax'))"
   ]
  },
  {
   "cell_type": "code",
   "execution_count": null,
   "metadata": {
    "ExecuteTime": {
     "end_time": "2021-04-28T06:13:34.422884Z",
     "start_time": "2021-04-28T06:13:34.408894Z"
    }
   },
   "outputs": [],
   "source": [
    "from tensorflow.keras.optimizers import Adam\n",
    "\n",
    "model.compile(loss='categorical_crossentropy', optimizer=Adam(0.0001), metrics=['acc'])"
   ]
  },
  {
   "cell_type": "code",
   "execution_count": null,
   "metadata": {
    "ExecuteTime": {
     "end_time": "2021-04-28T06:15:02.427679Z",
     "start_time": "2021-04-28T06:13:36.096899Z"
    }
   },
   "outputs": [],
   "source": [
    "model.fit(train_img, train_labels, batch_size=200, epochs=50, verbose=1)"
   ]
  },
  {
   "cell_type": "code",
   "execution_count": null,
   "metadata": {
    "ExecuteTime": {
     "end_time": "2021-04-28T06:15:14.151170Z",
     "start_time": "2021-04-28T06:15:13.492217Z"
    }
   },
   "outputs": [],
   "source": [
    "model.evaluate(test_img, test_labels)"
   ]
  },
  {
   "cell_type": "code",
   "execution_count": null,
   "metadata": {
    "ExecuteTime": {
     "end_time": "2021-04-28T06:19:26.079186Z",
     "start_time": "2021-04-28T06:19:25.769252Z"
    }
   },
   "outputs": [],
   "source": [
    "pred = np.argmax(model.predict(test_img), axis=1)"
   ]
  },
  {
   "cell_type": "code",
   "execution_count": null,
   "metadata": {
    "ExecuteTime": {
     "end_time": "2021-04-28T06:21:23.210410Z",
     "start_time": "2021-04-28T06:21:23.176422Z"
    }
   },
   "outputs": [],
   "source": [
    "import pandas as pd\n",
    "\n",
    "pd.crosstab(np.argmax(test_labels, axis=1), pred)"
   ]
  },
  {
   "cell_type": "markdown",
   "metadata": {},
   "source": [
    "### 사이킷런을 이용한 인공신경망 모형"
   ]
  },
  {
   "cell_type": "code",
   "execution_count": null,
   "metadata": {
    "ExecuteTime": {
     "end_time": "2021-04-28T06:26:07.419571Z",
     "start_time": "2021-04-28T06:26:07.381594Z"
    }
   },
   "outputs": [],
   "source": [
    "import cv2\n",
    "import numpy as np\n",
    "\n",
    "img = cv2.imread('./images/digits.png', cv2.IMREAD_GRAYSCALE)\n",
    "\n",
    "print(img.shape)"
   ]
  },
  {
   "cell_type": "code",
   "execution_count": null,
   "metadata": {
    "ExecuteTime": {
     "end_time": "2021-04-28T06:28:02.648552Z",
     "start_time": "2021-04-28T06:28:02.624567Z"
    }
   },
   "outputs": [],
   "source": [
    "cells = [np.hsplit(row, 100) for row in np.vsplit(img, 50)]\n",
    "x=np.array(cells)\n",
    "\n",
    "X = x[:,:].reshape(-1, 400).astype(np.float32)\n",
    "y = np.repeat(np.arange(10), 500)"
   ]
  },
  {
   "cell_type": "code",
   "execution_count": null,
   "metadata": {
    "ExecuteTime": {
     "end_time": "2021-04-28T06:29:17.322494Z",
     "start_time": "2021-04-28T06:29:17.304515Z"
    }
   },
   "outputs": [],
   "source": [
    "from sklearn.model_selection import train_test_split\n",
    "train_X, test_X, train_y, test_y = train_test_split(X, y, test_size=0.3, random_state=1)"
   ]
  },
  {
   "cell_type": "code",
   "execution_count": null,
   "metadata": {
    "ExecuteTime": {
     "end_time": "2021-04-28T06:30:20.899622Z",
     "start_time": "2021-04-28T06:30:20.888638Z"
    }
   },
   "outputs": [],
   "source": [
    "from sklearn.neural_network import MLPClassifier\n",
    "\n",
    "mlp = MLPClassifier(hidden_layer_sizes=(512, 256, 128))\n"
   ]
  },
  {
   "cell_type": "code",
   "execution_count": null,
   "metadata": {
    "ExecuteTime": {
     "end_time": "2021-04-28T06:30:57.815010Z",
     "start_time": "2021-04-28T06:30:54.320413Z"
    }
   },
   "outputs": [],
   "source": [
    "mlp.fit(train_X, train_y)"
   ]
  },
  {
   "cell_type": "code",
   "execution_count": null,
   "metadata": {
    "ExecuteTime": {
     "end_time": "2021-04-28T06:31:25.740526Z",
     "start_time": "2021-04-28T06:31:25.708626Z"
    }
   },
   "outputs": [],
   "source": [
    "mlp.score(test_X, test_y)"
   ]
  },
  {
   "cell_type": "markdown",
   "metadata": {},
   "source": [
    "### 텐서플로우를 이용한 인공신경망 모형"
   ]
  },
  {
   "cell_type": "code",
   "execution_count": null,
   "metadata": {
    "ExecuteTime": {
     "end_time": "2021-04-28T07:16:05.244276Z",
     "start_time": "2021-04-28T07:16:02.950751Z"
    }
   },
   "outputs": [],
   "source": [
    "import tensorflow.compat.v1 as tf\n",
    "tf.disable_v2_behavior()\n",
    "import numpy as np\n",
    "import pandas as pd\n",
    "import cv2\n",
    "\n",
    "img = cv2.imread('./images/digits.png', cv2.IMREAD_GRAYSCALE)\n",
    "\n",
    "print(img.shape)"
   ]
  },
  {
   "cell_type": "code",
   "execution_count": null,
   "metadata": {
    "ExecuteTime": {
     "end_time": "2021-04-28T07:16:05.452978Z",
     "start_time": "2021-04-28T07:16:05.421999Z"
    }
   },
   "outputs": [],
   "source": [
    "cells = [np.hsplit(row, 100) for row in np.vsplit(img, 50)]\n",
    "x=np.array(cells) /255.\n",
    "\n",
    "X = x[:,:].reshape(-1, 400).astype(np.float32)\n",
    "y = pd.get_dummies(np.repeat(np.arange(10), 500)).to_numpy()"
   ]
  },
  {
   "cell_type": "code",
   "execution_count": null,
   "metadata": {
    "ExecuteTime": {
     "end_time": "2021-04-28T07:16:46.650286Z",
     "start_time": "2021-04-28T07:16:45.834236Z"
    }
   },
   "outputs": [],
   "source": [
    "from sklearn.model_selection import train_test_split\n",
    "\n",
    "train_X, test_X, train_y, test_y = train_test_split(X, y, test_size=0.3, random_state=1)\n"
   ]
  },
  {
   "cell_type": "code",
   "execution_count": null,
   "metadata": {
    "ExecuteTime": {
     "end_time": "2021-04-28T07:17:24.863759Z",
     "start_time": "2021-04-28T07:17:24.848753Z"
    }
   },
   "outputs": [],
   "source": [
    "X.shape, y.shape"
   ]
  },
  {
   "cell_type": "code",
   "execution_count": null,
   "metadata": {
    "ExecuteTime": {
     "end_time": "2021-04-28T07:18:02.714775Z",
     "start_time": "2021-04-28T07:18:02.700667Z"
    }
   },
   "outputs": [],
   "source": [
    "x = tf.placeholder(tf.float32, [None, 400])\n",
    "y = tf.placeholder(tf.float32, [None, 10])  #None인 이유는 얼마를 넣을 지 모름"
   ]
  },
  {
   "cell_type": "code",
   "execution_count": null,
   "metadata": {
    "ExecuteTime": {
     "end_time": "2021-04-28T07:18:41.505089Z",
     "start_time": "2021-04-28T07:18:41.475966Z"
    }
   },
   "outputs": [],
   "source": [
    "w1 = tf.Variable(tf.truncated_normal([400, 512], stddev=0.1))\n",
    "b1 = tf.Variable(tf.constant(0.1, shape=[512]))\n",
    "h1 = tf.nn.relu(tf.matmul(x, w1) + b1)\n"
   ]
  },
  {
   "cell_type": "code",
   "execution_count": null,
   "metadata": {
    "ExecuteTime": {
     "end_time": "2021-04-28T07:19:23.567309Z",
     "start_time": "2021-04-28T07:19:23.552317Z"
    }
   },
   "outputs": [],
   "source": [
    "w2 = tf.Variable(tf.truncated_normal([512, 256], stddev=0.1))\n",
    "b2 = tf.Variable(tf.constant(0.1, shape=[256]))\n",
    "h2 = tf.nn.relu(tf.matmul(h1, w2) + b2)"
   ]
  },
  {
   "cell_type": "code",
   "execution_count": null,
   "metadata": {
    "ExecuteTime": {
     "end_time": "2021-04-28T07:20:04.678590Z",
     "start_time": "2021-04-28T07:20:04.649617Z"
    }
   },
   "outputs": [],
   "source": [
    "w3 = tf.Variable(tf.truncated_normal([256, 128], stddev=0.1))\n",
    "b3 = tf.Variable(tf.constant(0.1, shape=[128]))\n",
    "h3 = tf.nn.relu(tf.matmul(h2, w3) + b3)"
   ]
  },
  {
   "cell_type": "code",
   "execution_count": null,
   "metadata": {
    "ExecuteTime": {
     "end_time": "2021-04-28T07:20:43.169414Z",
     "start_time": "2021-04-28T07:20:43.154413Z"
    }
   },
   "outputs": [],
   "source": [
    "W = tf.Variable(tf.truncated_normal([128, 10], stddev=0.1))\n",
    "b = tf.Variable(tf.constant(0.1, shape=[10]))"
   ]
  },
  {
   "cell_type": "code",
   "execution_count": null,
   "metadata": {
    "ExecuteTime": {
     "end_time": "2021-04-28T07:21:19.995088Z",
     "start_time": "2021-04-28T07:21:19.980918Z"
    }
   },
   "outputs": [],
   "source": [
    "h = tf.nn.softmax(tf.matmul(h3, W) + b)"
   ]
  },
  {
   "cell_type": "code",
   "execution_count": null,
   "metadata": {
    "ExecuteTime": {
     "end_time": "2021-04-28T07:21:57.148504Z",
     "start_time": "2021-04-28T07:21:57.133487Z"
    }
   },
   "outputs": [],
   "source": [
    "cross_entropy = -tf.reduce_sum(y * tf.log(h), reduction_indices=[1])"
   ]
  },
  {
   "cell_type": "code",
   "execution_count": null,
   "metadata": {
    "ExecuteTime": {
     "end_time": "2021-04-28T07:22:34.223603Z",
     "start_time": "2021-04-28T07:22:34.130654Z"
    }
   },
   "outputs": [],
   "source": [
    "loss = tf.reduce_mean(cross_entropy)\n",
    "\n",
    "train = tf.train.GradientDescentOptimizer(0.05).minimize(loss)"
   ]
  },
  {
   "cell_type": "code",
   "execution_count": null,
   "metadata": {
    "ExecuteTime": {
     "end_time": "2021-04-28T07:23:12.656738Z",
     "start_time": "2021-04-28T07:23:12.610866Z"
    }
   },
   "outputs": [],
   "source": [
    "init = tf.global_variables_initializer()\n",
    "sess = tf.Session()\n",
    "sess.run(init)"
   ]
  },
  {
   "cell_type": "code",
   "execution_count": null,
   "metadata": {
    "ExecuteTime": {
     "end_time": "2021-04-28T07:25:09.825739Z",
     "start_time": "2021-04-28T07:23:49.856444Z"
    }
   },
   "outputs": [],
   "source": [
    "tot_cnt = len(train_X)\n",
    "\n",
    "for epoch in range(1000):\n",
    "    avg_loss = 0\n",
    "    batch_size=128\n",
    "    tot_iter = int(tot_cnt/batch_size)\n",
    "    for step in range(tot_iter):\n",
    "        batch_X = train_X[int(step*batch_size): int((step+1)*batch_size)]\n",
    "        batch_y = train_y[int(step*batch_size): int((step+1)*batch_size)]\n",
    "        _, loss_ = sess.run([train, loss], feed_dict={x:batch_X, y:batch_y})\n",
    "        avg_loss += (loss_/tot_iter)\n",
    "        print(\"{:03d} - {:f}\".format(step, loss_), end=\"\\r\")\n",
    "    if tot_cnt%tot_iter !=0:\n",
    "        batch_X = train_X[int(tot_iter*batch_size):]\n",
    "        batch_y = train_y[int(tot_iter*batch_size):]\n",
    "        _, loss_ = sess.run([train, loss], feed_dict={x:batch_X, y:batch_y})\n",
    "        avg_loss += (loss_/tot_iter)\n",
    "        print(\"{:03d} - {:f}\".format(step, loss_), end=\"\\r\")\n",
    "    if epoch % 100==0:\n",
    "        print(\"step {}, train loss {}\".format(epoch, avg_loss))"
   ]
  },
  {
   "cell_type": "code",
   "execution_count": null,
   "metadata": {
    "ExecuteTime": {
     "end_time": "2021-04-28T07:36:49.557103Z",
     "start_time": "2021-04-28T07:36:49.523131Z"
    }
   },
   "outputs": [],
   "source": [
    "correct_pred = tf.equal(tf.argmax(h, 1), tf.argmax(y,1))\n",
    "acc = tf.reduce_mean(tf.cast(correct_pred, tf.float32))\n",
    "print(sess.run(acc, feed_dict={x:test_X, y:test_y}))"
   ]
  },
  {
   "cell_type": "code",
   "execution_count": null,
   "metadata": {
    "ExecuteTime": {
     "end_time": "2021-04-28T07:39:33.515589Z",
     "start_time": "2021-04-28T07:39:33.430989Z"
    }
   },
   "outputs": [],
   "source": [
    "pred_y = sess.run(tf.argmax(h,1), feed_dict={x:test_X})\n",
    "cross_tab = pd.crosstab(test_y.argmax(axis=1), pred_y,margins=True)"
   ]
  },
  {
   "cell_type": "code",
   "execution_count": null,
   "metadata": {
    "ExecuteTime": {
     "end_time": "2021-04-28T07:40:12.267981Z",
     "start_time": "2021-04-28T07:40:12.243994Z"
    },
    "scrolled": true
   },
   "outputs": [],
   "source": [
    "cross_tab"
   ]
  },
  {
   "cell_type": "markdown",
   "metadata": {},
   "source": [
    "## 이론\n",
    "- 손실함수\n",
    " - ex)크로스 엔트로피, 바이너리 엔트로피, MSE, MAE\n",
    " 1. 정보량(information): 어떤 사건을 수치로 나타낸 것\n",
    " 2. 엔트로피(Entropy): 정보량의 기댓값\n",
    "- 옵티마이저\n",
    " 1. 확률적 경사 하강법 (Stochastic gradient descent, SGD) : 기울기를 줄이는 방법 >> 학습률을 1/10씩 줄이면 좋음\n",
    " 2. Momentum(관성, 탄성): 과거에 이동했던 방식을 기억하면서 그 방향으로 일정 정도를 추가적으로 이동 (알파: 0.9추천)\n",
    " 3. NAG(Nesterov Accelerated Gradient): Momentum방식의 빠른 이동 + 적절한 시점에 제동\n",
    " 4. adagrad(Adaptive Gradient): 변수를 업데이트할 때마다 step size를 다르게 설정 >> 자연어 처리에 효율성이 높음\n",
    " 5. RMSProp: 학습이 정체되는 단점을 극복 (베타값 지정 0.9 추천)\n",
    " 6. Adam(Adaptive Moment estimation): Momuntum + RMSProp"
   ]
  },
  {
   "cell_type": "code",
   "execution_count": null,
   "metadata": {
    "ExecuteTime": {
     "end_time": "2021-04-29T02:09:22.151607Z",
     "start_time": "2021-04-29T02:09:21.085045Z"
    }
   },
   "outputs": [],
   "source": [
    "#tf.ones\n",
    "#keras는 얼마나 학습시켜야 하는지 확인 accuracy로 확인\n",
    "#iris data\n",
    "\n",
    "import pandas as pd\n",
    "import numpy as np\n",
    "from sklearn import datasets\n",
    "\n",
    "iris = datasets.load_iris()\n",
    "iris_X = iris.data\n",
    "iris_y = iris.target"
   ]
  },
  {
   "cell_type": "code",
   "execution_count": null,
   "metadata": {
    "ExecuteTime": {
     "end_time": "2021-04-29T02:09:22.828736Z",
     "start_time": "2021-04-29T02:09:22.812736Z"
    }
   },
   "outputs": [],
   "source": [
    "iris_X.shape, iris_y.shape"
   ]
  },
  {
   "cell_type": "code",
   "execution_count": null,
   "metadata": {
    "ExecuteTime": {
     "end_time": "2021-04-29T02:09:24.327533Z",
     "start_time": "2021-04-29T02:09:24.292554Z"
    }
   },
   "outputs": [],
   "source": [
    "from sklearn.model_selection import train_test_split\n",
    "\n",
    "train_X, test_X, train_y, test_y = train_test_split(iris_X, iris_y, test_size=0.3)\n"
   ]
  },
  {
   "cell_type": "markdown",
   "metadata": {},
   "source": [
    "## iris 문제\n",
    "### MLP"
   ]
  },
  {
   "cell_type": "code",
   "execution_count": null,
   "metadata": {
    "ExecuteTime": {
     "end_time": "2021-04-29T02:32:58.139689Z",
     "start_time": "2021-04-29T02:32:57.196082Z"
    }
   },
   "outputs": [],
   "source": [
    "from sklearn.neural_network import MLPClassifier\n",
    "\n",
    "mlp =  MLPClassifier(hidden_layer_sizes=(50, 30, 3), max_iter=1000)\n",
    "\n",
    "mlp.fit(train_X, train_y)"
   ]
  },
  {
   "cell_type": "code",
   "execution_count": null,
   "metadata": {
    "ExecuteTime": {
     "end_time": "2021-04-29T02:33:06.030416Z",
     "start_time": "2021-04-29T02:33:06.012438Z"
    }
   },
   "outputs": [],
   "source": [
    "mlp.score(test_X, test_y)"
   ]
  },
  {
   "cell_type": "markdown",
   "metadata": {},
   "source": [
    "### Keras"
   ]
  },
  {
   "cell_type": "code",
   "execution_count": null,
   "metadata": {
    "ExecuteTime": {
     "end_time": "2021-04-29T02:31:04.617756Z",
     "start_time": "2021-04-29T02:31:04.516805Z"
    }
   },
   "outputs": [],
   "source": [
    "from tensorflow.keras.models import Sequential\n",
    "from tensorflow.keras.layers import Dense, Input\n",
    "\n",
    "model = Sequential()  #레이어 정의\n",
    "\n",
    "model.add(Input(4))\n",
    "model.add(Dense(50, activation='relu'))\n",
    "model.add(Dense(30, activation='relu'))\n",
    "model.add(Dense(3, activation='softmax'))\n",
    "\n",
    "model.compile(optimizer='adam', metrics=['acc'], loss='categorical_crossentropy')"
   ]
  },
  {
   "cell_type": "code",
   "execution_count": null,
   "metadata": {
    "ExecuteTime": {
     "end_time": "2021-04-29T02:31:04.633738Z",
     "start_time": "2021-04-29T02:31:04.619745Z"
    }
   },
   "outputs": [],
   "source": [
    "iris_y = pd.get_dummies(iris.target).to_numpy() # 원핫 인코딩 후 넘파이 배열로 바꾸기 "
   ]
  },
  {
   "cell_type": "code",
   "execution_count": null,
   "metadata": {
    "ExecuteTime": {
     "end_time": "2021-04-29T02:31:04.649728Z",
     "start_time": "2021-04-29T02:31:04.635735Z"
    }
   },
   "outputs": [],
   "source": [
    "train_X, test_X, train_y, test_y = train_test_split(iris_X, iris_y, test_size=0.3, random_state=1)"
   ]
  },
  {
   "cell_type": "code",
   "execution_count": null,
   "metadata": {
    "ExecuteTime": {
     "end_time": "2021-04-29T02:31:09.610886Z",
     "start_time": "2021-04-29T02:31:04.650729Z"
    }
   },
   "outputs": [],
   "source": [
    "model.fit(train_X, train_y, batch_size=50, epochs=1000)"
   ]
  },
  {
   "cell_type": "code",
   "execution_count": null,
   "metadata": {
    "ExecuteTime": {
     "end_time": "2021-04-29T02:31:09.658858Z",
     "start_time": "2021-04-29T02:31:09.611886Z"
    }
   },
   "outputs": [],
   "source": [
    "model.evaluate(test_X, test_y)"
   ]
  },
  {
   "cell_type": "markdown",
   "metadata": {},
   "source": [
    "### 텐서 플로우"
   ]
  },
  {
   "cell_type": "code",
   "execution_count": 12,
   "metadata": {
    "ExecuteTime": {
     "end_time": "2021-04-29T02:37:33.426745Z",
     "start_time": "2021-04-29T02:37:33.413744Z"
    }
   },
   "outputs": [],
   "source": [
    "import tensorflow.compat.v1 as tf\n",
    "tf.disable_v2_behavior()"
   ]
  },
  {
   "cell_type": "code",
   "execution_count": 13,
   "metadata": {
    "ExecuteTime": {
     "end_time": "2021-04-29T02:37:33.442736Z",
     "start_time": "2021-04-29T02:37:33.428736Z"
    }
   },
   "outputs": [],
   "source": [
    "import pandas as pd\n",
    "import numpy as np\n",
    "from sklearn import datasets\n",
    "from sklearn.model_selection import train_test_split\n",
    "\n",
    "iris = datasets.load_iris()\n",
    "iris_X = iris.data\n",
    "iris_y = pd.get_dummies(iris.target).to_numpy()\n",
    "\n",
    "train_X, test_X, train_y, test_y = train_test_split(iris_X, iris_y, test_size=0.3, random_state=1)"
   ]
  },
  {
   "cell_type": "code",
   "execution_count": 14,
   "metadata": {
    "ExecuteTime": {
     "end_time": "2021-04-29T02:37:33.458726Z",
     "start_time": "2021-04-29T02:37:33.444725Z"
    }
   },
   "outputs": [
    {
     "data": {
      "text/plain": [
       "((105, 4), (105, 3))"
      ]
     },
     "execution_count": 14,
     "metadata": {},
     "output_type": "execute_result"
    }
   ],
   "source": [
    "train_X.shape, train_y.shape"
   ]
  },
  {
   "cell_type": "code",
   "execution_count": 69,
   "metadata": {
    "ExecuteTime": {
     "end_time": "2021-04-29T02:42:03.779271Z",
     "start_time": "2021-04-29T02:42:03.771286Z"
    }
   },
   "outputs": [],
   "source": [
    "x = tf.placeholder(tf.float32, [None, 4]) #배치 사이즈를 몰라서 \n",
    "y = tf.placeholder(tf.float32, [None, 3])"
   ]
  },
  {
   "cell_type": "code",
   "execution_count": 70,
   "metadata": {
    "ExecuteTime": {
     "end_time": "2021-04-29T02:42:04.131097Z",
     "start_time": "2021-04-29T02:42:04.117077Z"
    }
   },
   "outputs": [],
   "source": [
    "w = tf.Variable(tf.zeros([4,60])) \n",
    "b = tf.Variable(tf.constant(0.1, shape=[60]))\n",
    "h = tf.nn.elu(tf.matmul(x, w) +b)\n"
   ]
  },
  {
   "cell_type": "code",
   "execution_count": 71,
   "metadata": {
    "ExecuteTime": {
     "end_time": "2021-04-29T02:42:04.431392Z",
     "start_time": "2021-04-29T02:42:04.417404Z"
    }
   },
   "outputs": [],
   "source": [
    "w1 = tf.Variable(tf.zeros([60,30])) \n",
    "b1 = tf.Variable(tf.constant(0.1, shape=[30]))\n",
    "h1 = tf.nn.tanh(tf.matmul(h, w1) +b1)"
   ]
  },
  {
   "cell_type": "code",
   "execution_count": 72,
   "metadata": {
    "ExecuteTime": {
     "end_time": "2021-04-29T02:42:04.729452Z",
     "start_time": "2021-04-29T02:42:04.715459Z"
    }
   },
   "outputs": [],
   "source": [
    "w2 = tf.Variable(tf.zeros([30,3])) \n",
    "b2 = tf.Variable(tf.zeros([3]))\n",
    "h2 = tf.nn.softmax(tf.matmul(h1, w2) +b2)"
   ]
  },
  {
   "cell_type": "code",
   "execution_count": 73,
   "metadata": {
    "ExecuteTime": {
     "end_time": "2021-04-29T02:42:05.031013Z",
     "start_time": "2021-04-29T02:42:05.016537Z"
    }
   },
   "outputs": [],
   "source": [
    "cross_entropy = -tf.reduce_sum(y * tf.log(h2), reduction_indices=[1])  # 손실 함수"
   ]
  },
  {
   "cell_type": "code",
   "execution_count": 74,
   "metadata": {
    "ExecuteTime": {
     "end_time": "2021-04-29T02:42:05.581104Z",
     "start_time": "2021-04-29T02:42:05.315913Z"
    }
   },
   "outputs": [],
   "source": [
    "loss = tf.reduce_mean(cross_entropy)\n",
    "train = tf.train.AdamOptimizer(0.002).minimize(loss)\n",
    "\n",
    "init = tf.global_variables_initializer()\n",
    "sess = tf.Session()\n",
    "sess.run(init) #operation 실행"
   ]
  },
  {
   "cell_type": "code",
   "execution_count": 75,
   "metadata": {
    "ExecuteTime": {
     "end_time": "2021-04-29T02:42:10.183625Z",
     "start_time": "2021-04-29T02:42:05.868407Z"
    }
   },
   "outputs": [
    {
     "name": "stdout",
     "output_type": "stream",
     "text": [
      "0, 1.0986123085021973\n",
      "2000, 0.05190877988934517\n",
      "4000, 0.05149796977639198\n",
      "6000, 0.051348794251680374\n",
      "8000, 0.05126173049211502\n"
     ]
    }
   ],
   "source": [
    "for i in range(10000):\n",
    "    _, loss_value = sess.run([train, loss], feed_dict={x: train_X, y:train_y})\n",
    "    \n",
    "    if i% 2000 == 0:\n",
    "        print(f\"{i}, {loss_value}\")\n"
   ]
  },
  {
   "cell_type": "code",
   "execution_count": 76,
   "metadata": {
    "ExecuteTime": {
     "end_time": "2021-04-29T02:42:10.860991Z",
     "start_time": "2021-04-29T02:42:10.796028Z"
    }
   },
   "outputs": [
    {
     "name": "stdout",
     "output_type": "stream",
     "text": [
      "1.0\n"
     ]
    }
   ],
   "source": [
    "# pred= sess.run(h2, feed_dict={x:test_X})\n",
    "\n",
    "correct_pred = tf.equal(tf.argmax(h2, 1), tf.argmax(y,1))\n",
    "acc = tf.reduce_mean(tf.cast(correct_pred, tf.float32))\n",
    "print(sess.run(acc, feed_dict={x:test_X, y:test_y}))\n"
   ]
  },
  {
   "cell_type": "code",
   "execution_count": null,
   "metadata": {
    "ExecuteTime": {
     "end_time": "2021-04-29T02:29:15.592127Z",
     "start_time": "2021-04-29T02:29:14.970554Z"
    }
   },
   "outputs": [],
   "source": []
  },
  {
   "cell_type": "code",
   "execution_count": null,
   "metadata": {
    "ExecuteTime": {
     "end_time": "2021-04-29T02:29:15.597124Z",
     "start_time": "2021-04-29T02:29:11.151Z"
    }
   },
   "outputs": [],
   "source": []
  },
  {
   "cell_type": "code",
   "execution_count": null,
   "metadata": {},
   "outputs": [],
   "source": []
  }
 ],
 "metadata": {
  "kernelspec": {
   "display_name": "Python 3",
   "language": "python",
   "name": "python3"
  },
  "language_info": {
   "codemirror_mode": {
    "name": "ipython",
    "version": 3
   },
   "file_extension": ".py",
   "mimetype": "text/x-python",
   "name": "python",
   "nbconvert_exporter": "python",
   "pygments_lexer": "ipython3",
   "version": "3.8.5"
  },
  "toc": {
   "base_numbering": 1,
   "nav_menu": {},
   "number_sections": true,
   "sideBar": true,
   "skip_h1_title": false,
   "title_cell": "Table of Contents",
   "title_sidebar": "Contents",
   "toc_cell": false,
   "toc_position": {
    "height": "calc(100% - 180px)",
    "left": "10px",
    "top": "150px",
    "width": "213.316px"
   },
   "toc_section_display": true,
   "toc_window_display": true
  },
  "varInspector": {
   "cols": {
    "lenName": 16,
    "lenType": 16,
    "lenVar": 40
   },
   "kernels_config": {
    "python": {
     "delete_cmd_postfix": "",
     "delete_cmd_prefix": "del ",
     "library": "var_list.py",
     "varRefreshCmd": "print(var_dic_list())"
    },
    "r": {
     "delete_cmd_postfix": ") ",
     "delete_cmd_prefix": "rm(",
     "library": "var_list.r",
     "varRefreshCmd": "cat(var_dic_list()) "
    }
   },
   "types_to_exclude": [
    "module",
    "function",
    "builtin_function_or_method",
    "instance",
    "_Feature"
   ],
   "window_display": false
  }
 },
 "nbformat": 4,
 "nbformat_minor": 4
}