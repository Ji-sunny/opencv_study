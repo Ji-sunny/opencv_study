{
 "cells": [
  {
   "cell_type": "markdown",
   "metadata": {},
   "source": [
    "# 텐서플로우\n",
    "## 텐서 플로우 설치 확인"
   ]
  },
  {
   "cell_type": "code",
   "execution_count": null,
   "metadata": {
    "ExecuteTime": {
     "end_time": "2021-04-27T02:22:08.632921Z",
     "start_time": "2021-04-27T02:22:08.501940Z"
    }
   },
   "outputs": [],
   "source": [
    "import tensorflow.compat.v1 as tf\n",
    "tf.disable_v2_behavior()  # 텐서플로우 2에 1을 적용하게끔 만드는 코드"
   ]
  },
  {
   "cell_type": "code",
   "execution_count": null,
   "metadata": {
    "ExecuteTime": {
     "end_time": "2021-04-27T02:22:01.261895Z",
     "start_time": "2021-04-27T02:21:58.795680Z"
    }
   },
   "outputs": [],
   "source": [
    "import tensorflow\n",
    "tensorflow.__version__"
   ]
  },
  {
   "cell_type": "code",
   "execution_count": null,
   "metadata": {
    "ExecuteTime": {
     "end_time": "2021-04-27T02:23:48.215030Z",
     "start_time": "2021-04-27T02:23:48.198041Z"
    }
   },
   "outputs": [],
   "source": [
    "hello = tf.constant(\"Hello Tensorflow\")"
   ]
  },
  {
   "cell_type": "code",
   "execution_count": null,
   "metadata": {
    "ExecuteTime": {
     "end_time": "2021-04-27T02:23:53.556431Z",
     "start_time": "2021-04-27T02:23:53.540797Z"
    }
   },
   "outputs": [],
   "source": [
    "hello"
   ]
  },
  {
   "cell_type": "code",
   "execution_count": null,
   "metadata": {
    "ExecuteTime": {
     "end_time": "2021-04-27T02:24:30.289783Z",
     "start_time": "2021-04-27T02:24:30.268786Z"
    }
   },
   "outputs": [],
   "source": [
    "session = tf.Session()\n",
    "print(session.run(hello))"
   ]
  },
  {
   "cell_type": "markdown",
   "metadata": {},
   "source": [
    "## 인공신경망 예제 (keras, MLPClassifier)"
   ]
  },
  {
   "cell_type": "code",
   "execution_count": null,
   "metadata": {
    "ExecuteTime": {
     "end_time": "2021-04-28T06:12:31.525656Z",
     "start_time": "2021-04-28T06:12:29.105536Z"
    }
   },
   "outputs": [],
   "source": [
    "from tensorflow.keras.datasets import mnist\n",
    "(train_img, train_labels), (test_img, test_labels) = mnist.load_data()"
   ]
  },
  {
   "cell_type": "code",
   "execution_count": null,
   "metadata": {
    "ExecuteTime": {
     "end_time": "2021-04-27T03:20:13.576875Z",
     "start_time": "2021-04-27T03:20:13.514533Z"
    }
   },
   "outputs": [],
   "source": [
    "from tensorflow.keras.models import Sequential\n",
    "from tensorflow.keras.layers import Dense\n",
    "\n",
    "network = Sequential()\n",
    "network.add(Dense(512, activation='relu', input_shape = (28*28,)))  #입력층: input_shape\n",
    "network.add(Dense(10, activation='softmax'))\n"
   ]
  },
  {
   "cell_type": "code",
   "execution_count": null,
   "metadata": {
    "ExecuteTime": {
     "end_time": "2021-04-27T03:21:28.244114Z",
     "start_time": "2021-04-27T03:21:28.179435Z"
    }
   },
   "outputs": [],
   "source": [
    "network.compile(optimizer='rmsprop', loss='categorical_crossentropy', metrics=['accuracy'])\n"
   ]
  },
  {
   "cell_type": "code",
   "execution_count": null,
   "metadata": {
    "ExecuteTime": {
     "end_time": "2021-04-28T06:12:34.458771Z",
     "start_time": "2021-04-28T06:12:34.320721Z"
    }
   },
   "outputs": [],
   "source": [
    "#X의 모양을 입력 모양에 맞도록 수정\n",
    "\n",
    "train_img = train_img.reshape((-1, 28*28))\n",
    "test_img = test_img.reshape((10000, 28*28))\n",
    "\n",
    "#표준화\n",
    "train_img = train_img.astype('float32')/255\n",
    "test_img = test_img.astype('float32') / 255"
   ]
  },
  {
   "cell_type": "code",
   "execution_count": null,
   "metadata": {
    "ExecuteTime": {
     "end_time": "2021-04-28T06:12:35.394961Z",
     "start_time": "2021-04-28T06:12:35.376961Z"
    }
   },
   "outputs": [],
   "source": [
    "#y를 원-핫 인코딩 \n",
    "\n",
    "from tensorflow.keras.utils import to_categorical\n",
    "\n",
    "train_labels = to_categorical(train_labels)\n",
    "test_labels = to_categorical(test_labels)"
   ]
  },
  {
   "cell_type": "code",
   "execution_count": null,
   "metadata": {
    "ExecuteTime": {
     "end_time": "2021-04-27T03:33:40.996313Z",
     "start_time": "2021-04-27T03:31:48.707061Z"
    }
   },
   "outputs": [],
   "source": [
    "network.fit(train_img, train_labels, epochs=50, batch_size=128)\n",
    "\n",
    "#128개 씩 가중치가 업데이트됨\n",
    "# 총 5번 실행된"
   ]
  },
  {
   "cell_type": "code",
   "execution_count": null,
   "metadata": {
    "ExecuteTime": {
     "end_time": "2021-04-27T03:33:45.172939Z",
     "start_time": "2021-04-27T03:33:45.009887Z"
    }
   },
   "outputs": [],
   "source": [
    "test_loss, test_acc = network.evaluate(test_img, test_labels)"
   ]
  },
  {
   "cell_type": "code",
   "execution_count": null,
   "metadata": {
    "ExecuteTime": {
     "end_time": "2021-04-27T03:33:46.172719Z",
     "start_time": "2021-04-27T03:33:46.153719Z"
    }
   },
   "outputs": [],
   "source": [
    "test_acc"
   ]
  },
  {
   "cell_type": "code",
   "execution_count": null,
   "metadata": {
    "ExecuteTime": {
     "end_time": "2021-04-27T03:40:42.418606Z",
     "start_time": "2021-04-27T03:40:42.410610Z"
    }
   },
   "outputs": [],
   "source": [
    "from sklearn.neural_network import MLPClassifier\n",
    "\n",
    "model = MLPClassifier(hidden_layer_sizes=(512,), max_iter=5, batch_size=128, solver='adam')"
   ]
  },
  {
   "cell_type": "code",
   "execution_count": null,
   "metadata": {
    "ExecuteTime": {
     "end_time": "2021-04-27T03:43:22.710147Z",
     "start_time": "2021-04-27T03:43:22.473624Z"
    }
   },
   "outputs": [],
   "source": [
    "from tensorflow.keras.datasets import mnist\n",
    "(train_img, train_labels), (test_img, test_labels) = mnist.load_data()\n",
    "\n",
    "train_img = train_img.reshape((-1, 28*28))\n",
    "test_img = test_img.reshape((10000, 28*28))\n",
    "\n",
    "#원-핫 인코딩 하지 않음"
   ]
  },
  {
   "cell_type": "code",
   "execution_count": null,
   "metadata": {
    "ExecuteTime": {
     "end_time": "2021-04-27T03:44:24.711812Z",
     "start_time": "2021-04-27T03:43:36.953010Z"
    }
   },
   "outputs": [],
   "source": [
    "import numpy as np\n",
    "\n",
    "model.fit(train_img, train_labels)"
   ]
  },
  {
   "cell_type": "code",
   "execution_count": null,
   "metadata": {
    "ExecuteTime": {
     "end_time": "2021-04-27T03:44:30.017131Z",
     "start_time": "2021-04-27T03:44:29.866203Z"
    }
   },
   "outputs": [],
   "source": [
    "model.score(test_img, test_labels)"
   ]
  },
  {
   "cell_type": "markdown",
   "metadata": {},
   "source": [
    "## iris data\n",
    "### 사이킷런을 이용한 인공신경망"
   ]
  },
  {
   "cell_type": "code",
   "execution_count": null,
   "metadata": {
    "ExecuteTime": {
     "end_time": "2021-04-28T02:48:15.149570Z",
     "start_time": "2021-04-28T02:48:15.138578Z"
    }
   },
   "outputs": [],
   "source": [
    "import numpy as np\n",
    "import pandas as pd\n",
    "from sklearn import datasets\n",
    "\n",
    "iris = datasets.load_iris() #target이 종속 변수, data가 독립변수\n",
    "\n",
    "iris_X = iris.data\n",
    "iris_y = iris.target"
   ]
  },
  {
   "cell_type": "code",
   "execution_count": null,
   "metadata": {
    "ExecuteTime": {
     "end_time": "2021-04-28T02:48:15.822642Z",
     "start_time": "2021-04-28T02:48:15.809650Z"
    }
   },
   "outputs": [],
   "source": [
    "from sklearn.model_selection import train_test_split\n",
    "\n",
    "train_X, test_X, train_y, test_y = train_test_split(iris_X, iris_y, test_size=0.3, random_state=1)"
   ]
  },
  {
   "cell_type": "code",
   "execution_count": null,
   "metadata": {
    "ExecuteTime": {
     "end_time": "2021-04-28T01:26:23.349225Z",
     "start_time": "2021-04-28T01:26:23.309251Z"
    }
   },
   "outputs": [],
   "source": [
    "from sklearn.neural_network import MLPClassifier\n",
    "\n",
    "mlp = MLPClassifier(hidden_layer_sizes=(50, 50, 30), activation='relu', verbose=True)"
   ]
  },
  {
   "cell_type": "code",
   "execution_count": null,
   "metadata": {
    "ExecuteTime": {
     "end_time": "2021-04-28T01:26:24.710280Z",
     "start_time": "2021-04-28T01:26:24.437178Z"
    }
   },
   "outputs": [],
   "source": [
    "mlp.fit(train_X, train_y)"
   ]
  },
  {
   "cell_type": "code",
   "execution_count": null,
   "metadata": {
    "ExecuteTime": {
     "end_time": "2021-04-28T01:26:25.844595Z",
     "start_time": "2021-04-28T01:26:25.837610Z"
    }
   },
   "outputs": [],
   "source": [
    "mlp.score(test_X, test_y)"
   ]
  },
  {
   "cell_type": "markdown",
   "metadata": {},
   "source": [
    "### 텐서플로우를 이용한 인공신경망"
   ]
  },
  {
   "cell_type": "code",
   "execution_count": null,
   "metadata": {
    "ExecuteTime": {
     "end_time": "2021-04-28T01:26:29.389347Z",
     "start_time": "2021-04-28T01:26:29.261593Z"
    }
   },
   "outputs": [],
   "source": [
    "import tensorflow.compat.v1 as tf\n",
    "tf.disable_v2_behavior()"
   ]
  },
  {
   "cell_type": "code",
   "execution_count": null,
   "metadata": {
    "ExecuteTime": {
     "end_time": "2021-04-28T02:48:17.982046Z",
     "start_time": "2021-04-28T02:48:17.970052Z"
    }
   },
   "outputs": [],
   "source": [
    "import pandas as pd\n",
    "\n",
    "iris_y = pd.get_dummies(iris.target).to_numpy() # 원핫 인코딩 후 넘파이 배열로 바꾸기 "
   ]
  },
  {
   "cell_type": "code",
   "execution_count": null,
   "metadata": {
    "ExecuteTime": {
     "end_time": "2021-04-28T02:48:18.247789Z",
     "start_time": "2021-04-28T02:48:18.233798Z"
    }
   },
   "outputs": [],
   "source": [
    "train_X, test_X, train_y, test_y = train_test_split(iris_X, iris_y,test_size=0.3, random_state=1)"
   ]
  },
  {
   "cell_type": "code",
   "execution_count": null,
   "metadata": {
    "ExecuteTime": {
     "end_time": "2021-04-28T01:26:33.402485Z",
     "start_time": "2021-04-28T01:26:33.381498Z"
    }
   },
   "outputs": [],
   "source": [
    "# Tensor, Variable(W, b를 정의할 때), placeholder\n",
    "# h(출력값) = f(w*x + b)\n",
    "\n",
    "x = tf.placeholder(tf.float32, [None, 4])\n",
    "y = tf.placeholder(tf.float32, [None, 3])\n",
    "w = tf.Variable(tf.zeros([4,3])) #4행 3열을 0으로 채워주세요\n",
    "b = tf.Variable(tf.zeros([3]))"
   ]
  },
  {
   "cell_type": "code",
   "execution_count": null,
   "metadata": {
    "ExecuteTime": {
     "end_time": "2021-04-27T05:45:27.211953Z",
     "start_time": "2021-04-27T05:45:27.196318Z"
    }
   },
   "outputs": [],
   "source": [
    "h= tf.nn.softmax(tf.matmul(x, w) +b) # 행렬의 곱(matmul)  >> h 출력"
   ]
  },
  {
   "cell_type": "code",
   "execution_count": null,
   "metadata": {
    "ExecuteTime": {
     "end_time": "2021-04-27T05:45:28.010032Z",
     "start_time": "2021-04-27T05:45:27.989055Z"
    }
   },
   "outputs": [],
   "source": [
    "cross_entropy = -tf.reduce_sum(y * tf.log(h), reduction_indices=[1])  # reduction_indices는 axis와 동일함"
   ]
  },
  {
   "cell_type": "code",
   "execution_count": null,
   "metadata": {
    "ExecuteTime": {
     "end_time": "2021-04-27T05:45:50.731036Z",
     "start_time": "2021-04-27T05:45:50.716054Z"
    }
   },
   "outputs": [],
   "source": [
    "loss = tf.reduce_mean(cross_entropy)"
   ]
  },
  {
   "cell_type": "code",
   "execution_count": null,
   "metadata": {
    "ExecuteTime": {
     "end_time": "2021-04-27T05:46:47.805011Z",
     "start_time": "2021-04-27T05:46:47.758028Z"
    }
   },
   "outputs": [],
   "source": [
    "# loss 최소화\n",
    "train = tf.train.GradientDescentOptimizer(0.001).minimize(loss)"
   ]
  },
  {
   "cell_type": "code",
   "execution_count": null,
   "metadata": {
    "ExecuteTime": {
     "end_time": "2021-04-27T05:48:09.085650Z",
     "start_time": "2021-04-27T05:48:09.037070Z"
    }
   },
   "outputs": [],
   "source": [
    "init = tf.global_variables_initializer()\n",
    "sess = tf.Session()\n",
    "sess.run(init) #operation 실행"
   ]
  },
  {
   "cell_type": "code",
   "execution_count": null,
   "metadata": {
    "ExecuteTime": {
     "end_time": "2021-04-27T05:50:42.710170Z",
     "start_time": "2021-04-27T05:50:17.589626Z"
    }
   },
   "outputs": [],
   "source": [
    "for i in range(100000):\n",
    "    _, loss_value = sess.run([train, loss], feed_dict={x: train_X, y:train_y})\n",
    "    \n",
    "    if i% 10000 == 0:\n",
    "        print(f\"{i}, {loss_value}\")"
   ]
  },
  {
   "cell_type": "code",
   "execution_count": null,
   "metadata": {
    "ExecuteTime": {
     "end_time": "2021-04-27T06:05:02.002208Z",
     "start_time": "2021-04-27T06:05:01.980220Z"
    }
   },
   "outputs": [],
   "source": [
    "#예측\n",
    "pred = sess.run(h, feed_dict={x:test_X})"
   ]
  },
  {
   "cell_type": "code",
   "execution_count": null,
   "metadata": {
    "ExecuteTime": {
     "end_time": "2021-04-27T06:05:45.041795Z",
     "start_time": "2021-04-27T06:05:45.028793Z"
    }
   },
   "outputs": [],
   "source": [
    "np.argmax(pred, axis=1)"
   ]
  },
  {
   "cell_type": "code",
   "execution_count": null,
   "metadata": {
    "ExecuteTime": {
     "end_time": "2021-04-27T06:06:10.713402Z",
     "start_time": "2021-04-27T06:06:10.708397Z"
    }
   },
   "outputs": [],
   "source": [
    "np.argmax(test_y, axis=1)"
   ]
  },
  {
   "cell_type": "code",
   "execution_count": null,
   "metadata": {
    "ExecuteTime": {
     "end_time": "2021-04-27T06:06:39.894547Z",
     "start_time": "2021-04-27T06:06:39.852561Z"
    }
   },
   "outputs": [],
   "source": [
    "pd.crosstab(np.argmax(test_y, axis=1), np.argmax(pred, axis=1))"
   ]
  },
  {
   "cell_type": "markdown",
   "metadata": {},
   "source": [
    "### 케라스를 이용한 인공신경망 모형"
   ]
  },
  {
   "cell_type": "code",
   "execution_count": null,
   "metadata": {
    "ExecuteTime": {
     "end_time": "2021-04-28T01:30:27.942320Z",
     "start_time": "2021-04-28T01:30:27.925320Z"
    }
   },
   "outputs": [],
   "source": [
    "from tensorflow.keras.models import Sequential\n",
    "from tensorflow.keras.layers import Input, Dense"
   ]
  },
  {
   "cell_type": "code",
   "execution_count": null,
   "metadata": {
    "ExecuteTime": {
     "end_time": "2021-04-28T02:48:21.559867Z",
     "start_time": "2021-04-28T02:48:21.553858Z"
    }
   },
   "outputs": [],
   "source": [
    "train_X.shape, train_y.shape"
   ]
  },
  {
   "cell_type": "code",
   "execution_count": null,
   "metadata": {
    "ExecuteTime": {
     "end_time": "2021-04-28T02:27:12.529311Z",
     "start_time": "2021-04-28T02:27:12.514320Z"
    }
   },
   "outputs": [],
   "source": [
    "network = Sequential()"
   ]
  },
  {
   "cell_type": "code",
   "execution_count": null,
   "metadata": {
    "ExecuteTime": {
     "end_time": "2021-04-28T02:27:13.421140Z",
     "start_time": "2021-04-28T02:27:13.378386Z"
    }
   },
   "outputs": [],
   "source": [
    "from tensorflow.keras.activations import sigmoid\n",
    "from tensorflow.keras.layers import ELU, PReLU\n",
    "from tensorflow.keras.initializers import RandomNormal\n",
    "\n",
    "rand_init = RandomNormal(mean=0, stddev=0.1)\n",
    "network.add(Input(4))\n",
    "network.add(Dense(50, activation='sigmoid', kernel_initializer='he_normal'))\n",
    "network.add(Dense(50, activation=ELU(alpha=2)))\n",
    "network.add(Dense(30, activation=PReLU(), kernel_initializer=rand_init))\n",
    "network.add(Dense(3, activation='softmax'))"
   ]
  },
  {
   "cell_type": "code",
   "execution_count": null,
   "metadata": {
    "ExecuteTime": {
     "end_time": "2021-04-28T02:27:14.550571Z",
     "start_time": "2021-04-28T02:27:14.506517Z"
    }
   },
   "outputs": [],
   "source": [
    "#기본\n",
    "\n",
    "\n",
    "# network.add(Input(4))\n",
    "# network.add(Dense(50, activation='relu'))\n",
    "# network.add(Dense(50, activation='relu'))\n",
    "# network.add(Dense(30, activation='relu'))\n",
    "# network.add(Dense(3, activation='softmax'))"
   ]
  },
  {
   "cell_type": "code",
   "execution_count": null,
   "metadata": {
    "ExecuteTime": {
     "end_time": "2021-04-28T02:27:16.999480Z",
     "start_time": "2021-04-28T02:27:16.986488Z"
    }
   },
   "outputs": [],
   "source": [
    "network.compile(loss=\"categorical_crossentropy\", optimizer='adam', metrics=['accuracy'] )"
   ]
  },
  {
   "cell_type": "code",
   "execution_count": null,
   "metadata": {
    "ExecuteTime": {
     "end_time": "2021-04-28T02:27:19.539032Z",
     "start_time": "2021-04-28T02:27:17.530351Z"
    }
   },
   "outputs": [],
   "source": [
    "network.fit(train_X, train_y, batch_size=30, epochs=200, verbose=1)"
   ]
  },
  {
   "cell_type": "code",
   "execution_count": null,
   "metadata": {
    "ExecuteTime": {
     "end_time": "2021-04-28T02:27:19.853756Z",
     "start_time": "2021-04-28T02:27:19.636416Z"
    }
   },
   "outputs": [],
   "source": [
    "network.evaluate(test_X, test_y)"
   ]
  },
  {
   "cell_type": "code",
   "execution_count": null,
   "metadata": {
    "ExecuteTime": {
     "end_time": "2021-04-28T02:27:22.203502Z",
     "start_time": "2021-04-28T02:27:22.106082Z"
    }
   },
   "outputs": [],
   "source": [
    "pred = np.argmax(network.predict(test_X), axis=1)"
   ]
  },
  {
   "cell_type": "code",
   "execution_count": null,
   "metadata": {
    "ExecuteTime": {
     "end_time": "2021-04-28T02:27:24.170360Z",
     "start_time": "2021-04-28T02:27:24.146365Z"
    }
   },
   "outputs": [],
   "source": [
    "pd.crosstab(np.argmax(test_y, axis=1), pred)"
   ]
  },
  {
   "cell_type": "markdown",
   "metadata": {},
   "source": [
    "## 와인 데이터셋 분류\n",
    "\n",
    " \n",
    " - 레이어5개\n",
    " - 뉴런의 수 64, 128, 128, 64, 32\n",
    " - 활성화 함수 relu, elu, preu, sigmoid, relu\n",
    " - Weight 초기화 1~3 glorot_uniform, 4평균 0 표준편차 0.1인 난수 5 he_uniform\n",
    " - 손실함수 크로스엔트로피\n",
    " - 옵티마이저 Adam, 학습률 0.001, 배치 크기50, 학습횟수 200"
   ]
  },
  {
   "cell_type": "code",
   "execution_count": null,
   "metadata": {
    "ExecuteTime": {
     "end_time": "2021-04-28T03:13:11.831611Z",
     "start_time": "2021-04-28T03:13:10.751402Z"
    }
   },
   "outputs": [],
   "source": [
    "import numpy as np\n",
    "import pandas as pd\n",
    "from sklearn import datasets\n",
    "\n",
    "redwine = pd.read_csv('winequality-red.csv', sep=';')"
   ]
  },
  {
   "cell_type": "code",
   "execution_count": null,
   "metadata": {
    "ExecuteTime": {
     "end_time": "2021-04-28T03:13:12.331396Z",
     "start_time": "2021-04-28T03:13:12.299862Z"
    }
   },
   "outputs": [],
   "source": [
    "redwine.quality.value_counts()"
   ]
  },
  {
   "cell_type": "code",
   "execution_count": null,
   "metadata": {
    "ExecuteTime": {
     "end_time": "2021-04-28T03:13:14.490615Z",
     "start_time": "2021-04-28T03:13:14.480633Z"
    }
   },
   "outputs": [],
   "source": [
    "redwine_X = redwine.iloc[:, :-1].to_numpy()\n",
    "redwine_y = pd.get_dummies(redwine.iloc[:, -1]).to_numpy()"
   ]
  },
  {
   "cell_type": "code",
   "execution_count": null,
   "metadata": {
    "ExecuteTime": {
     "end_time": "2021-04-28T03:13:16.565513Z",
     "start_time": "2021-04-28T03:13:16.561505Z"
    }
   },
   "outputs": [],
   "source": [
    "redwine_y"
   ]
  },
  {
   "cell_type": "code",
   "execution_count": null,
   "metadata": {
    "ExecuteTime": {
     "end_time": "2021-04-28T03:42:23.146560Z",
     "start_time": "2021-04-28T03:42:23.130947Z"
    }
   },
   "outputs": [],
   "source": [
    "from sklearn.model_selection import train_test_split\n",
    "\n",
    "train_X, test_X, train_y, test_y = train_test_split(redwine_X, redwine_y, test_size=0.3, random_state=3)\n"
   ]
  },
  {
   "cell_type": "code",
   "execution_count": null,
   "metadata": {
    "ExecuteTime": {
     "end_time": "2021-04-28T03:42:23.571183Z",
     "start_time": "2021-04-28T03:42:23.554194Z"
    }
   },
   "outputs": [],
   "source": [
    "train_X.shape, train_y.shape"
   ]
  },
  {
   "cell_type": "code",
   "execution_count": null,
   "metadata": {
    "ExecuteTime": {
     "end_time": "2021-04-28T03:42:24.148637Z",
     "start_time": "2021-04-28T03:42:24.087666Z"
    }
   },
   "outputs": [],
   "source": [
    "from tensorflow.keras.models import Sequential\n",
    "from tensorflow.keras.layers import Input, Dense\n",
    "from tensorflow.keras.layers import ELU, PReLU\n",
    "from tensorflow.keras.initializers import RandomNormal\n",
    "\n",
    "rand_init = RandomNormal(mean=0, stddev=0.1)\n",
    "\n",
    "network = Sequential()\n",
    "\n",
    "network.add(Input(11))\n",
    "network.add(Dense(64, activation='relu', kernel_initializer='glorot_uniform'))\n",
    "network.add(Dense(128, activation=ELU(alpha=0.1), kernel_initializer='glorot_uniform'))\n",
    "network.add(Dense(256, activation=PReLU(), kernel_initializer='glorot_uniform'))\n",
    "network.add(Dense(128, activation='sigmoid', kernel_initializer=rand_init))\n",
    "network.add(Dense(32, activation='relu', kernel_initializer='he_uniform'))\n",
    "network.add(Dense(6, activation='softmax'))"
   ]
  },
  {
   "cell_type": "code",
   "execution_count": null,
   "metadata": {
    "ExecuteTime": {
     "end_time": "2021-04-28T03:42:24.647325Z",
     "start_time": "2021-04-28T03:42:24.632324Z"
    }
   },
   "outputs": [],
   "source": [
    "from tensorflow.keras.optimizers import Adam\n",
    "\n",
    "network.compile(loss='categorical_crossentropy', optimizer=Adam(0.001), metrics=['accuracy'])"
   ]
  },
  {
   "cell_type": "code",
   "execution_count": null,
   "metadata": {
    "ExecuteTime": {
     "end_time": "2021-04-28T03:42:32.915262Z",
     "start_time": "2021-04-28T03:42:25.133141Z"
    }
   },
   "outputs": [],
   "source": [
    "network.fit(train_X, train_y, batch_size=100, epochs=300, verbose=1)"
   ]
  },
  {
   "cell_type": "code",
   "execution_count": null,
   "metadata": {
    "ExecuteTime": {
     "end_time": "2021-04-28T03:42:33.215360Z",
     "start_time": "2021-04-28T03:42:33.028810Z"
    }
   },
   "outputs": [],
   "source": [
    "network.evaluate(test_X, test_y)"
   ]
  },
  {
   "cell_type": "code",
   "execution_count": null,
   "metadata": {
    "ExecuteTime": {
     "end_time": "2021-04-28T03:27:07.998462Z",
     "start_time": "2021-04-28T03:27:07.903997Z"
    }
   },
   "outputs": [],
   "source": [
    "pred = np.argmax(network.predict(test_X), axis=1)"
   ]
  },
  {
   "cell_type": "code",
   "execution_count": null,
   "metadata": {
    "ExecuteTime": {
     "end_time": "2021-04-28T03:27:08.843049Z",
     "start_time": "2021-04-28T03:27:08.816051Z"
    }
   },
   "outputs": [],
   "source": [
    "pd.crosstab(np.argmax(test_y, axis=1)+3, pred+3)"
   ]
  },
  {
   "cell_type": "code",
   "execution_count": null,
   "metadata": {
    "ExecuteTime": {
     "end_time": "2021-04-28T03:41:35.589204Z",
     "start_time": "2021-04-28T03:41:35.576202Z"
    }
   },
   "outputs": [],
   "source": [
    "network.summary()"
   ]
  },
  {
   "cell_type": "markdown",
   "metadata": {
    "ExecuteTime": {
     "end_time": "2021-04-28T02:56:45.690570Z",
     "start_time": "2021-04-28T02:56:45.674589Z"
    }
   },
   "source": [
    "## 필기체 이미지 분류"
   ]
  },
  {
   "cell_type": "markdown",
   "metadata": {},
   "source": [
    "### 케라스 Mnist"
   ]
  },
  {
   "cell_type": "code",
   "execution_count": null,
   "metadata": {
    "ExecuteTime": {
     "end_time": "2021-04-28T06:11:01.992238Z",
     "start_time": "2021-04-28T06:11:01.753637Z"
    }
   },
   "outputs": [],
   "source": [
    "from tensorflow.keras.datasets import mnist\n",
    "(train_img, train_labels), (test_img, test_labels) = mnist.load_data()"
   ]
  },
  {
   "cell_type": "code",
   "execution_count": null,
   "metadata": {
    "ExecuteTime": {
     "end_time": "2021-04-28T06:11:02.432969Z",
     "start_time": "2021-04-28T06:11:02.424983Z"
    }
   },
   "outputs": [],
   "source": [
    "#X의 모양을 입력 모양에 맞도록 수정\n",
    "\n",
    "train_img = train_img.reshape((-1, 28*28))\n",
    "test_img = test_img.reshape((10000, 28*28))\n",
    "\n",
    "#표준화\n",
    "train_img = train_img.astype('float32')/255\n",
    "test_img = test_img.astype('float32') / 255\n",
    "\n",
    "#y를 원-핫 인코딩 \n",
    "\n",
    "from tensorflow.keras.utils import to_categorical\n",
    "\n",
    "train_labels = to_categorical(train_labels)\n",
    "test_labels = to_categorical(test_labels)"
   ]
  },
  {
   "cell_type": "code",
   "execution_count": null,
   "metadata": {
    "ExecuteTime": {
     "end_time": "2021-04-28T06:13:33.529768Z",
     "start_time": "2021-04-28T06:13:33.472788Z"
    }
   },
   "outputs": [],
   "source": [
    "from tensorflow.keras.models import Sequential\n",
    "from tensorflow.keras.layers import Dense, Input\n",
    "\n",
    "model = Sequential()\n",
    "\n",
    "model.add(Dense(512, activation='relu', kernel_initializer='glorot_uniform', input_shape = (28*28,)))\n",
    "model.add(Dense(256, activation='relu', kernel_initializer='glorot_uniform'))\n",
    "model.add(Dense(218, activation='relu', kernel_initializer='glorot_uniform'))\n",
    "model.add(Dense(10, activation='softmax'))"
   ]
  },
  {
   "cell_type": "code",
   "execution_count": null,
   "metadata": {
    "ExecuteTime": {
     "end_time": "2021-04-28T06:13:34.422884Z",
     "start_time": "2021-04-28T06:13:34.408894Z"
    }
   },
   "outputs": [],
   "source": [
    "from tensorflow.keras.optimizers import Adam\n",
    "\n",
    "model.compile(loss='categorical_crossentropy', optimizer=Adam(0.0001), metrics=['acc'])"
   ]
  },
  {
   "cell_type": "code",
   "execution_count": null,
   "metadata": {
    "ExecuteTime": {
     "end_time": "2021-04-28T06:15:02.427679Z",
     "start_time": "2021-04-28T06:13:36.096899Z"
    }
   },
   "outputs": [],
   "source": [
    "model.fit(train_img, train_labels, batch_size=200, epochs=50, verbose=1)"
   ]
  },
  {
   "cell_type": "code",
   "execution_count": null,
   "metadata": {
    "ExecuteTime": {
     "end_time": "2021-04-28T06:15:14.151170Z",
     "start_time": "2021-04-28T06:15:13.492217Z"
    }
   },
   "outputs": [],
   "source": [
    "model.evaluate(test_img, test_labels)"
   ]
  },
  {
   "cell_type": "code",
   "execution_count": null,
   "metadata": {
    "ExecuteTime": {
     "end_time": "2021-04-28T06:19:26.079186Z",
     "start_time": "2021-04-28T06:19:25.769252Z"
    }
   },
   "outputs": [],
   "source": [
    "pred = np.argmax(model.predict(test_img), axis=1)"
   ]
  },
  {
   "cell_type": "code",
   "execution_count": null,
   "metadata": {
    "ExecuteTime": {
     "end_time": "2021-04-28T06:21:23.210410Z",
     "start_time": "2021-04-28T06:21:23.176422Z"
    }
   },
   "outputs": [],
   "source": [
    "import pandas as pd\n",
    "\n",
    "pd.crosstab(np.argmax(test_labels, axis=1), pred)"
   ]
  },
  {
   "cell_type": "markdown",
   "metadata": {},
   "source": [
    "### 사이킷런을 이용한 인공신경망 모형"
   ]
  },
  {
   "cell_type": "code",
   "execution_count": null,
   "metadata": {
    "ExecuteTime": {
     "end_time": "2021-04-28T06:26:07.419571Z",
     "start_time": "2021-04-28T06:26:07.381594Z"
    }
   },
   "outputs": [],
   "source": [
    "import cv2\n",
    "import numpy as np\n",
    "\n",
    "img = cv2.imread('./images/digits.png', cv2.IMREAD_GRAYSCALE)\n",
    "\n",
    "print(img.shape)"
   ]
  },
  {
   "cell_type": "code",
   "execution_count": null,
   "metadata": {
    "ExecuteTime": {
     "end_time": "2021-04-28T06:28:02.648552Z",
     "start_time": "2021-04-28T06:28:02.624567Z"
    }
   },
   "outputs": [],
   "source": [
    "cells = [np.hsplit(row, 100) for row in np.vsplit(img, 50)]\n",
    "x=np.array(cells)\n",
    "\n",
    "X = x[:,:].reshape(-1, 400).astype(np.float32)\n",
    "y = np.repeat(np.arange(10), 500)"
   ]
  },
  {
   "cell_type": "code",
   "execution_count": null,
   "metadata": {
    "ExecuteTime": {
     "end_time": "2021-04-28T06:29:17.322494Z",
     "start_time": "2021-04-28T06:29:17.304515Z"
    }
   },
   "outputs": [],
   "source": [
    "from sklearn.model_selection import train_test_split\n",
    "train_X, test_X, train_y, test_y = train_test_split(X, y, test_size=0.3, random_state=1)"
   ]
  },
  {
   "cell_type": "code",
   "execution_count": null,
   "metadata": {
    "ExecuteTime": {
     "end_time": "2021-04-28T06:30:20.899622Z",
     "start_time": "2021-04-28T06:30:20.888638Z"
    }
   },
   "outputs": [],
   "source": [
    "from sklearn.neural_network import MLPClassifier\n",
    "\n",
    "mlp = MLPClassifier(hidden_layer_sizes=(512, 256, 128))\n"
   ]
  },
  {
   "cell_type": "code",
   "execution_count": null,
   "metadata": {
    "ExecuteTime": {
     "end_time": "2021-04-28T06:30:57.815010Z",
     "start_time": "2021-04-28T06:30:54.320413Z"
    }
   },
   "outputs": [],
   "source": [
    "mlp.fit(train_X, train_y)"
   ]
  },
  {
   "cell_type": "code",
   "execution_count": null,
   "metadata": {
    "ExecuteTime": {
     "end_time": "2021-04-28T06:31:25.740526Z",
     "start_time": "2021-04-28T06:31:25.708626Z"
    }
   },
   "outputs": [],
   "source": [
    "mlp.score(test_X, test_y)"
   ]
  },
  {
   "cell_type": "markdown",
   "metadata": {},
   "source": [
    "### 텐서플로우를 이용한 인공신경망 모형"
   ]
  },
  {
   "cell_type": "code",
   "execution_count": 1,
   "metadata": {
    "ExecuteTime": {
     "end_time": "2021-04-28T07:16:05.244276Z",
     "start_time": "2021-04-28T07:16:02.950751Z"
    }
   },
   "outputs": [
    {
     "name": "stdout",
     "output_type": "stream",
     "text": [
      "WARNING:tensorflow:From C:\\Users\\COM\\anaconda3\\lib\\site-packages\\tensorflow\\python\\compat\\v2_compat.py:96: disable_resource_variables (from tensorflow.python.ops.variable_scope) is deprecated and will be removed in a future version.\n",
      "Instructions for updating:\n",
      "non-resource variables are not supported in the long term\n",
      "(1000, 2000)\n"
     ]
    }
   ],
   "source": [
    "import tensorflow.compat.v1 as tf\n",
    "tf.disable_v2_behavior()\n",
    "import numpy as np\n",
    "import pandas as pd\n",
    "import cv2\n",
    "\n",
    "img = cv2.imread('./images/digits.png', cv2.IMREAD_GRAYSCALE)\n",
    "\n",
    "print(img.shape)"
   ]
  },
  {
   "cell_type": "code",
   "execution_count": 2,
   "metadata": {
    "ExecuteTime": {
     "end_time": "2021-04-28T07:16:05.452978Z",
     "start_time": "2021-04-28T07:16:05.421999Z"
    }
   },
   "outputs": [],
   "source": [
    "cells = [np.hsplit(row, 100) for row in np.vsplit(img, 50)]\n",
    "x=np.array(cells) /255.\n",
    "\n",
    "X = x[:,:].reshape(-1, 400).astype(np.float32)\n",
    "y = pd.get_dummies(np.repeat(np.arange(10), 500)).to_numpy()"
   ]
  },
  {
   "cell_type": "code",
   "execution_count": 3,
   "metadata": {
    "ExecuteTime": {
     "end_time": "2021-04-28T07:16:46.650286Z",
     "start_time": "2021-04-28T07:16:45.834236Z"
    }
   },
   "outputs": [],
   "source": [
    "from sklearn.model_selection import train_test_split\n",
    "\n",
    "train_X, test_X, train_y, test_y = train_test_split(X, y, test_size=0.3, random_state=1)\n"
   ]
  },
  {
   "cell_type": "code",
   "execution_count": 4,
   "metadata": {
    "ExecuteTime": {
     "end_time": "2021-04-28T07:17:24.863759Z",
     "start_time": "2021-04-28T07:17:24.848753Z"
    }
   },
   "outputs": [
    {
     "data": {
      "text/plain": [
       "((5000, 400), (5000, 10))"
      ]
     },
     "execution_count": 4,
     "metadata": {},
     "output_type": "execute_result"
    }
   ],
   "source": [
    "X.shape, y.shape"
   ]
  },
  {
   "cell_type": "code",
   "execution_count": 5,
   "metadata": {
    "ExecuteTime": {
     "end_time": "2021-04-28T07:18:02.714775Z",
     "start_time": "2021-04-28T07:18:02.700667Z"
    }
   },
   "outputs": [],
   "source": [
    "x = tf.placeholder(tf.float32, [None, 400])\n",
    "y = tf.placeholder(tf.float32, [None, 10])  #None인 이유는 얼마를 넣을 지 모름"
   ]
  },
  {
   "cell_type": "code",
   "execution_count": 6,
   "metadata": {
    "ExecuteTime": {
     "end_time": "2021-04-28T07:18:41.505089Z",
     "start_time": "2021-04-28T07:18:41.475966Z"
    }
   },
   "outputs": [],
   "source": [
    "w1 = tf.Variable(tf.truncated_normal([400, 512], stddev=0.1))\n",
    "b1 = tf.Variable(tf.constant(0.1, shape=[512]))\n",
    "h1 = tf.nn.relu(tf.matmul(x, w1) + b1)\n"
   ]
  },
  {
   "cell_type": "code",
   "execution_count": 7,
   "metadata": {
    "ExecuteTime": {
     "end_time": "2021-04-28T07:19:23.567309Z",
     "start_time": "2021-04-28T07:19:23.552317Z"
    }
   },
   "outputs": [],
   "source": [
    "w2 = tf.Variable(tf.truncated_normal([512, 256], stddev=0.1))\n",
    "b2 = tf.Variable(tf.constant(0.1, shape=[256]))\n",
    "h2 = tf.nn.relu(tf.matmul(h1, w2) + b2)"
   ]
  },
  {
   "cell_type": "code",
   "execution_count": 8,
   "metadata": {
    "ExecuteTime": {
     "end_time": "2021-04-28T07:20:04.678590Z",
     "start_time": "2021-04-28T07:20:04.649617Z"
    }
   },
   "outputs": [],
   "source": [
    "w3 = tf.Variable(tf.truncated_normal([256, 128], stddev=0.1))\n",
    "b3 = tf.Variable(tf.constant(0.1, shape=[128]))\n",
    "h3 = tf.nn.relu(tf.matmul(h2, w3) + b3)"
   ]
  },
  {
   "cell_type": "code",
   "execution_count": 9,
   "metadata": {
    "ExecuteTime": {
     "end_time": "2021-04-28T07:20:43.169414Z",
     "start_time": "2021-04-28T07:20:43.154413Z"
    }
   },
   "outputs": [],
   "source": [
    "W = tf.Variable(tf.truncated_normal([128, 10], stddev=0.1))\n",
    "b = tf.Variable(tf.constant(0.1, shape=[10]))"
   ]
  },
  {
   "cell_type": "code",
   "execution_count": 10,
   "metadata": {
    "ExecuteTime": {
     "end_time": "2021-04-28T07:21:19.995088Z",
     "start_time": "2021-04-28T07:21:19.980918Z"
    }
   },
   "outputs": [],
   "source": [
    "h = tf.nn.softmax(tf.matmul(h3, W) + b)"
   ]
  },
  {
   "cell_type": "code",
   "execution_count": 11,
   "metadata": {
    "ExecuteTime": {
     "end_time": "2021-04-28T07:21:57.148504Z",
     "start_time": "2021-04-28T07:21:57.133487Z"
    }
   },
   "outputs": [],
   "source": [
    "cross_entropy = -tf.reduce_sum(y * tf.log(h), reduction_indices=[1])"
   ]
  },
  {
   "cell_type": "code",
   "execution_count": 12,
   "metadata": {
    "ExecuteTime": {
     "end_time": "2021-04-28T07:22:34.223603Z",
     "start_time": "2021-04-28T07:22:34.130654Z"
    }
   },
   "outputs": [],
   "source": [
    "loss = tf.reduce_mean(cross_entropy)\n",
    "\n",
    "train = tf.train.GradientDescentOptimizer(0.05).minimize(loss)"
   ]
  },
  {
   "cell_type": "code",
   "execution_count": 13,
   "metadata": {
    "ExecuteTime": {
     "end_time": "2021-04-28T07:23:12.656738Z",
     "start_time": "2021-04-28T07:23:12.610866Z"
    }
   },
   "outputs": [],
   "source": [
    "init = tf.global_variables_initializer()\n",
    "sess = tf.Session()\n",
    "sess.run(init)"
   ]
  },
  {
   "cell_type": "code",
   "execution_count": 14,
   "metadata": {
    "ExecuteTime": {
     "end_time": "2021-04-28T07:25:09.825739Z",
     "start_time": "2021-04-28T07:23:49.856444Z"
    }
   },
   "outputs": [
    {
     "name": "stdout",
     "output_type": "stream",
     "text": [
      "step 0, train loss 1.7277011076609292\n",
      "step 100, train loss 0.005881198017892462\n",
      "step 200, train loss 0.0017884826983963313\n",
      "step 300, train loss 0.0009741806042492735\n",
      "step 400, train loss 0.0006485185828447964\n",
      "step 500, train loss 0.0004776148144392884\n",
      "step 600, train loss 0.00037400447736554606\n",
      "step 700, train loss 0.0003051331594987358\n",
      "step 800, train loss 0.00025624070110131505\n",
      "step 900, train loss 0.00021997318415540375\n",
      "026 - 0.000041\r"
     ]
    }
   ],
   "source": [
    "tot_cnt = len(train_X)\n",
    "\n",
    "for epoch in range(1000):\n",
    "    avg_loss = 0\n",
    "    batch_size=128\n",
    "    tot_iter = int(tot_cnt/batch_size)\n",
    "    for step in range(tot_iter):\n",
    "        batch_X = train_X[int(step*batch_size): int((step+1)*batch_size)]\n",
    "        batch_y = train_y[int(step*batch_size): int((step+1)*batch_size)]\n",
    "        _, loss_ = sess.run([train, loss], feed_dict={x:batch_X, y:batch_y})\n",
    "        avg_loss += (loss_/tot_iter)\n",
    "        print(\"{:03d} - {:f}\".format(step, loss_), end=\"\\r\")\n",
    "    if tot_cnt%tot_iter !=0:\n",
    "        batch_X = train_X[int(tot_iter*batch_size):]\n",
    "        batch_y = train_y[int(tot_iter*batch_size):]\n",
    "        _, loss_ = sess.run([train, loss], feed_dict={x:batch_X, y:batch_y})\n",
    "        avg_loss += (loss_/tot_iter)\n",
    "        print(\"{:03d} - {:f}\".format(step, loss_), end=\"\\r\")\n",
    "    if epoch % 100==0:\n",
    "        print(\"step {}, train loss {}\".format(epoch, avg_loss))"
   ]
  },
  {
   "cell_type": "code",
   "execution_count": 16,
   "metadata": {
    "ExecuteTime": {
     "end_time": "2021-04-28T07:36:49.557103Z",
     "start_time": "2021-04-28T07:36:49.523131Z"
    }
   },
   "outputs": [
    {
     "name": "stdout",
     "output_type": "stream",
     "text": [
      "0.94133335\n"
     ]
    }
   ],
   "source": [
    "correct_pred = tf.equal(tf.argmax(h, 1), tf.argmax(y,1))\n",
    "acc = tf.reduce_mean(tf.cast(correct_pred, tf.float32))\n",
    "print(sess.run(acc, feed_dict={x:test_X, y:test_y}))"
   ]
  },
  {
   "cell_type": "code",
   "execution_count": 20,
   "metadata": {
    "ExecuteTime": {
     "end_time": "2021-04-28T07:39:33.515589Z",
     "start_time": "2021-04-28T07:39:33.430989Z"
    }
   },
   "outputs": [],
   "source": [
    "pred_y = sess.run(tf.argmax(h,1), feed_dict={x:test_X})\n",
    "cross_tab = pd.crosstab(test_y.argmax(axis=1), pred_y,margins=True)"
   ]
  },
  {
   "cell_type": "code",
   "execution_count": 21,
   "metadata": {
    "ExecuteTime": {
     "end_time": "2021-04-28T07:40:12.267981Z",
     "start_time": "2021-04-28T07:40:12.243994Z"
    }
   },
   "outputs": [
    {
     "data": {
      "text/html": [
       "<div>\n",
       "<style scoped>\n",
       "    .dataframe tbody tr th:only-of-type {\n",
       "        vertical-align: middle;\n",
       "    }\n",
       "\n",
       "    .dataframe tbody tr th {\n",
       "        vertical-align: top;\n",
       "    }\n",
       "\n",
       "    .dataframe thead th {\n",
       "        text-align: right;\n",
       "    }\n",
       "</style>\n",
       "<table border=\"1\" class=\"dataframe\">\n",
       "  <thead>\n",
       "    <tr style=\"text-align: right;\">\n",
       "      <th>col_0</th>\n",
       "      <th>0</th>\n",
       "      <th>1</th>\n",
       "      <th>2</th>\n",
       "      <th>3</th>\n",
       "      <th>4</th>\n",
       "      <th>5</th>\n",
       "      <th>6</th>\n",
       "      <th>7</th>\n",
       "      <th>8</th>\n",
       "      <th>9</th>\n",
       "      <th>All</th>\n",
       "    </tr>\n",
       "    <tr>\n",
       "      <th>row_0</th>\n",
       "      <th></th>\n",
       "      <th></th>\n",
       "      <th></th>\n",
       "      <th></th>\n",
       "      <th></th>\n",
       "      <th></th>\n",
       "      <th></th>\n",
       "      <th></th>\n",
       "      <th></th>\n",
       "      <th></th>\n",
       "      <th></th>\n",
       "    </tr>\n",
       "  </thead>\n",
       "  <tbody>\n",
       "    <tr>\n",
       "      <th>0</th>\n",
       "      <td>152</td>\n",
       "      <td>0</td>\n",
       "      <td>0</td>\n",
       "      <td>0</td>\n",
       "      <td>0</td>\n",
       "      <td>1</td>\n",
       "      <td>0</td>\n",
       "      <td>2</td>\n",
       "      <td>0</td>\n",
       "      <td>0</td>\n",
       "      <td>155</td>\n",
       "    </tr>\n",
       "    <tr>\n",
       "      <th>1</th>\n",
       "      <td>0</td>\n",
       "      <td>148</td>\n",
       "      <td>0</td>\n",
       "      <td>0</td>\n",
       "      <td>0</td>\n",
       "      <td>1</td>\n",
       "      <td>0</td>\n",
       "      <td>0</td>\n",
       "      <td>0</td>\n",
       "      <td>0</td>\n",
       "      <td>149</td>\n",
       "    </tr>\n",
       "    <tr>\n",
       "      <th>2</th>\n",
       "      <td>1</td>\n",
       "      <td>2</td>\n",
       "      <td>138</td>\n",
       "      <td>2</td>\n",
       "      <td>3</td>\n",
       "      <td>1</td>\n",
       "      <td>0</td>\n",
       "      <td>4</td>\n",
       "      <td>1</td>\n",
       "      <td>0</td>\n",
       "      <td>152</td>\n",
       "    </tr>\n",
       "    <tr>\n",
       "      <th>3</th>\n",
       "      <td>0</td>\n",
       "      <td>3</td>\n",
       "      <td>2</td>\n",
       "      <td>161</td>\n",
       "      <td>0</td>\n",
       "      <td>2</td>\n",
       "      <td>0</td>\n",
       "      <td>2</td>\n",
       "      <td>1</td>\n",
       "      <td>0</td>\n",
       "      <td>171</td>\n",
       "    </tr>\n",
       "    <tr>\n",
       "      <th>4</th>\n",
       "      <td>0</td>\n",
       "      <td>0</td>\n",
       "      <td>3</td>\n",
       "      <td>0</td>\n",
       "      <td>121</td>\n",
       "      <td>0</td>\n",
       "      <td>0</td>\n",
       "      <td>0</td>\n",
       "      <td>1</td>\n",
       "      <td>5</td>\n",
       "      <td>130</td>\n",
       "    </tr>\n",
       "    <tr>\n",
       "      <th>5</th>\n",
       "      <td>0</td>\n",
       "      <td>1</td>\n",
       "      <td>2</td>\n",
       "      <td>3</td>\n",
       "      <td>1</td>\n",
       "      <td>138</td>\n",
       "      <td>2</td>\n",
       "      <td>0</td>\n",
       "      <td>0</td>\n",
       "      <td>1</td>\n",
       "      <td>148</td>\n",
       "    </tr>\n",
       "    <tr>\n",
       "      <th>6</th>\n",
       "      <td>1</td>\n",
       "      <td>0</td>\n",
       "      <td>0</td>\n",
       "      <td>0</td>\n",
       "      <td>1</td>\n",
       "      <td>3</td>\n",
       "      <td>130</td>\n",
       "      <td>0</td>\n",
       "      <td>0</td>\n",
       "      <td>0</td>\n",
       "      <td>135</td>\n",
       "    </tr>\n",
       "    <tr>\n",
       "      <th>7</th>\n",
       "      <td>1</td>\n",
       "      <td>2</td>\n",
       "      <td>1</td>\n",
       "      <td>2</td>\n",
       "      <td>1</td>\n",
       "      <td>1</td>\n",
       "      <td>0</td>\n",
       "      <td>151</td>\n",
       "      <td>0</td>\n",
       "      <td>1</td>\n",
       "      <td>160</td>\n",
       "    </tr>\n",
       "    <tr>\n",
       "      <th>8</th>\n",
       "      <td>0</td>\n",
       "      <td>2</td>\n",
       "      <td>1</td>\n",
       "      <td>2</td>\n",
       "      <td>2</td>\n",
       "      <td>3</td>\n",
       "      <td>1</td>\n",
       "      <td>0</td>\n",
       "      <td>144</td>\n",
       "      <td>1</td>\n",
       "      <td>156</td>\n",
       "    </tr>\n",
       "    <tr>\n",
       "      <th>9</th>\n",
       "      <td>1</td>\n",
       "      <td>1</td>\n",
       "      <td>0</td>\n",
       "      <td>1</td>\n",
       "      <td>5</td>\n",
       "      <td>0</td>\n",
       "      <td>0</td>\n",
       "      <td>4</td>\n",
       "      <td>3</td>\n",
       "      <td>129</td>\n",
       "      <td>144</td>\n",
       "    </tr>\n",
       "    <tr>\n",
       "      <th>All</th>\n",
       "      <td>156</td>\n",
       "      <td>159</td>\n",
       "      <td>147</td>\n",
       "      <td>171</td>\n",
       "      <td>134</td>\n",
       "      <td>150</td>\n",
       "      <td>133</td>\n",
       "      <td>163</td>\n",
       "      <td>150</td>\n",
       "      <td>137</td>\n",
       "      <td>1500</td>\n",
       "    </tr>\n",
       "  </tbody>\n",
       "</table>\n",
       "</div>"
      ],
      "text/plain": [
       "col_0    0    1    2    3    4    5    6    7    8    9   All\n",
       "row_0                                                        \n",
       "0      152    0    0    0    0    1    0    2    0    0   155\n",
       "1        0  148    0    0    0    1    0    0    0    0   149\n",
       "2        1    2  138    2    3    1    0    4    1    0   152\n",
       "3        0    3    2  161    0    2    0    2    1    0   171\n",
       "4        0    0    3    0  121    0    0    0    1    5   130\n",
       "5        0    1    2    3    1  138    2    0    0    1   148\n",
       "6        1    0    0    0    1    3  130    0    0    0   135\n",
       "7        1    2    1    2    1    1    0  151    0    1   160\n",
       "8        0    2    1    2    2    3    1    0  144    1   156\n",
       "9        1    1    0    1    5    0    0    4    3  129   144\n",
       "All    156  159  147  171  134  150  133  163  150  137  1500"
      ]
     },
     "execution_count": 21,
     "metadata": {},
     "output_type": "execute_result"
    }
   ],
   "source": [
    "cross_tab"
   ]
  },
  {
   "cell_type": "code",
   "execution_count": null,
   "metadata": {},
   "outputs": [],
   "source": []
  }
 ],
 "metadata": {
  "kernelspec": {
   "display_name": "Python 3",
   "language": "python",
   "name": "python3"
  },
  "language_info": {
   "codemirror_mode": {
    "name": "ipython",
    "version": 3
   },
   "file_extension": ".py",
   "mimetype": "text/x-python",
   "name": "python",
   "nbconvert_exporter": "python",
   "pygments_lexer": "ipython3",
   "version": "3.8.5"
  },
  "toc": {
   "base_numbering": 1,
   "nav_menu": {},
   "number_sections": true,
   "sideBar": true,
   "skip_h1_title": false,
   "title_cell": "Table of Contents",
   "title_sidebar": "Contents",
   "toc_cell": false,
   "toc_position": {
    "height": "calc(100% - 180px)",
    "left": "10px",
    "top": "150px",
    "width": "213.333px"
   },
   "toc_section_display": true,
   "toc_window_display": true
  },
  "varInspector": {
   "cols": {
    "lenName": 16,
    "lenType": 16,
    "lenVar": 40
   },
   "kernels_config": {
    "python": {
     "delete_cmd_postfix": "",
     "delete_cmd_prefix": "del ",
     "library": "var_list.py",
     "varRefreshCmd": "print(var_dic_list())"
    },
    "r": {
     "delete_cmd_postfix": ") ",
     "delete_cmd_prefix": "rm(",
     "library": "var_list.r",
     "varRefreshCmd": "cat(var_dic_list()) "
    }
   },
   "types_to_exclude": [
    "module",
    "function",
    "builtin_function_or_method",
    "instance",
    "_Feature"
   ],
   "window_display": false
  }
 },
 "nbformat": 4,
 "nbformat_minor": 4
}