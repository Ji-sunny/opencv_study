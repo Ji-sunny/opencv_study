{
 "cells": [
  {
   "cell_type": "code",
   "execution_count": 1,
   "metadata": {},
   "outputs": [
    {
     "name": "stdout",
     "output_type": "stream",
     "text": [
      "WARNING:tensorflow:From C:\\Users\\COM\\anaconda3\\lib\\site-packages\\tensorflow\\python\\compat\\v2_compat.py:96: disable_resource_variables (from tensorflow.python.ops.variable_scope) is deprecated and will be removed in a future version.\n",
      "Instructions for updating:\n",
      "non-resource variables are not supported in the long term\n"
     ]
    }
   ],
   "source": [
    "import gym\n",
    "import numpy as np\n",
    "import matplotlib.pyplot as plt\n",
    "from gym.envs.registration import register\n",
    "import random as pr\n",
    "# import tensorflow as tf\n",
    "import tensorflow.compat.v1 as tf\n",
    "tf.disable_v2_behavior()\n",
    "\n",
    "def one_hot(x):\n",
    "    return np.identity(16)[x:x+1]\n",
    "\n",
    "def rargmax(vector):\n",
    "    m = np.amax(vector)\n",
    "    indices = np.nonzero(vector==m)[0]\n",
    "    return pr.choice(indices)\n",
    "\n",
    "register(\n",
    "    id='FrozenLake-v3',\n",
    "    entry_point = 'gym.envs.toy_text:FrozenLakeEnv',\n",
    "    kwargs={'map_name':'4x4',\n",
    "           'is_slippery':False}\n",
    ")\n",
    "\n",
    "env = gym.make('FrozenLake-v3')"
   ]
  },
  {
   "cell_type": "code",
   "execution_count": 2,
   "metadata": {},
   "outputs": [
    {
     "data": {
      "text/plain": [
       "'2.3.0'"
      ]
     },
     "execution_count": 2,
     "metadata": {},
     "output_type": "execute_result"
    }
   ],
   "source": [
    "tf.__version__"
   ]
  },
  {
   "cell_type": "code",
   "execution_count": 3,
   "metadata": {},
   "outputs": [],
   "source": [
    "input_size = env.observation_space.n\n",
    "output_size = env.action_space.n\n",
    "learning_rate = 0.1"
   ]
  },
  {
   "cell_type": "code",
   "execution_count": 4,
   "metadata": {},
   "outputs": [],
   "source": [
    "X = tf.placeholder(shape=[1, input_size], dtype=tf.float32)\n",
    "W = tf.Variable(tf.random_uniform([input_size, output_size],0,0.01)) # weight\n",
    "Qpred = tf.matmul(X, W)"
   ]
  },
  {
   "cell_type": "code",
   "execution_count": 5,
   "metadata": {},
   "outputs": [],
   "source": [
    "Y = tf.placeholder(shape=[1, output_size], dtype=tf.float32)"
   ]
  },
  {
   "cell_type": "code",
   "execution_count": 6,
   "metadata": {},
   "outputs": [],
   "source": [
    "loss = tf.reduce_sum(tf.square(Y-Qpred))"
   ]
  },
  {
   "cell_type": "code",
   "execution_count": 7,
   "metadata": {},
   "outputs": [],
   "source": [
    "train = tf.train.GradientDescentOptimizer(learning_rate=learning_rate).minimize(loss)"
   ]
  },
  {
   "cell_type": "code",
   "execution_count": 8,
   "metadata": {},
   "outputs": [],
   "source": [
    "dis = 0.99\n",
    "num_episodes = 2000\n",
    "rList = []"
   ]
  },
  {
   "cell_type": "code",
   "execution_count": 9,
   "metadata": {},
   "outputs": [],
   "source": [
    "init = tf.global_variables_initializer()"
   ]
  },
  {
   "cell_type": "code",
   "execution_count": 10,
   "metadata": {},
   "outputs": [],
   "source": [
    "# with tf.Session() as sess:\n",
    "sess = tf.Session()\n",
    "sess.run(init)\n",
    "for i in range(num_episodes):\n",
    "    s = env.reset()\n",
    "    e = 1. / ((i/50) + 10)\n",
    "    rAll = 0\n",
    "    done = False\n",
    "    local_loss = []\n",
    "\n",
    "    while not done:\n",
    "        Qs = sess.run(Qpred, feed_dict={X:one_hot(s)})\n",
    "        if np.random.rand(1) < e:\n",
    "            a = env.action_space.sample()\n",
    "        else:\n",
    "            a = np.argmax(Qs)\n",
    "\n",
    "        s1, reward, done, _ = env.step(a)\n",
    "        if done:\n",
    "            Qs[0,a] = reward\n",
    "        else:\n",
    "            Qs1 = sess.run(Qpred, feed_dict={X:one_hot(s1)})\n",
    "            Qs[0, a] = reward + dis * np.max(Qs1)\n",
    "\n",
    "        sess.run(train, feed_dict={X: one_hot(s), Y: Qs})\n",
    "\n",
    "        rAll += reward\n",
    "        s = s1\n",
    "    rList.append(rAll)"
   ]
  },
  {
   "cell_type": "code",
   "execution_count": 11,
   "metadata": {},
   "outputs": [
    {
     "name": "stdout",
     "output_type": "stream",
     "text": [
      "[[0.93944407 0.91505533 0.9509894  0.94099325]]\n",
      "[[9.4032139e-01 2.9426519e-06 9.6059549e-01 9.4651693e-01]]\n",
      "[[0.8662632  0.9702986  0.91525495 0.9302069 ]]\n",
      "[[0.95495355 0.0043128  0.008      0.13450682]]\n",
      "[[5.9025637e-03 5.8838353e-03 7.1673864e-04 9.3926102e-01]]\n",
      "[[0.00445141 0.00840168 0.00201488 0.0058058 ]]\n",
      "[[2.2360016e-05 9.8009968e-01 1.4302965e-04 9.4691300e-01]]\n",
      "[[0.00810451 0.00116525 0.00543153 0.00382196]]\n",
      "[[0.00476336 0.00190147 0.00559623 0.00591919]]\n",
      "[[0.00610262 0.00183029 0.9743517  0.00625153]]\n",
      "[[9.3588138e-01 9.8999977e-01 9.6617536e-05 9.4827557e-01]]\n",
      "[[0.00278728 0.00081212 0.00465257 0.00152807]]\n",
      "[[0.00370263 0.00710886 0.00596977 0.000547  ]]\n",
      "[[0.00592657 0.00782897 0.9786848  0.00629279]]\n",
      "[[0.9128387  0.96788555 0.9999999  0.97549105]]\n",
      "[[0.00291394 0.00705857 0.00270913 0.00666017]]\n"
     ]
    }
   ],
   "source": [
    "print(sess.run(Qpred,feed_dict={X:one_hot(0)}))\n",
    "print(sess.run(Qpred,feed_dict={X:one_hot(1)}))\n",
    "print(sess.run(Qpred,feed_dict={X:one_hot(2)}))\n",
    "print(sess.run(Qpred,feed_dict={X:one_hot(3)}))\n",
    "print(sess.run(Qpred,feed_dict={X:one_hot(4)}))\n",
    "print(sess.run(Qpred,feed_dict={X:one_hot(5)}))\n",
    "print(sess.run(Qpred,feed_dict={X:one_hot(6)}))\n",
    "print(sess.run(Qpred,feed_dict={X:one_hot(7)}))\n",
    "print(sess.run(Qpred,feed_dict={X:one_hot(8)}))\n",
    "print(sess.run(Qpred,feed_dict={X:one_hot(9)}))\n",
    "print(sess.run(Qpred,feed_dict={X:one_hot(10)}))\n",
    "print(sess.run(Qpred,feed_dict={X:one_hot(11)}))\n",
    "print(sess.run(Qpred,feed_dict={X:one_hot(12)}))\n",
    "print(sess.run(Qpred,feed_dict={X:one_hot(13)}))\n",
    "print(sess.run(Qpred,feed_dict={X:one_hot(14)}))\n",
    "print(sess.run(Qpred,feed_dict={X:one_hot(15)}))"
   ]
  },
  {
   "cell_type": "code",
   "execution_count": 12,
   "metadata": {},
   "outputs": [
    {
     "name": "stdout",
     "output_type": "stream",
     "text": [
      "percent of successful episodes : 0.9465%\n"
     ]
    },
    {
     "data": {
      "image/png": "[encoded data removed]",
      "text/plain": [
       "<Figure size 432x288 with 1 Axes>"
      ]
     },
     "metadata": {
      "needs_background": "light"
     },
     "output_type": "display_data"
    }
   ],
   "source": [
    "print(\"percent of successful episodes : \" + str(sum(rList)/num_episodes) + \"%\")\n",
    "plt.bar(range(len(rList)), rList, color=\"blue\")\n",
    "plt.show()"
   ]
  },
  {
   "cell_type": "code",
   "execution_count": 13,
   "metadata": {},
   "outputs": [],
   "source": [
    "sess.close()"
   ]
  },
  {
   "cell_type": "code",
   "execution_count": null,
   "metadata": {},
   "outputs": [],
   "source": []
  }
 ],
 "metadata": {
  "kernelspec": {
   "display_name": "Python 3",
   "language": "python",
   "name": "python3"
  },
  "language_info": {
   "codemirror_mode": {
    "name": "ipython",
    "version": 3
   },
   "file_extension": ".py",
   "mimetype": "text/x-python",
   "name": "python",
   "nbconvert_exporter": "python",
   "pygments_lexer": "ipython3",
   "version": "3.8.5"
  },
  "toc": {
   "base_numbering": 1,
   "nav_menu": {},
   "number_sections": true,
   "sideBar": true,
   "skip_h1_title": false,
   "title_cell": "Table of Contents",
   "title_sidebar": "Contents",
   "toc_cell": false,
   "toc_position": {},
   "toc_section_display": true,
   "toc_window_display": false
  },
  "varInspector": {
   "cols": {
    "lenName": 16,
    "lenType": 16,
    "lenVar": 40
   },
   "kernels_config": {
    "python": {
     "delete_cmd_postfix": "",
     "delete_cmd_prefix": "del ",
     "library": "var_list.py",
     "varRefreshCmd": "print(var_dic_list())"
    },
    "r": {
     "delete_cmd_postfix": ") ",
     "delete_cmd_prefix": "rm(",
     "library": "var_list.r",
     "varRefreshCmd": "cat(var_dic_list()) "
    }
   },
   "types_to_exclude": [
    "module",
    "function",
    "builtin_function_or_method",
    "instance",
    "_Feature"
   ],
   "window_display": false
  }
 },
 "nbformat": 4,
 "nbformat_minor": 4
}
