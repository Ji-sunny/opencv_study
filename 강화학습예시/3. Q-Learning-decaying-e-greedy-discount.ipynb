{
 "cells": [
  {
   "cell_type": "code",
   "execution_count": 1,
   "metadata": {},
   "outputs": [],
   "source": [
    "import gym\n",
    "import numpy as np\n",
    "import matplotlib.pyplot as plt\n",
    "from gym.envs.registration import register\n",
    "import random as pr\n",
    "\n",
    "def rargmax(vector):\n",
    "    m = np.amax(vector)\n",
    "    indices = np.nonzero(vector==m)[0]\n",
    "    return pr.choice(indices)\n",
    "\n",
    "register(\n",
    "    id='FrozenLake-v3',\n",
    "    entry_point = 'gym.envs.toy_text:FrozenLakeEnv',\n",
    "    kwargs={'map_name':'4x4',\n",
    "           'is_slippery':False}\n",
    ")\n",
    "\n",
    "env = gym.make('FrozenLake-v3')"
   ]
  },
  {
   "cell_type": "code",
   "execution_count": 2,
   "metadata": {},
   "outputs": [],
   "source": [
    "# Q Table을 모두 0으로 초기화 한다. : 2차원 (number of state, action space) = (16,4)\n",
    "Q = np.zeros([env.observation_space.n, env.action_space.n])\n",
    "\n",
    "# 몇 번 시도를 할 것인가 (에피소드)\n",
    "num_episodes = 2000\n",
    "\n",
    "# 에피소드마다 총 리워드의 합을 저장하는 리스트\n",
    "rList = []"
   ]
  },
  {
   "cell_type": "code",
   "execution_count": 3,
   "metadata": {},
   "outputs": [],
   "source": [
    "# discount 정의 => 미래의 reward를 현재의 reward 보다 조금 낮게 본다.\n",
    "dis = 0.9\n",
    "\n",
    "for i in range(num_episodes) : \n",
    "    state = env.reset()\n",
    "    rAll = 0\n",
    "    done = False\n",
    "    \n",
    "    # exploration의 확률 (decaying)\n",
    "    e = 1./((i / 100) + 1)\n",
    "    \n",
    "    # Q learning 알고리즘\n",
    "    while not done : \n",
    "        \n",
    "        # E-Greedy 알고리즘으로 action 고르기\n",
    "        if np.random.rand(1) < e :\n",
    "            action = env.action_space.sample()\n",
    "        else : \n",
    "            action = rargmax(Q[state, :])\n",
    "        \n",
    "        # 해당 Action을 했을 때 environment가 변하고, 새로운 state, reward, done 여부를 반환 받음\n",
    "        new_state, reward, done, _ = env.step(action)\n",
    "        \n",
    "        # Q = R + Q \n",
    "        Q[state, action] = reward + dis * np.max(Q[new_state, :])\n",
    "        \n",
    "        rAll += reward\n",
    "        state = new_state\n",
    "        \n",
    "    rList.append(rAll)"
   ]
  },
  {
   "cell_type": "code",
   "execution_count": 4,
   "metadata": {},
   "outputs": [
    {
     "name": "stdout",
     "output_type": "stream",
     "text": [
      "Success rate : 0.798\n",
      "Final Q-Table Values\n",
      "[[0.531441  0.59049   0.4782969 0.531441 ]\n",
      " [0.531441  0.        0.        0.4782969]\n",
      " [0.4782969 0.        0.        0.       ]\n",
      " [0.        0.        0.        0.       ]\n",
      " [0.59049   0.6561    0.        0.531441 ]\n",
      " [0.        0.        0.        0.       ]\n",
      " [0.        0.81      0.        0.       ]\n",
      " [0.        0.        0.        0.       ]\n",
      " [0.6561    0.        0.729     0.59049  ]\n",
      " [0.6561    0.81      0.81      0.       ]\n",
      " [0.729     0.9       0.        0.729    ]\n",
      " [0.        0.        0.        0.       ]\n",
      " [0.        0.        0.        0.       ]\n",
      " [0.        0.81      0.9       0.729    ]\n",
      " [0.81      0.9       1.        0.81     ]\n",
      " [0.        0.        0.        0.       ]]\n"
     ]
    },
    {
     "data": {
      "image/png": "[encoded data removed]",
      "text/plain": [
       "<Figure size 432x288 with 1 Axes>"
      ]
     },
     "metadata": {
      "needs_background": "light"
     },
     "output_type": "display_data"
    }
   ],
   "source": [
    "print(\"Success rate : \"+str(sum(rList) / num_episodes))\n",
    "print(\"Final Q-Table Values\")\n",
    "print(Q)\n",
    "\n",
    "plt.bar(range(len(rList)), rList, color=\"blue\")\n",
    "plt.show()"
   ]
  },
  {
   "cell_type": "code",
   "execution_count": null,
   "metadata": {},
   "outputs": [],
   "source": []
  }
 ],
 "metadata": {
  "kernelspec": {
   "display_name": "Python 3",
   "language": "python",
   "name": "python3"
  },
  "language_info": {
   "codemirror_mode": {
    "name": "ipython",
    "version": 3
   },
   "file_extension": ".py",
   "mimetype": "text/x-python",
   "name": "python",
   "nbconvert_exporter": "python",
   "pygments_lexer": "ipython3",
   "version": "3.8.5"
  },
  "toc": {
   "base_numbering": 1,
   "nav_menu": {},
   "number_sections": true,
   "sideBar": true,
   "skip_h1_title": false,
   "title_cell": "Table of Contents",
   "title_sidebar": "Contents",
   "toc_cell": false,
   "toc_position": {},
   "toc_section_display": true,
   "toc_window_display": false
  },
  "varInspector": {
   "cols": {
    "lenName": 16,
    "lenType": 16,
    "lenVar": 40
   },
   "kernels_config": {
    "python": {
     "delete_cmd_postfix": "",
     "delete_cmd_prefix": "del ",
     "library": "var_list.py",
     "varRefreshCmd": "print(var_dic_list())"
    },
    "r": {
     "delete_cmd_postfix": ") ",
     "delete_cmd_prefix": "rm(",
     "library": "var_list.r",
     "varRefreshCmd": "cat(var_dic_list()) "
    }
   },
   "types_to_exclude": [
    "module",
    "function",
    "builtin_function_or_method",
    "instance",
    "_Feature"
   ],
   "window_display": false
  }
 },
 "nbformat": 4,
 "nbformat_minor": 4
}
