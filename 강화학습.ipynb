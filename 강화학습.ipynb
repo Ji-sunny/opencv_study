{
 "cells": [
  {
   "cell_type": "markdown",
   "id": "501ed896",
   "metadata": {
    "toc": true
   },
   "source": [
    "<h1>Table of Contents<span class=\"tocSkip\"></span></h1>\n",
    "<div class=\"toc\"><ul class=\"toc-item\"></ul></div>"
   ]
  },
  {
   "cell_type": "code",
   "execution_count": 1,
   "id": "b06e4951",
   "metadata": {},
   "outputs": [],
   "source": [
    "import gym\n",
    "import numpy as np\n",
    "import matplotlib.pyplot as plt\n",
    "from gym.envs.registration import register\n",
    "import random as pr\n",
    "\n",
    "def rargmax(vector):\n",
    "    m = np.amax(vector)\n",
    "    indices = np.nonzero(vector == m)[0]\n",
    "    return pr.choice(indices)\n",
    "\n",
    "register(id='FrozenLake-v3', entry_point='gym.envs.toy_text:FrozenLakeEnv',\n",
    "        kwargs={'map_name': '4x4', 'is_slippery':False})\n",
    "\n",
    "env = gym.make('FrozenLake-v3')"
   ]
  },
  {
   "cell_type": "code",
   "execution_count": 2,
   "id": "f21337be",
   "metadata": {},
   "outputs": [],
   "source": [
    "#초기화\n",
    "Q = np.zeros([env.observation_space.n, env.action_space.n])\n",
    "\n",
    "num_episodes = 2000\n",
    "\n",
    "rList=[]\n"
   ]
  },
  {
   "cell_type": "code",
   "execution_count": 3,
   "id": "a51a641b",
   "metadata": {},
   "outputs": [],
   "source": [
    "dis = 0.98\n",
    "for i in range(num_episodes):\n",
    "    state = env.reset()\n",
    "    rAll=0\n",
    "    done = False\n",
    "    #E-greedy 방법\n",
    "    e = 1./((i/100) + 1)\n",
    "    \n",
    "    while not done:\n",
    "        # random 하게 감\n",
    "        if np.random.rand(1) < e:\n",
    "            action = env.action_space.sample()\n",
    "        else:\n",
    "            action = rargmax(Q[state, :])\n",
    "        \n",
    "        new_state, reward, done, _ = env.step(action)\n",
    "        # Q = R + Q\n",
    "        Q[state, action] = reward + dis * np.max(Q[new_state, :]) \n",
    "        # Q = R + discount*Q\n",
    "        \n",
    "        \n",
    "        rAll += reward\n",
    "        state = new_state\n",
    "        \n",
    "    rList.append(rAll)\n",
    "    "
   ]
  },
  {
   "cell_type": "code",
   "execution_count": 4,
   "id": "28aec36b",
   "metadata": {
    "scrolled": true
   },
   "outputs": [
    {
     "name": "stdout",
     "output_type": "stream",
     "text": [
      "Success rate:0.803\n",
      "Final Q-table values\n",
      "[[0.88584238 0.9039208  0.9039208  0.88584238]\n",
      " [0.88584238 0.         0.92236816 0.9039208 ]\n",
      " [0.9039208  0.941192   0.9039208  0.92236816]\n",
      " [0.92236816 0.         0.9039208  0.9039208 ]\n",
      " [0.9039208  0.92236816 0.         0.88584238]\n",
      " [0.         0.         0.         0.        ]\n",
      " [0.         0.9604     0.         0.92236816]\n",
      " [0.         0.         0.         0.        ]\n",
      " [0.92236816 0.         0.941192   0.9039208 ]\n",
      " [0.92236816 0.9604     0.9604     0.        ]\n",
      " [0.941192   0.98       0.         0.941192  ]\n",
      " [0.         0.         0.         0.        ]\n",
      " [0.         0.         0.         0.        ]\n",
      " [0.         0.9604     0.98       0.941192  ]\n",
      " [0.9604     0.98       1.         0.9604    ]\n",
      " [0.         0.         0.         0.        ]]\n"
     ]
    },
    {
     "data": {
      "image/png": "[encoded data removed]",
      "text/plain": [
       "<Figure size 432x288 with 1 Axes>"
      ]
     },
     "metadata": {
      "needs_background": "light"
     },
     "output_type": "display_data"
    }
   ],
   "source": [
    "print(\"Success rate:\" + str(sum(rList) / num_episodes))\n",
    "print(\"Final Q-table values\")\n",
    "print(Q)\n",
    "\n",
    "plt.bar(range(len(rList)), rList, color='b', width=1)\n",
    "plt.show()"
   ]
  },
  {
   "cell_type": "code",
   "execution_count": null,
   "id": "ec379b07",
   "metadata": {},
   "outputs": [],
   "source": []
  }
 ],
 "metadata": {
  "kernelspec": {
   "display_name": "Python 3",
   "language": "python",
   "name": "python3"
  },
  "language_info": {
   "codemirror_mode": {
    "name": "ipython",
    "version": 3
   },
   "file_extension": ".py",
   "mimetype": "text/x-python",
   "name": "python",
   "nbconvert_exporter": "python",
   "pygments_lexer": "ipython3",
   "version": "3.8.5"
  },
  "toc": {
   "base_numbering": 1,
   "nav_menu": {},
   "number_sections": true,
   "sideBar": true,
   "skip_h1_title": false,
   "title_cell": "Table of Contents",
   "title_sidebar": "Contents",
   "toc_cell": true,
   "toc_position": {},
   "toc_section_display": true,
   "toc_window_display": false
  },
  "varInspector": {
   "cols": {
    "lenName": 16,
    "lenType": 16,
    "lenVar": 40
   },
   "kernels_config": {
    "python": {
     "delete_cmd_postfix": "",
     "delete_cmd_prefix": "del ",
     "library": "var_list.py",
     "varRefreshCmd": "print(var_dic_list())"
    },
    "r": {
     "delete_cmd_postfix": ") ",
     "delete_cmd_prefix": "rm(",
     "library": "var_list.r",
     "varRefreshCmd": "cat(var_dic_list()) "
    }
   },
   "types_to_exclude": [
    "module",
    "function",
    "builtin_function_or_method",
    "instance",
    "_Feature"
   ],
   "window_display": false
  }
 },
 "nbformat": 4,
 "nbformat_minor": 5
}
