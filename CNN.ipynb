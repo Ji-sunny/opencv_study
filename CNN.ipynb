{
 "cells": [
  {
   "cell_type": "markdown",
   "metadata": {},
   "source": [
    "# CNN\n",
    "- 합성곱 계층: 사진의 뉴런이 늘어남 (Convolution)\n",
    "- 풀링 계층: 사이즈를 줄임 (Pooling)\n",
    "- Feature Extraction & Classification"
   ]
  },
  {
   "cell_type": "code",
   "execution_count": null,
   "metadata": {
    "ExecuteTime": {
     "end_time": "2021-04-29T06:58:04.424221Z",
     "start_time": "2021-04-29T06:58:04.381195Z"
    }
   },
   "outputs": [],
   "source": [
    "import cv2\n",
    "img = cv2.imread('./images/digits.png', 0)\n",
    "print(img.shape)"
   ]
  },
  {
   "cell_type": "code",
   "execution_count": null,
   "metadata": {
    "ExecuteTime": {
     "end_time": "2021-04-29T06:58:06.149857Z",
     "start_time": "2021-04-29T06:58:05.076842Z"
    }
   },
   "outputs": [],
   "source": [
    "import numpy as np\n",
    "import pandas as pd\n",
    "\n",
    "cells = [np.hsplit(row, 100) for row in np.vsplit(img, 50)]\n",
    "x = np.array(cells)/255.\n",
    "img_rows, img_cols = 20, 20\n",
    "X = x.reshape(-1, img_rows, img_cols, 1)\n",
    "y = pd.get_dummies(np.repeat(np.arange(10), 500)).to_numpy()\n",
    "\n",
    "from sklearn.model_selection import train_test_split\n",
    "\n",
    "train_X, test_X, train_y, test_y = train_test_split(X, y, test_size=0.3, random_state=1)\n",
    "\n",
    "print(train_X.shape, train_y.shape)"
   ]
  },
  {
   "cell_type": "code",
   "execution_count": null,
   "metadata": {
    "ExecuteTime": {
     "end_time": "2021-04-29T06:58:36.632500Z",
     "start_time": "2021-04-29T06:58:34.466910Z"
    }
   },
   "outputs": [],
   "source": [
    "from tensorflow.keras.models import Sequential\n",
    "\n",
    "model = Sequential()"
   ]
  },
  {
   "cell_type": "code",
   "execution_count": null,
   "metadata": {
    "ExecuteTime": {
     "end_time": "2021-04-29T06:59:05.732467Z",
     "start_time": "2021-04-29T06:59:05.653864Z"
    }
   },
   "outputs": [],
   "source": [
    "from tensorflow.keras.layers import Conv2D, Flatten, Dense, Input, Dropout, MaxPooling2D\n",
    "\n",
    "model.add(Conv2D(32, kernel_size=(3,3), input_shape=(img_rows, img_cols, 1), activation='relu')) #28, 28, 1\n",
    "model.add(MaxPooling2D(pool_size=(2,2)))\n",
    "model.add(Dropout(0.1))\n",
    "\n",
    "model.add(Conv2D(64, kernel_size=(3,3), activation='relu'))\n",
    "model.add(MaxPooling2D(pool_size=(2,2)))\n",
    "model.add(Dropout(0.25))\n",
    "\n",
    "model.add(Flatten())\n",
    "model.add(Dense(128, activation='relu'))\n",
    "model.add(Dropout(0.5))\n",
    "model.add(Dense(10, activation='softmax'))\n"
   ]
  },
  {
   "cell_type": "code",
   "execution_count": null,
   "metadata": {
    "ExecuteTime": {
     "end_time": "2021-04-29T06:59:34.222206Z",
     "start_time": "2021-04-29T06:59:34.205793Z"
    }
   },
   "outputs": [],
   "source": [
    "from tensorflow.keras.optimizers import Adam\n",
    "\n",
    "model.compile(loss='categorical_crossentropy', optimizer=Adam(0.001), metrics=['acc'])"
   ]
  },
  {
   "cell_type": "code",
   "execution_count": null,
   "metadata": {
    "ExecuteTime": {
     "end_time": "2021-04-29T07:02:06.439240Z",
     "start_time": "2021-04-29T07:00:03.194183Z"
    }
   },
   "outputs": [],
   "source": [
    "hist = model.fit(train_X, train_y, validation_data=(test_X, test_y), epochs=200, batch_size=128, verbose=1)"
   ]
  },
  {
   "cell_type": "code",
   "execution_count": null,
   "metadata": {
    "ExecuteTime": {
     "end_time": "2021-04-29T07:22:40.120776Z",
     "start_time": "2021-04-29T07:22:39.884883Z"
    }
   },
   "outputs": [],
   "source": [
    "import matplotlib.pyplot as plt\n",
    "\n",
    "fig, loss_ax = plt.subplots()\n",
    "\n",
    "loss_ax.plot(hist.history['loss'], 'y', label='train loss')\n",
    "loss_ax.plot(hist.history['val_loss'], 'r', label='val loss')\n",
    "loss_ax.set_xlabel('epoch')\n",
    "loss_ax.set_ylabel('loss')\n",
    "loss_ax.legend(loc='upper left')\n",
    "\n",
    "acc_ax = loss_ax.twinx()\n",
    "acc_ax.plot(hist.history['acc'], 'b', label ='train acc')\n",
    "acc_ax.plot(hist.history['val_acc'], 'b', label ='val acc')\n",
    "acc_ax.set_ylabel('accuracy')\n",
    "# acc_ax.set_legend(loc='lower left')\n",
    "\n",
    "plt.show()"
   ]
  },
  {
   "cell_type": "code",
   "execution_count": null,
   "metadata": {
    "ExecuteTime": {
     "end_time": "2021-04-29T07:22:00.082730Z",
     "start_time": "2021-04-29T07:22:00.054337Z"
    }
   },
   "outputs": [],
   "source": []
  },
  {
   "cell_type": "code",
   "execution_count": null,
   "metadata": {
    "ExecuteTime": {
     "end_time": "2021-04-29T06:36:58.637113Z",
     "start_time": "2021-04-29T06:36:40.702966Z"
    }
   },
   "outputs": [],
   "source": [
    "import cv2\n",
    "import numpy as np\n",
    "cap = cv2.VideoCapture(0)\n",
    "\n",
    "if cap.isOpened():\n",
    "    while True:\n",
    "        ret, img = cap.read()\n",
    "        if ret:\n",
    "            g_img = cv2.cvtColor(img, cv2.COLOR_BGR2GRAY)\n",
    "            _, bin_img = cv2.threshold(g_img, 110, 255, cv2.THRESH_BINARY_INV)\n",
    "            contours, hierarchy = cv2.findContours(bin_img, \n",
    "                        cv2.RETR_EXTERNAL, cv2.CHAIN_APPROX_SIMPLE)\n",
    "            # CHAIN_APPROX_SIMPLE 테두리를 잡아줌 \n",
    "            try:\n",
    "                for i in range(len(contours)):\n",
    "                    contour = contours[i]\n",
    "                    (x,y), radius = cv2.minEnclosingCircle(contour)\n",
    "                    if radius > 3:\n",
    "                        xs, xe = int(x-radius), int(x+radius)\n",
    "                        ys, ye = int(y-radius), int(y+radius)\n",
    "                        cv2.rectangle(bin_img, (xs, ys), (xe, ye), (200, 0, 0), 1)\n",
    "                        roi = bin_img[ys:ye, xs:xe]\n",
    "                        dst = cv2.resize(roi, dsize = (50, 50))\n",
    "                        dst = cv2.resize(dst, dsize = (24, 24)) #16, 16\n",
    "                        A = np.zeros((28,28))  # 20, 20\n",
    "                        A[2:-2, 2:-2] = dst[:,:]\n",
    "                        A = A.reshape(-1,28, 28, 1)  #-1, 20, 20, 1\n",
    "                        num =np.argmax(model.predict(A))\n",
    "                        cv2.putText(bin_img, str(num), (xs,ys), cv2.FONT_HERSHEY_PLAIN, 2, (200, 0, 0))\n",
    "            except Exception as e:\n",
    "                print(e)\n",
    "            cv2.imshow(\"Image\", bin_img)\n",
    "            if cv2.waitKey(1) & 0xFF ==27:\n",
    "                break\n",
    "        else:\n",
    "            print(\"Np Frame\")\n",
    "            break\n",
    "else:\n",
    "    print(\"Camera not opened\")\n",
    "\n",
    "cap.release()\n",
    "cv2.destroyAllWindows()"
   ]
  },
  {
   "cell_type": "markdown",
   "metadata": {
    "ExecuteTime": {
     "end_time": "2021-04-29T06:38:08.175131Z",
     "start_time": "2021-04-29T06:38:08.150136Z"
    }
   },
   "source": [
    "### Mnist"
   ]
  },
  {
   "cell_type": "code",
   "execution_count": null,
   "metadata": {
    "ExecuteTime": {
     "end_time": "2021-04-29T06:21:14.240983Z",
     "start_time": "2021-04-29T06:21:11.918825Z"
    }
   },
   "outputs": [],
   "source": [
    "from tensorflow.keras.datasets import mnist\n",
    "(train_img, train_labels), (test_img, test_labels) = mnist.load_data()"
   ]
  },
  {
   "cell_type": "code",
   "execution_count": null,
   "metadata": {
    "ExecuteTime": {
     "end_time": "2021-04-29T06:21:14.494019Z",
     "start_time": "2021-04-29T06:21:14.336538Z"
    }
   },
   "outputs": [],
   "source": [
    "#X의 모양을 입력 모양에 맞도록 수정\n",
    "\n",
    "train_img = train_img.reshape(-1, 28, 28, 1)\n",
    "test_img = test_img.reshape(-1, 28, 28, 1)\n",
    "\n",
    "#표준화\n",
    "train_img = train_img.astype('float32')/255\n",
    "test_img = test_img.astype('float32') / 255\n",
    "\n",
    "#y를 원-핫 인코딩 \n",
    "\n",
    "from tensorflow.keras.utils import to_categorical\n",
    "\n",
    "train_labels = to_categorical(train_labels)\n",
    "test_labels = to_categorical(test_labels)"
   ]
  },
  {
   "cell_type": "code",
   "execution_count": null,
   "metadata": {},
   "outputs": [],
   "source": [
    "model.fit(train_img, train_labels, validation_data=(test_img, test_labels), epochs=20, batch_size=128, verbose=1)"
   ]
  },
  {
   "cell_type": "markdown",
   "metadata": {},
   "source": [
    "## Model 저장\n",
    "### ModelCheckpoint"
   ]
  },
  {
   "cell_type": "code",
   "execution_count": null,
   "metadata": {
    "ExecuteTime": {
     "end_time": "2021-04-30T00:56:10.548661Z",
     "start_time": "2021-04-30T00:56:08.223461Z"
    }
   },
   "outputs": [],
   "source": [
    "import tensorflow as tf\n",
    "from tensorflow.keras.models import Sequential\n",
    "from tensorflow.keras.layers import Dense, Flatten, Dropout\n",
    "from tensorflow.keras.callbacks import ModelCheckpoint\n",
    "\n",
    "mnist = tf.keras.datasets.mnist\n",
    "(x_train, y_train), (x_test, y_test) = mnist.load_data()"
   ]
  },
  {
   "cell_type": "code",
   "execution_count": null,
   "metadata": {
    "ExecuteTime": {
     "end_time": "2021-04-30T00:56:10.721767Z",
     "start_time": "2021-04-30T00:56:10.548661Z"
    }
   },
   "outputs": [],
   "source": [
    "x_train, x_test = x_train/255.0, x_test/255.0"
   ]
  },
  {
   "cell_type": "code",
   "execution_count": null,
   "metadata": {
    "ExecuteTime": {
     "end_time": "2021-04-30T00:56:10.737745Z",
     "start_time": "2021-04-30T00:56:10.723747Z"
    }
   },
   "outputs": [],
   "source": [
    "MODEL_SAVE_FOLDER = './model/'\n",
    "import os\n",
    "if not os.path.exists(MODEL_SAVE_FOLDER):\n",
    "    os.mkdir(MODEL_SAVE_FOLDER)\n",
    "path = MODEL_SAVE_FOLDER + '{epoch:02d}-{val_acc:.4f}.hdf5'\n",
    "checkpoint = ModelCheckpoint(path, monitor='val_acc', verbose=1, save_best_only=True)\n",
    "\n"
   ]
  },
  {
   "cell_type": "code",
   "execution_count": null,
   "metadata": {
    "ExecuteTime": {
     "end_time": "2021-04-30T00:56:47.699289Z",
     "start_time": "2021-04-30T00:56:10.739742Z"
    }
   },
   "outputs": [],
   "source": [
    "model = Sequential()\n",
    "model.add(Flatten(input_shape=(28,28)))\n",
    "model.add(Dense(360, activation='relu'))\n",
    "model.add(Dense(128, activation='relu'))\n",
    "model.add(Dropout(0.2))\n",
    "model.add(Dense(10, activation='softmax'))\n",
    "model.compile(optimizer='SGD', loss='sparse_categorical_crossentropy', metrics=['acc'])\n",
    "\n",
    "model.fit(x_train, y_train, validation_data=(x_test, y_test), batch_size=1000, epochs=50, verbose=1, callbacks=[checkpoint])"
   ]
  },
  {
   "cell_type": "code",
   "execution_count": null,
   "metadata": {
    "ExecuteTime": {
     "end_time": "2021-04-30T00:56:48.202606Z",
     "start_time": "2021-04-30T00:56:47.700291Z"
    }
   },
   "outputs": [],
   "source": [
    "model.evaluate(x_test, y_test)"
   ]
  },
  {
   "cell_type": "markdown",
   "metadata": {},
   "source": [
    "### EarlyStopping Callback\n"
   ]
  },
  {
   "cell_type": "code",
   "execution_count": 1,
   "metadata": {
    "ExecuteTime": {
     "end_time": "2021-04-30T02:32:55.854908Z",
     "start_time": "2021-04-30T02:32:53.350398Z"
    }
   },
   "outputs": [],
   "source": [
    "import tensorflow as tf\n",
    "from tensorflow.keras.models import Sequential\n",
    "from tensorflow.keras.layers import Dense, Flatten, Dropout\n",
    "from tensorflow.keras.callbacks import ModelCheckpoint, EarlyStopping\n",
    "\n",
    "mnist = tf.keras.datasets.mnist\n",
    "(x_train, y_train), (x_test, y_test) = mnist.load_data()\n",
    "\n",
    "x_train, x_test = x_train/255.0, x_test/255.0"
   ]
  },
  {
   "cell_type": "code",
   "execution_count": 2,
   "metadata": {
    "ExecuteTime": {
     "end_time": "2021-04-30T02:32:55.950272Z",
     "start_time": "2021-04-30T02:32:55.936267Z"
    }
   },
   "outputs": [],
   "source": [
    "MODEL_SAVE_FOLDER = './model/'\n",
    "import os\n",
    "if not os.path.exists(MODEL_SAVE_FOLDER):\n",
    "    os.mkdir(MODEL_SAVE_FOLDER)\n",
    "path = MODEL_SAVE_FOLDER + '{epoch:02d}-{val_acc:.4f}.hdf5'\n",
    "checkpoint = ModelCheckpoint(path, monitor='val_acc', verbose=1, save_best_only=True)\n",
    "#val_accuracy가 3번 이상 증가하지 않으면 학습을 중단\n",
    "early_stopping = EarlyStopping(monitor='val_acc', patience=3)\n",
    "\n",
    "\n"
   ]
  },
  {
   "cell_type": "code",
   "execution_count": 3,
   "metadata": {
    "ExecuteTime": {
     "end_time": "2021-04-30T02:32:56.791581Z",
     "start_time": "2021-04-30T02:32:56.774591Z"
    }
   },
   "outputs": [],
   "source": [
    "from tensorflow.keras.callbacks import TensorBoard\n",
    "# histogram_freg가 1이면 epoch이 1마다 저장됨\n",
    "tensor_board = TensorBoard(log_dir = './tensor_log', embeddings_freq=1, histogram_freq=1)"
   ]
  },
  {
   "cell_type": "code",
   "execution_count": 4,
   "metadata": {
    "ExecuteTime": {
     "end_time": "2021-04-30T02:34:55.755339Z",
     "start_time": "2021-04-30T02:32:58.142103Z"
    }
   },
   "outputs": [
    {
     "name": "stdout",
     "output_type": "stream",
     "text": [
      "Epoch 1/1000\n",
      "60/60 [==============================] - 2s 25ms/step - loss: 2.2186 - acc: 0.2008 - val_loss: 1.8264 - val_acc: 0.6207\n",
      "\n",
      "Epoch 00001: val_acc improved from -inf to 0.62070, saving model to ./model\\01-0.6207.hdf5\n",
      "Epoch 2/1000\n",
      "60/60 [==============================] - 1s 12ms/step - loss: 1.7499 - acc: 0.5788 - val_loss: 1.3960 - val_acc: 0.7293\n",
      "\n",
      "Epoch 00002: val_acc improved from 0.62070 to 0.72930, saving model to ./model\\02-0.7293.hdf5\n",
      "Epoch 3/1000\n",
      "60/60 [==============================] - 1s 11ms/step - loss: 1.3659 - acc: 0.6817 - val_loss: 1.0751 - val_acc: 0.7933\n",
      "\n",
      "Epoch 00003: val_acc improved from 0.72930 to 0.79330, saving model to ./model\\03-0.7933.hdf5\n",
      "Epoch 4/1000\n",
      "60/60 [==============================] - 1s 11ms/step - loss: 1.0922 - acc: 0.7364 - val_loss: 0.8654 - val_acc: 0.8276\n",
      "\n",
      "Epoch 00004: val_acc improved from 0.79330 to 0.82760, saving model to ./model\\04-0.8276.hdf5\n",
      "Epoch 5/1000\n",
      "60/60 [==============================] - 1s 12ms/step - loss: 0.9091 - acc: 0.7710 - val_loss: 0.7307 - val_acc: 0.8455\n",
      "\n",
      "Epoch 00005: val_acc improved from 0.82760 to 0.84550, saving model to ./model\\05-0.8455.hdf5\n",
      "Epoch 6/1000\n",
      "60/60 [==============================] - 1s 11ms/step - loss: 0.7934 - acc: 0.7974 - val_loss: 0.6408 - val_acc: 0.8591\n",
      "\n",
      "Epoch 00006: val_acc improved from 0.84550 to 0.85910, saving model to ./model\\06-0.8591.hdf5\n",
      "Epoch 7/1000\n",
      "60/60 [==============================] - 1s 12ms/step - loss: 0.7103 - acc: 0.8130 - val_loss: 0.5771 - val_acc: 0.8683\n",
      "\n",
      "Epoch 00007: val_acc improved from 0.85910 to 0.86830, saving model to ./model\\07-0.8683.hdf5\n",
      "Epoch 8/1000\n",
      "60/60 [==============================] - 1s 11ms/step - loss: 0.6555 - acc: 0.8236 - val_loss: 0.5305 - val_acc: 0.8755\n",
      "\n",
      "Epoch 00008: val_acc improved from 0.86830 to 0.87550, saving model to ./model\\08-0.8755.hdf5\n",
      "Epoch 9/1000\n",
      "60/60 [==============================] - 1s 12ms/step - loss: 0.6028 - acc: 0.8360 - val_loss: 0.4959 - val_acc: 0.8786\n",
      "\n",
      "Epoch 00009: val_acc improved from 0.87550 to 0.87860, saving model to ./model\\09-0.8786.hdf5\n",
      "Epoch 10/1000\n",
      "60/60 [==============================] - 1s 12ms/step - loss: 0.5720 - acc: 0.8417 - val_loss: 0.4680 - val_acc: 0.8834\n",
      "\n",
      "Epoch 00010: val_acc improved from 0.87860 to 0.88340, saving model to ./model\\10-0.8834.hdf5\n",
      "Epoch 11/1000\n",
      "60/60 [==============================] - 1s 12ms/step - loss: 0.5397 - acc: 0.8516 - val_loss: 0.4454 - val_acc: 0.8885\n",
      "\n",
      "Epoch 00011: val_acc improved from 0.88340 to 0.88850, saving model to ./model\\11-0.8885.hdf5\n",
      "Epoch 12/1000\n",
      "60/60 [==============================] - 1s 11ms/step - loss: 0.5206 - acc: 0.8559 - val_loss: 0.4267 - val_acc: 0.8907\n",
      "\n",
      "Epoch 00012: val_acc improved from 0.88850 to 0.89070, saving model to ./model\\12-0.8907.hdf5\n",
      "Epoch 13/1000\n",
      "60/60 [==============================] - 1s 11ms/step - loss: 0.4994 - acc: 0.8602 - val_loss: 0.4105 - val_acc: 0.8936\n",
      "\n",
      "Epoch 00013: val_acc improved from 0.89070 to 0.89360, saving model to ./model\\13-0.8936.hdf5\n",
      "Epoch 14/1000\n",
      "60/60 [==============================] - 1s 12ms/step - loss: 0.4884 - acc: 0.8609 - val_loss: 0.3974 - val_acc: 0.8945\n",
      "\n",
      "Epoch 00014: val_acc improved from 0.89360 to 0.89450, saving model to ./model\\14-0.8945.hdf5\n",
      "Epoch 15/1000\n",
      "60/60 [==============================] - 1s 12ms/step - loss: 0.4700 - acc: 0.8661 - val_loss: 0.3860 - val_acc: 0.8976\n",
      "\n",
      "Epoch 00015: val_acc improved from 0.89450 to 0.89760, saving model to ./model\\15-0.8976.hdf5\n",
      "Epoch 16/1000\n",
      "60/60 [==============================] - 1s 12ms/step - loss: 0.4542 - acc: 0.8712 - val_loss: 0.3755 - val_acc: 0.8986\n",
      "\n",
      "Epoch 00016: val_acc improved from 0.89760 to 0.89860, saving model to ./model\\16-0.8986.hdf5\n",
      "Epoch 17/1000\n",
      "60/60 [==============================] - 1s 11ms/step - loss: 0.4432 - acc: 0.8746 - val_loss: 0.3664 - val_acc: 0.9004\n",
      "\n",
      "Epoch 00017: val_acc improved from 0.89860 to 0.90040, saving model to ./model\\17-0.9004.hdf5\n",
      "Epoch 18/1000\n",
      "60/60 [==============================] - 1s 13ms/step - loss: 0.4334 - acc: 0.8758 - val_loss: 0.3581 - val_acc: 0.9018\n",
      "\n",
      "Epoch 00018: val_acc improved from 0.90040 to 0.90180, saving model to ./model\\18-0.9018.hdf5\n",
      "Epoch 19/1000\n",
      "60/60 [==============================] - 1s 12ms/step - loss: 0.4252 - acc: 0.8782 - val_loss: 0.3511 - val_acc: 0.9032\n",
      "\n",
      "Epoch 00019: val_acc improved from 0.90180 to 0.90320, saving model to ./model\\19-0.9032.hdf5\n",
      "Epoch 20/1000\n",
      "60/60 [==============================] - 1s 11ms/step - loss: 0.4126 - acc: 0.8809 - val_loss: 0.3442 - val_acc: 0.9048\n",
      "\n",
      "Epoch 00020: val_acc improved from 0.90320 to 0.90480, saving model to ./model\\20-0.9048.hdf5\n",
      "Epoch 21/1000\n",
      "60/60 [==============================] - 1s 11ms/step - loss: 0.4055 - acc: 0.8834 - val_loss: 0.3382 - val_acc: 0.9058\n",
      "\n",
      "Epoch 00021: val_acc improved from 0.90480 to 0.90580, saving model to ./model\\21-0.9058.hdf5\n",
      "Epoch 22/1000\n",
      "60/60 [==============================] - 1s 11ms/step - loss: 0.4028 - acc: 0.8847 - val_loss: 0.3323 - val_acc: 0.9077\n",
      "\n",
      "Epoch 00022: val_acc improved from 0.90580 to 0.90770, saving model to ./model\\22-0.9077.hdf5\n",
      "Epoch 23/1000\n",
      "60/60 [==============================] - 1s 11ms/step - loss: 0.3960 - acc: 0.8865 - val_loss: 0.3272 - val_acc: 0.9089\n",
      "\n",
      "Epoch 00023: val_acc improved from 0.90770 to 0.90890, saving model to ./model\\23-0.9089.hdf5\n",
      "Epoch 24/1000\n",
      "60/60 [==============================] - 1s 12ms/step - loss: 0.3913 - acc: 0.8879 - val_loss: 0.3223 - val_acc: 0.9101\n",
      "\n",
      "Epoch 00024: val_acc improved from 0.90890 to 0.91010, saving model to ./model\\24-0.9101.hdf5\n",
      "Epoch 25/1000\n",
      "60/60 [==============================] - 1s 12ms/step - loss: 0.3821 - acc: 0.8901 - val_loss: 0.3179 - val_acc: 0.9107\n",
      "\n",
      "Epoch 00025: val_acc improved from 0.91010 to 0.91070, saving model to ./model\\25-0.9107.hdf5\n",
      "Epoch 26/1000\n",
      "60/60 [==============================] - 1s 12ms/step - loss: 0.3759 - acc: 0.8926 - val_loss: 0.3133 - val_acc: 0.9115\n",
      "\n",
      "Epoch 00026: val_acc improved from 0.91070 to 0.91150, saving model to ./model\\26-0.9115.hdf5\n",
      "Epoch 27/1000\n",
      "60/60 [==============================] - 1s 11ms/step - loss: 0.3702 - acc: 0.8931 - val_loss: 0.3089 - val_acc: 0.9135\n",
      "\n",
      "Epoch 00027: val_acc improved from 0.91150 to 0.91350, saving model to ./model\\27-0.9135.hdf5\n",
      "Epoch 28/1000\n",
      "60/60 [==============================] - 1s 11ms/step - loss: 0.3618 - acc: 0.8960 - val_loss: 0.3053 - val_acc: 0.9140\n",
      "\n",
      "Epoch 00028: val_acc improved from 0.91350 to 0.91400, saving model to ./model\\28-0.9140.hdf5\n",
      "Epoch 29/1000\n",
      "60/60 [==============================] - 1s 12ms/step - loss: 0.3603 - acc: 0.8971 - val_loss: 0.3013 - val_acc: 0.9156\n",
      "\n",
      "Epoch 00029: val_acc improved from 0.91400 to 0.91560, saving model to ./model\\29-0.9156.hdf5\n",
      "Epoch 30/1000\n",
      "60/60 [==============================] - 1s 12ms/step - loss: 0.3543 - acc: 0.8990 - val_loss: 0.2976 - val_acc: 0.9175\n",
      "\n",
      "Epoch 00030: val_acc improved from 0.91560 to 0.91750, saving model to ./model\\30-0.9175.hdf5\n",
      "Epoch 31/1000\n",
      "60/60 [==============================] - 1s 11ms/step - loss: 0.3448 - acc: 0.9000 - val_loss: 0.2943 - val_acc: 0.9181\n",
      "\n",
      "Epoch 00031: val_acc improved from 0.91750 to 0.91810, saving model to ./model\\31-0.9181.hdf5\n",
      "Epoch 32/1000\n",
      "60/60 [==============================] - 1s 11ms/step - loss: 0.3416 - acc: 0.9032 - val_loss: 0.2910 - val_acc: 0.9191\n",
      "\n",
      "Epoch 00032: val_acc improved from 0.91810 to 0.91910, saving model to ./model\\32-0.9191.hdf5\n",
      "Epoch 33/1000\n",
      "60/60 [==============================] - 1s 11ms/step - loss: 0.3473 - acc: 0.9013 - val_loss: 0.2881 - val_acc: 0.9200\n",
      "\n",
      "Epoch 00033: val_acc improved from 0.91910 to 0.92000, saving model to ./model\\33-0.9200.hdf5\n",
      "Epoch 34/1000\n",
      "60/60 [==============================] - 1s 11ms/step - loss: 0.3366 - acc: 0.9036 - val_loss: 0.2851 - val_acc: 0.9208\n",
      "\n",
      "Epoch 00034: val_acc improved from 0.92000 to 0.92080, saving model to ./model\\34-0.9208.hdf5\n",
      "Epoch 35/1000\n",
      "60/60 [==============================] - 1s 11ms/step - loss: 0.3375 - acc: 0.9018 - val_loss: 0.2818 - val_acc: 0.9214\n",
      "\n",
      "Epoch 00035: val_acc improved from 0.92080 to 0.92140, saving model to ./model\\35-0.9214.hdf5\n",
      "Epoch 36/1000\n",
      "60/60 [==============================] - 1s 11ms/step - loss: 0.3290 - acc: 0.9045 - val_loss: 0.2793 - val_acc: 0.9217\n",
      "\n",
      "Epoch 00036: val_acc improved from 0.92140 to 0.92170, saving model to ./model\\36-0.9217.hdf5\n"
     ]
    },
    {
     "name": "stdout",
     "output_type": "stream",
     "text": [
      "Epoch 37/1000\n",
      "60/60 [==============================] - 1s 11ms/step - loss: 0.3217 - acc: 0.9079 - val_loss: 0.2766 - val_acc: 0.9220\n",
      "\n",
      "Epoch 00037: val_acc improved from 0.92170 to 0.92200, saving model to ./model\\37-0.9220.hdf5\n",
      "Epoch 38/1000\n",
      "60/60 [==============================] - 1s 11ms/step - loss: 0.3240 - acc: 0.9070 - val_loss: 0.2739 - val_acc: 0.9234\n",
      "\n",
      "Epoch 00038: val_acc improved from 0.92200 to 0.92340, saving model to ./model\\38-0.9234.hdf5\n",
      "Epoch 39/1000\n",
      "60/60 [==============================] - 1s 11ms/step - loss: 0.3200 - acc: 0.9074 - val_loss: 0.2712 - val_acc: 0.9241\n",
      "\n",
      "Epoch 00039: val_acc improved from 0.92340 to 0.92410, saving model to ./model\\39-0.9241.hdf5\n",
      "Epoch 40/1000\n",
      "60/60 [==============================] - 1s 11ms/step - loss: 0.3158 - acc: 0.9085 - val_loss: 0.2686 - val_acc: 0.9247\n",
      "\n",
      "Epoch 00040: val_acc improved from 0.92410 to 0.92470, saving model to ./model\\40-0.9247.hdf5\n",
      "Epoch 41/1000\n",
      "60/60 [==============================] - 1s 11ms/step - loss: 0.3133 - acc: 0.9108 - val_loss: 0.2666 - val_acc: 0.9251\n",
      "\n",
      "Epoch 00041: val_acc improved from 0.92470 to 0.92510, saving model to ./model\\41-0.9251.hdf5\n",
      "Epoch 42/1000\n",
      "60/60 [==============================] - 1s 11ms/step - loss: 0.3209 - acc: 0.9060 - val_loss: 0.2639 - val_acc: 0.9265\n",
      "\n",
      "Epoch 00042: val_acc improved from 0.92510 to 0.92650, saving model to ./model\\42-0.9265.hdf5\n",
      "Epoch 43/1000\n",
      "60/60 [==============================] - 1s 11ms/step - loss: 0.3069 - acc: 0.9112 - val_loss: 0.2616 - val_acc: 0.9270\n",
      "\n",
      "Epoch 00043: val_acc improved from 0.92650 to 0.92700, saving model to ./model\\43-0.9270.hdf5\n",
      "Epoch 44/1000\n",
      "60/60 [==============================] - 1s 11ms/step - loss: 0.3037 - acc: 0.9122 - val_loss: 0.2591 - val_acc: 0.9271\n",
      "\n",
      "Epoch 00044: val_acc improved from 0.92700 to 0.92710, saving model to ./model\\44-0.9271.hdf5\n",
      "Epoch 45/1000\n",
      "60/60 [==============================] - 1s 11ms/step - loss: 0.3031 - acc: 0.9118 - val_loss: 0.2572 - val_acc: 0.9287\n",
      "\n",
      "Epoch 00045: val_acc improved from 0.92710 to 0.92870, saving model to ./model\\45-0.9287.hdf5\n",
      "Epoch 46/1000\n",
      "60/60 [==============================] - 1s 11ms/step - loss: 0.3003 - acc: 0.9152 - val_loss: 0.2550 - val_acc: 0.9293\n",
      "\n",
      "Epoch 00046: val_acc improved from 0.92870 to 0.92930, saving model to ./model\\46-0.9293.hdf5\n",
      "Epoch 47/1000\n",
      "60/60 [==============================] - 1s 12ms/step - loss: 0.3030 - acc: 0.9128 - val_loss: 0.2529 - val_acc: 0.9296\n",
      "\n",
      "Epoch 00047: val_acc improved from 0.92930 to 0.92960, saving model to ./model\\47-0.9296.hdf5\n",
      "Epoch 48/1000\n",
      "60/60 [==============================] - 1s 11ms/step - loss: 0.2967 - acc: 0.9137 - val_loss: 0.2508 - val_acc: 0.9302\n",
      "\n",
      "Epoch 00048: val_acc improved from 0.92960 to 0.93020, saving model to ./model\\48-0.9302.hdf5\n",
      "Epoch 49/1000\n",
      "60/60 [==============================] - 1s 11ms/step - loss: 0.2915 - acc: 0.9163 - val_loss: 0.2488 - val_acc: 0.9307\n",
      "\n",
      "Epoch 00049: val_acc improved from 0.93020 to 0.93070, saving model to ./model\\49-0.9307.hdf5\n",
      "Epoch 50/1000\n",
      "60/60 [==============================] - 1s 11ms/step - loss: 0.2968 - acc: 0.9144 - val_loss: 0.2470 - val_acc: 0.9312\n",
      "\n",
      "Epoch 00050: val_acc improved from 0.93070 to 0.93120, saving model to ./model\\50-0.9312.hdf5\n",
      "Epoch 51/1000\n",
      "60/60 [==============================] - 1s 11ms/step - loss: 0.2918 - acc: 0.9168 - val_loss: 0.2451 - val_acc: 0.9316\n",
      "\n",
      "Epoch 00051: val_acc improved from 0.93120 to 0.93160, saving model to ./model\\51-0.9316.hdf5\n",
      "Epoch 52/1000\n",
      "60/60 [==============================] - 1s 11ms/step - loss: 0.2900 - acc: 0.9159 - val_loss: 0.2432 - val_acc: 0.9319\n",
      "\n",
      "Epoch 00052: val_acc improved from 0.93160 to 0.93190, saving model to ./model\\52-0.9319.hdf5\n",
      "Epoch 53/1000\n",
      "60/60 [==============================] - 1s 11ms/step - loss: 0.2852 - acc: 0.9180 - val_loss: 0.2412 - val_acc: 0.9321\n",
      "\n",
      "Epoch 00053: val_acc improved from 0.93190 to 0.93210, saving model to ./model\\53-0.9321.hdf5\n",
      "Epoch 54/1000\n",
      "60/60 [==============================] - 1s 11ms/step - loss: 0.2820 - acc: 0.9187 - val_loss: 0.2396 - val_acc: 0.9321\n",
      "\n",
      "Epoch 00054: val_acc did not improve from 0.93210\n",
      "Epoch 55/1000\n",
      "60/60 [==============================] - 1s 14ms/step - loss: 0.2778 - acc: 0.9194 - val_loss: 0.2378 - val_acc: 0.9330\n",
      "\n",
      "Epoch 00055: val_acc improved from 0.93210 to 0.93300, saving model to ./model\\55-0.9330.hdf5\n",
      "Epoch 56/1000\n",
      "60/60 [==============================] - 1s 13ms/step - loss: 0.2776 - acc: 0.9200 - val_loss: 0.2361 - val_acc: 0.9334\n",
      "\n",
      "Epoch 00056: val_acc improved from 0.93300 to 0.93340, saving model to ./model\\56-0.9334.hdf5\n",
      "Epoch 57/1000\n",
      "60/60 [==============================] - 1s 13ms/step - loss: 0.2682 - acc: 0.9244 - val_loss: 0.2344 - val_acc: 0.9335\n",
      "\n",
      "Epoch 00057: val_acc improved from 0.93340 to 0.93350, saving model to ./model\\57-0.9335.hdf5\n",
      "Epoch 58/1000\n",
      "60/60 [==============================] - 1s 13ms/step - loss: 0.2758 - acc: 0.9205 - val_loss: 0.2326 - val_acc: 0.9337\n",
      "\n",
      "Epoch 00058: val_acc improved from 0.93350 to 0.93370, saving model to ./model\\58-0.9337.hdf5\n",
      "Epoch 59/1000\n",
      "60/60 [==============================] - 1s 14ms/step - loss: 0.2705 - acc: 0.9230 - val_loss: 0.2310 - val_acc: 0.9346\n",
      "\n",
      "Epoch 00059: val_acc improved from 0.93370 to 0.93460, saving model to ./model\\59-0.9346.hdf5\n",
      "Epoch 60/1000\n",
      "60/60 [==============================] - 1s 12ms/step - loss: 0.2660 - acc: 0.9244 - val_loss: 0.2295 - val_acc: 0.9351\n",
      "\n",
      "Epoch 00060: val_acc improved from 0.93460 to 0.93510, saving model to ./model\\60-0.9351.hdf5\n",
      "Epoch 61/1000\n",
      "60/60 [==============================] - 1s 13ms/step - loss: 0.2658 - acc: 0.9228 - val_loss: 0.2279 - val_acc: 0.9356\n",
      "\n",
      "Epoch 00061: val_acc improved from 0.93510 to 0.93560, saving model to ./model\\61-0.9356.hdf5\n",
      "Epoch 62/1000\n",
      "60/60 [==============================] - 1s 12ms/step - loss: 0.2633 - acc: 0.9251 - val_loss: 0.2264 - val_acc: 0.9362\n",
      "\n",
      "Epoch 00062: val_acc improved from 0.93560 to 0.93620, saving model to ./model\\62-0.9362.hdf5\n",
      "Epoch 63/1000\n",
      "60/60 [==============================] - 1s 12ms/step - loss: 0.2610 - acc: 0.9244 - val_loss: 0.2251 - val_acc: 0.9366\n",
      "\n",
      "Epoch 00063: val_acc improved from 0.93620 to 0.93660, saving model to ./model\\63-0.9366.hdf5\n",
      "Epoch 64/1000\n",
      "60/60 [==============================] - 1s 12ms/step - loss: 0.2582 - acc: 0.9260 - val_loss: 0.2234 - val_acc: 0.9370\n",
      "\n",
      "Epoch 00064: val_acc improved from 0.93660 to 0.93700, saving model to ./model\\64-0.9370.hdf5\n",
      "Epoch 65/1000\n",
      "60/60 [==============================] - 1s 12ms/step - loss: 0.2593 - acc: 0.9252 - val_loss: 0.2221 - val_acc: 0.9374\n",
      "\n",
      "Epoch 00065: val_acc improved from 0.93700 to 0.93740, saving model to ./model\\65-0.9374.hdf5\n",
      "Epoch 66/1000\n",
      "60/60 [==============================] - 1s 12ms/step - loss: 0.2582 - acc: 0.9266 - val_loss: 0.2205 - val_acc: 0.9372\n",
      "\n",
      "Epoch 00066: val_acc did not improve from 0.93740\n",
      "Epoch 67/1000\n",
      "60/60 [==============================] - 1s 12ms/step - loss: 0.2525 - acc: 0.9294 - val_loss: 0.2194 - val_acc: 0.9383\n",
      "\n",
      "Epoch 00067: val_acc improved from 0.93740 to 0.93830, saving model to ./model\\67-0.9383.hdf5\n",
      "Epoch 68/1000\n",
      "60/60 [==============================] - 1s 11ms/step - loss: 0.2537 - acc: 0.9256 - val_loss: 0.2179 - val_acc: 0.9381\n",
      "\n",
      "Epoch 00068: val_acc did not improve from 0.93830\n",
      "Epoch 69/1000\n",
      "60/60 [==============================] - 1s 11ms/step - loss: 0.2550 - acc: 0.9259 - val_loss: 0.2164 - val_acc: 0.9389\n",
      "\n",
      "Epoch 00069: val_acc improved from 0.93830 to 0.93890, saving model to ./model\\69-0.9389.hdf5\n",
      "Epoch 70/1000\n",
      "60/60 [==============================] - 1s 12ms/step - loss: 0.2492 - acc: 0.9287 - val_loss: 0.2151 - val_acc: 0.9389\n",
      "\n",
      "Epoch 00070: val_acc did not improve from 0.93890\n",
      "Epoch 71/1000\n",
      "60/60 [==============================] - 1s 12ms/step - loss: 0.2587 - acc: 0.9259 - val_loss: 0.2138 - val_acc: 0.9396\n",
      "\n",
      "Epoch 00071: val_acc improved from 0.93890 to 0.93960, saving model to ./model\\71-0.9396.hdf5\n",
      "Epoch 72/1000\n",
      "60/60 [==============================] - 1s 11ms/step - loss: 0.2529 - acc: 0.9282 - val_loss: 0.2125 - val_acc: 0.9399\n",
      "\n",
      "Epoch 00072: val_acc improved from 0.93960 to 0.93990, saving model to ./model\\72-0.9399.hdf5\n",
      "Epoch 73/1000\n",
      "60/60 [==============================] - 1s 11ms/step - loss: 0.2440 - acc: 0.9302 - val_loss: 0.2111 - val_acc: 0.9404\n"
     ]
    },
    {
     "name": "stdout",
     "output_type": "stream",
     "text": [
      "\n",
      "Epoch 00073: val_acc improved from 0.93990 to 0.94040, saving model to ./model\\73-0.9404.hdf5\n",
      "Epoch 74/1000\n",
      "60/60 [==============================] - 1s 11ms/step - loss: 0.2422 - acc: 0.9307 - val_loss: 0.2099 - val_acc: 0.9405\n",
      "\n",
      "Epoch 00074: val_acc improved from 0.94040 to 0.94050, saving model to ./model\\74-0.9405.hdf5\n",
      "Epoch 75/1000\n",
      "60/60 [==============================] - 1s 11ms/step - loss: 0.2419 - acc: 0.9289 - val_loss: 0.2086 - val_acc: 0.9411\n",
      "\n",
      "Epoch 00075: val_acc improved from 0.94050 to 0.94110, saving model to ./model\\75-0.9411.hdf5\n",
      "Epoch 76/1000\n",
      "60/60 [==============================] - 1s 11ms/step - loss: 0.2467 - acc: 0.9287 - val_loss: 0.2074 - val_acc: 0.9413\n",
      "\n",
      "Epoch 00076: val_acc improved from 0.94110 to 0.94130, saving model to ./model\\76-0.9413.hdf5\n",
      "Epoch 77/1000\n",
      "60/60 [==============================] - 1s 11ms/step - loss: 0.2396 - acc: 0.9298 - val_loss: 0.2063 - val_acc: 0.9420\n",
      "\n",
      "Epoch 00077: val_acc improved from 0.94130 to 0.94200, saving model to ./model\\77-0.9420.hdf5\n",
      "Epoch 78/1000\n",
      "60/60 [==============================] - 1s 11ms/step - loss: 0.2403 - acc: 0.9320 - val_loss: 0.2052 - val_acc: 0.9421\n",
      "\n",
      "Epoch 00078: val_acc improved from 0.94200 to 0.94210, saving model to ./model\\78-0.9421.hdf5\n",
      "Epoch 79/1000\n",
      "60/60 [==============================] - 1s 11ms/step - loss: 0.2399 - acc: 0.9311 - val_loss: 0.2041 - val_acc: 0.9420\n",
      "\n",
      "Epoch 00079: val_acc did not improve from 0.94210\n",
      "Epoch 80/1000\n",
      "60/60 [==============================] - 1s 11ms/step - loss: 0.2366 - acc: 0.9316 - val_loss: 0.2028 - val_acc: 0.9422\n",
      "\n",
      "Epoch 00080: val_acc improved from 0.94210 to 0.94220, saving model to ./model\\80-0.9422.hdf5\n",
      "Epoch 81/1000\n",
      "60/60 [==============================] - 1s 11ms/step - loss: 0.2360 - acc: 0.9332 - val_loss: 0.2015 - val_acc: 0.9427\n",
      "\n",
      "Epoch 00081: val_acc improved from 0.94220 to 0.94270, saving model to ./model\\81-0.9427.hdf5\n",
      "Epoch 82/1000\n",
      "60/60 [==============================] - 1s 11ms/step - loss: 0.2318 - acc: 0.9352 - val_loss: 0.2005 - val_acc: 0.9427\n",
      "\n",
      "Epoch 00082: val_acc did not improve from 0.94270\n",
      "Epoch 83/1000\n",
      "60/60 [==============================] - 1s 11ms/step - loss: 0.2298 - acc: 0.9344 - val_loss: 0.1993 - val_acc: 0.9429\n",
      "\n",
      "Epoch 00083: val_acc improved from 0.94270 to 0.94290, saving model to ./model\\83-0.9429.hdf5\n",
      "Epoch 84/1000\n",
      "60/60 [==============================] - 1s 11ms/step - loss: 0.2311 - acc: 0.9331 - val_loss: 0.1982 - val_acc: 0.9432\n",
      "\n",
      "Epoch 00084: val_acc improved from 0.94290 to 0.94320, saving model to ./model\\84-0.9432.hdf5\n",
      "Epoch 85/1000\n",
      "60/60 [==============================] - 1s 11ms/step - loss: 0.2281 - acc: 0.9354 - val_loss: 0.1972 - val_acc: 0.9431\n",
      "\n",
      "Epoch 00085: val_acc did not improve from 0.94320\n",
      "Epoch 86/1000\n",
      "60/60 [==============================] - 1s 11ms/step - loss: 0.2299 - acc: 0.9348 - val_loss: 0.1963 - val_acc: 0.9445\n",
      "\n",
      "Epoch 00086: val_acc improved from 0.94320 to 0.94450, saving model to ./model\\86-0.9445.hdf5\n",
      "Epoch 87/1000\n",
      "60/60 [==============================] - 1s 11ms/step - loss: 0.2332 - acc: 0.9339 - val_loss: 0.1950 - val_acc: 0.9443\n",
      "\n",
      "Epoch 00087: val_acc did not improve from 0.94450\n",
      "Epoch 88/1000\n",
      "60/60 [==============================] - 1s 11ms/step - loss: 0.2241 - acc: 0.9358 - val_loss: 0.1940 - val_acc: 0.9449\n",
      "\n",
      "Epoch 00088: val_acc improved from 0.94450 to 0.94490, saving model to ./model\\88-0.9449.hdf5\n",
      "Epoch 89/1000\n",
      "60/60 [==============================] - 1s 11ms/step - loss: 0.2224 - acc: 0.9352 - val_loss: 0.1930 - val_acc: 0.9453\n",
      "\n",
      "Epoch 00089: val_acc improved from 0.94490 to 0.94530, saving model to ./model\\89-0.9453.hdf5\n",
      "Epoch 90/1000\n",
      "60/60 [==============================] - 1s 11ms/step - loss: 0.2233 - acc: 0.9369 - val_loss: 0.1919 - val_acc: 0.9454\n",
      "\n",
      "Epoch 00090: val_acc improved from 0.94530 to 0.94540, saving model to ./model\\90-0.9454.hdf5\n",
      "Epoch 91/1000\n",
      "60/60 [==============================] - 1s 11ms/step - loss: 0.2228 - acc: 0.9364 - val_loss: 0.1908 - val_acc: 0.9457\n",
      "\n",
      "Epoch 00091: val_acc improved from 0.94540 to 0.94570, saving model to ./model\\91-0.9457.hdf5\n",
      "Epoch 92/1000\n",
      "60/60 [==============================] - 1s 11ms/step - loss: 0.2214 - acc: 0.9369 - val_loss: 0.1899 - val_acc: 0.9462\n",
      "\n",
      "Epoch 00092: val_acc improved from 0.94570 to 0.94620, saving model to ./model\\92-0.9462.hdf5\n",
      "Epoch 93/1000\n",
      "60/60 [==============================] - 1s 11ms/step - loss: 0.2193 - acc: 0.9363 - val_loss: 0.1890 - val_acc: 0.9460\n",
      "\n",
      "Epoch 00093: val_acc did not improve from 0.94620\n",
      "Epoch 94/1000\n",
      "60/60 [==============================] - 1s 12ms/step - loss: 0.2220 - acc: 0.9361 - val_loss: 0.1879 - val_acc: 0.9461\n",
      "\n",
      "Epoch 00094: val_acc did not improve from 0.94620\n",
      "Epoch 95/1000\n",
      "60/60 [==============================] - 1s 11ms/step - loss: 0.2153 - acc: 0.9385 - val_loss: 0.1871 - val_acc: 0.9471\n",
      "\n",
      "Epoch 00095: val_acc improved from 0.94620 to 0.94710, saving model to ./model\\95-0.9471.hdf5\n",
      "Epoch 96/1000\n",
      "60/60 [==============================] - 1s 11ms/step - loss: 0.2136 - acc: 0.9385 - val_loss: 0.1862 - val_acc: 0.9473\n",
      "\n",
      "Epoch 00096: val_acc improved from 0.94710 to 0.94730, saving model to ./model\\96-0.9473.hdf5\n",
      "Epoch 97/1000\n",
      "60/60 [==============================] - 1s 11ms/step - loss: 0.2152 - acc: 0.9390 - val_loss: 0.1854 - val_acc: 0.9467\n",
      "\n",
      "Epoch 00097: val_acc did not improve from 0.94730\n",
      "Epoch 98/1000\n",
      "60/60 [==============================] - 1s 12ms/step - loss: 0.2153 - acc: 0.9385 - val_loss: 0.1843 - val_acc: 0.9482\n",
      "\n",
      "Epoch 00098: val_acc improved from 0.94730 to 0.94820, saving model to ./model\\98-0.9482.hdf5\n",
      "Epoch 99/1000\n",
      "60/60 [==============================] - 1s 11ms/step - loss: 0.2115 - acc: 0.9391 - val_loss: 0.1834 - val_acc: 0.9479\n",
      "\n",
      "Epoch 00099: val_acc did not improve from 0.94820\n",
      "Epoch 100/1000\n",
      "60/60 [==============================] - 1s 11ms/step - loss: 0.2096 - acc: 0.9399 - val_loss: 0.1825 - val_acc: 0.9480\n",
      "\n",
      "Epoch 00100: val_acc did not improve from 0.94820\n",
      "Epoch 101/1000\n",
      "60/60 [==============================] - 1s 11ms/step - loss: 0.2125 - acc: 0.9390 - val_loss: 0.1816 - val_acc: 0.9486\n",
      "\n",
      "Epoch 00101: val_acc improved from 0.94820 to 0.94860, saving model to ./model\\101-0.9486.hdf5\n",
      "Epoch 102/1000\n",
      "60/60 [==============================] - 1s 12ms/step - loss: 0.2135 - acc: 0.9396 - val_loss: 0.1807 - val_acc: 0.9485\n",
      "\n",
      "Epoch 00102: val_acc did not improve from 0.94860\n",
      "Epoch 103/1000\n",
      "60/60 [==============================] - 1s 11ms/step - loss: 0.2070 - acc: 0.9396 - val_loss: 0.1799 - val_acc: 0.9488\n",
      "\n",
      "Epoch 00103: val_acc improved from 0.94860 to 0.94880, saving model to ./model\\103-0.9488.hdf5\n",
      "Epoch 104/1000\n",
      "60/60 [==============================] - 1s 11ms/step - loss: 0.2048 - acc: 0.9424 - val_loss: 0.1790 - val_acc: 0.9486\n",
      "\n",
      "Epoch 00104: val_acc did not improve from 0.94880\n",
      "Epoch 105/1000\n",
      "60/60 [==============================] - 1s 11ms/step - loss: 0.2093 - acc: 0.9404 - val_loss: 0.1783 - val_acc: 0.9492\n",
      "\n",
      "Epoch 00105: val_acc improved from 0.94880 to 0.94920, saving model to ./model\\105-0.9492.hdf5\n",
      "Epoch 106/1000\n",
      "60/60 [==============================] - 1s 11ms/step - loss: 0.2039 - acc: 0.9424 - val_loss: 0.1774 - val_acc: 0.9493\n",
      "\n",
      "Epoch 00106: val_acc improved from 0.94920 to 0.94930, saving model to ./model\\106-0.9493.hdf5\n",
      "Epoch 107/1000\n",
      "60/60 [==============================] - 1s 11ms/step - loss: 0.2016 - acc: 0.9416 - val_loss: 0.1766 - val_acc: 0.9493\n",
      "\n",
      "Epoch 00107: val_acc did not improve from 0.94930\n",
      "Epoch 108/1000\n",
      "60/60 [==============================] - 1s 11ms/step - loss: 0.2042 - acc: 0.9416 - val_loss: 0.1758 - val_acc: 0.9496\n",
      "\n",
      "Epoch 00108: val_acc improved from 0.94930 to 0.94960, saving model to ./model\\108-0.9496.hdf5\n",
      "Epoch 109/1000\n",
      "60/60 [==============================] - 1s 11ms/step - loss: 0.2047 - acc: 0.9416 - val_loss: 0.1752 - val_acc: 0.9493\n",
      "\n",
      "Epoch 00109: val_acc did not improve from 0.94960\n",
      "Epoch 110/1000\n",
      "60/60 [==============================] - 1s 11ms/step - loss: 0.1984 - acc: 0.9432 - val_loss: 0.1743 - val_acc: 0.9498\n",
      "\n",
      "Epoch 00110: val_acc improved from 0.94960 to 0.94980, saving model to ./model\\110-0.9498.hdf5\n",
      "Epoch 111/1000\n",
      "60/60 [==============================] - 1s 11ms/step - loss: 0.2000 - acc: 0.9428 - val_loss: 0.1735 - val_acc: 0.9498\n",
      "\n",
      "Epoch 00111: val_acc did not improve from 0.94980\n"
     ]
    },
    {
     "name": "stdout",
     "output_type": "stream",
     "text": [
      "Epoch 112/1000\n",
      "60/60 [==============================] - 1s 11ms/step - loss: 0.2015 - acc: 0.9415 - val_loss: 0.1726 - val_acc: 0.9501\n",
      "\n",
      "Epoch 00112: val_acc improved from 0.94980 to 0.95010, saving model to ./model\\112-0.9501.hdf5\n",
      "Epoch 113/1000\n",
      "60/60 [==============================] - 1s 11ms/step - loss: 0.1973 - acc: 0.9441 - val_loss: 0.1720 - val_acc: 0.9505\n",
      "\n",
      "Epoch 00113: val_acc improved from 0.95010 to 0.95050, saving model to ./model\\113-0.9505.hdf5\n",
      "Epoch 114/1000\n",
      "60/60 [==============================] - 1s 11ms/step - loss: 0.1952 - acc: 0.9439 - val_loss: 0.1711 - val_acc: 0.9506\n",
      "\n",
      "Epoch 00114: val_acc improved from 0.95050 to 0.95060, saving model to ./model\\114-0.9506.hdf5\n",
      "Epoch 115/1000\n",
      "60/60 [==============================] - 1s 11ms/step - loss: 0.2019 - acc: 0.9412 - val_loss: 0.1705 - val_acc: 0.9506\n",
      "\n",
      "Epoch 00115: val_acc did not improve from 0.95060\n",
      "Epoch 116/1000\n",
      "60/60 [==============================] - 1s 11ms/step - loss: 0.1917 - acc: 0.9458 - val_loss: 0.1697 - val_acc: 0.9507\n",
      "\n",
      "Epoch 00116: val_acc improved from 0.95060 to 0.95070, saving model to ./model\\116-0.9507.hdf5\n",
      "Epoch 117/1000\n",
      "60/60 [==============================] - 1s 11ms/step - loss: 0.1947 - acc: 0.9433 - val_loss: 0.1691 - val_acc: 0.9511\n",
      "\n",
      "Epoch 00117: val_acc improved from 0.95070 to 0.95110, saving model to ./model\\117-0.9511.hdf5\n",
      "Epoch 118/1000\n",
      "60/60 [==============================] - 1s 11ms/step - loss: 0.1941 - acc: 0.9440 - val_loss: 0.1682 - val_acc: 0.9509\n",
      "\n",
      "Epoch 00118: val_acc did not improve from 0.95110\n",
      "Epoch 119/1000\n",
      "60/60 [==============================] - 1s 11ms/step - loss: 0.1898 - acc: 0.9462 - val_loss: 0.1676 - val_acc: 0.9510\n",
      "\n",
      "Epoch 00119: val_acc did not improve from 0.95110\n",
      "Epoch 120/1000\n",
      "60/60 [==============================] - 1s 11ms/step - loss: 0.1973 - acc: 0.9427 - val_loss: 0.1668 - val_acc: 0.9517\n",
      "\n",
      "Epoch 00120: val_acc improved from 0.95110 to 0.95170, saving model to ./model\\120-0.9517.hdf5\n",
      "Epoch 121/1000\n",
      "60/60 [==============================] - 1s 11ms/step - loss: 0.1899 - acc: 0.9460 - val_loss: 0.1661 - val_acc: 0.9515\n",
      "\n",
      "Epoch 00121: val_acc did not improve from 0.95170\n",
      "Epoch 122/1000\n",
      "60/60 [==============================] - 1s 11ms/step - loss: 0.1913 - acc: 0.9456 - val_loss: 0.1653 - val_acc: 0.9517\n",
      "\n",
      "Epoch 00122: val_acc did not improve from 0.95170\n",
      "Epoch 123/1000\n",
      "60/60 [==============================] - 1s 11ms/step - loss: 0.1898 - acc: 0.9459 - val_loss: 0.1647 - val_acc: 0.9518\n",
      "\n",
      "Epoch 00123: val_acc improved from 0.95170 to 0.95180, saving model to ./model\\123-0.9518.hdf5\n",
      "Epoch 124/1000\n",
      "60/60 [==============================] - 1s 11ms/step - loss: 0.1880 - acc: 0.9463 - val_loss: 0.1639 - val_acc: 0.9517\n",
      "\n",
      "Epoch 00124: val_acc did not improve from 0.95180\n",
      "Epoch 125/1000\n",
      "60/60 [==============================] - 1s 12ms/step - loss: 0.1914 - acc: 0.9453 - val_loss: 0.1632 - val_acc: 0.9521\n",
      "\n",
      "Epoch 00125: val_acc improved from 0.95180 to 0.95210, saving model to ./model\\125-0.9521.hdf5\n",
      "Epoch 126/1000\n",
      "60/60 [==============================] - 1s 11ms/step - loss: 0.1860 - acc: 0.9466 - val_loss: 0.1629 - val_acc: 0.9522\n",
      "\n",
      "Epoch 00126: val_acc improved from 0.95210 to 0.95220, saving model to ./model\\126-0.9522.hdf5\n",
      "Epoch 127/1000\n",
      "60/60 [==============================] - 1s 11ms/step - loss: 0.1856 - acc: 0.9453 - val_loss: 0.1620 - val_acc: 0.9526\n",
      "\n",
      "Epoch 00127: val_acc improved from 0.95220 to 0.95260, saving model to ./model\\127-0.9526.hdf5\n",
      "Epoch 128/1000\n",
      "60/60 [==============================] - 1s 11ms/step - loss: 0.1889 - acc: 0.9450 - val_loss: 0.1613 - val_acc: 0.9528\n",
      "\n",
      "Epoch 00128: val_acc improved from 0.95260 to 0.95280, saving model to ./model\\128-0.9528.hdf5\n",
      "Epoch 129/1000\n",
      "60/60 [==============================] - 1s 12ms/step - loss: 0.1858 - acc: 0.9464 - val_loss: 0.1609 - val_acc: 0.9529\n",
      "\n",
      "Epoch 00129: val_acc improved from 0.95280 to 0.95290, saving model to ./model\\129-0.9529.hdf5\n",
      "Epoch 130/1000\n",
      "60/60 [==============================] - 1s 12ms/step - loss: 0.1881 - acc: 0.9458 - val_loss: 0.1601 - val_acc: 0.9531\n",
      "\n",
      "Epoch 00130: val_acc improved from 0.95290 to 0.95310, saving model to ./model\\130-0.9531.hdf5\n",
      "Epoch 131/1000\n",
      "60/60 [==============================] - 1s 11ms/step - loss: 0.1812 - acc: 0.9494 - val_loss: 0.1596 - val_acc: 0.9530\n",
      "\n",
      "Epoch 00131: val_acc did not improve from 0.95310\n",
      "Epoch 132/1000\n",
      "60/60 [==============================] - 1s 11ms/step - loss: 0.1800 - acc: 0.9480 - val_loss: 0.1588 - val_acc: 0.9534\n",
      "\n",
      "Epoch 00132: val_acc improved from 0.95310 to 0.95340, saving model to ./model\\132-0.9534.hdf5\n",
      "Epoch 133/1000\n",
      "60/60 [==============================] - 1s 12ms/step - loss: 0.1818 - acc: 0.9474 - val_loss: 0.1582 - val_acc: 0.9530\n",
      "\n",
      "Epoch 00133: val_acc did not improve from 0.95340\n",
      "Epoch 134/1000\n",
      "60/60 [==============================] - 1s 11ms/step - loss: 0.1800 - acc: 0.9490 - val_loss: 0.1579 - val_acc: 0.9535\n",
      "\n",
      "Epoch 00134: val_acc improved from 0.95340 to 0.95350, saving model to ./model\\134-0.9535.hdf5\n",
      "Epoch 135/1000\n",
      "60/60 [==============================] - 1s 12ms/step - loss: 0.1836 - acc: 0.9469 - val_loss: 0.1570 - val_acc: 0.9533\n",
      "\n",
      "Epoch 00135: val_acc did not improve from 0.95350\n",
      "Epoch 136/1000\n",
      "60/60 [==============================] - 1s 11ms/step - loss: 0.1779 - acc: 0.9484 - val_loss: 0.1565 - val_acc: 0.9534\n",
      "\n",
      "Epoch 00136: val_acc did not improve from 0.95350\n",
      "Epoch 137/1000\n",
      "60/60 [==============================] - 1s 11ms/step - loss: 0.1790 - acc: 0.9495 - val_loss: 0.1558 - val_acc: 0.9539\n",
      "\n",
      "Epoch 00137: val_acc improved from 0.95350 to 0.95390, saving model to ./model\\137-0.9539.hdf5\n",
      "Epoch 138/1000\n",
      "60/60 [==============================] - 1s 11ms/step - loss: 0.1758 - acc: 0.9500 - val_loss: 0.1552 - val_acc: 0.9539\n",
      "\n",
      "Epoch 00138: val_acc did not improve from 0.95390\n",
      "Epoch 139/1000\n",
      "60/60 [==============================] - 1s 11ms/step - loss: 0.1758 - acc: 0.9501 - val_loss: 0.1545 - val_acc: 0.9541\n",
      "\n",
      "Epoch 00139: val_acc improved from 0.95390 to 0.95410, saving model to ./model\\139-0.9541.hdf5\n",
      "Epoch 140/1000\n",
      "60/60 [==============================] - 1s 11ms/step - loss: 0.1776 - acc: 0.9483 - val_loss: 0.1541 - val_acc: 0.9541\n",
      "\n",
      "Epoch 00140: val_acc did not improve from 0.95410\n",
      "Epoch 141/1000\n",
      "60/60 [==============================] - 1s 12ms/step - loss: 0.1775 - acc: 0.9499 - val_loss: 0.1535 - val_acc: 0.9544\n",
      "\n",
      "Epoch 00141: val_acc improved from 0.95410 to 0.95440, saving model to ./model\\141-0.9544.hdf5\n",
      "Epoch 142/1000\n",
      "60/60 [==============================] - 1s 12ms/step - loss: 0.1754 - acc: 0.9493 - val_loss: 0.1531 - val_acc: 0.9548\n",
      "\n",
      "Epoch 00142: val_acc improved from 0.95440 to 0.95480, saving model to ./model\\142-0.9548.hdf5\n",
      "Epoch 143/1000\n",
      "60/60 [==============================] - 1s 13ms/step - loss: 0.1759 - acc: 0.9504 - val_loss: 0.1522 - val_acc: 0.9550\n",
      "\n",
      "Epoch 00143: val_acc improved from 0.95480 to 0.95500, saving model to ./model\\143-0.9550.hdf5\n",
      "Epoch 144/1000\n",
      "60/60 [==============================] - 1s 12ms/step - loss: 0.1730 - acc: 0.9500 - val_loss: 0.1518 - val_acc: 0.9548\n",
      "\n",
      "Epoch 00144: val_acc did not improve from 0.95500\n",
      "Epoch 145/1000\n",
      "60/60 [==============================] - 1s 12ms/step - loss: 0.1739 - acc: 0.9504 - val_loss: 0.1515 - val_acc: 0.9553\n",
      "\n",
      "Epoch 00145: val_acc improved from 0.95500 to 0.95530, saving model to ./model\\145-0.9553.hdf5\n",
      "Epoch 146/1000\n",
      "60/60 [==============================] - 1s 14ms/step - loss: 0.1772 - acc: 0.9493 - val_loss: 0.1506 - val_acc: 0.9560\n",
      "\n",
      "Epoch 00146: val_acc improved from 0.95530 to 0.95600, saving model to ./model\\146-0.9560.hdf5\n",
      "Epoch 147/1000\n",
      "60/60 [==============================] - 1s 13ms/step - loss: 0.1693 - acc: 0.9521 - val_loss: 0.1502 - val_acc: 0.9556\n",
      "\n",
      "Epoch 00147: val_acc did not improve from 0.95600\n",
      "Epoch 148/1000\n",
      "60/60 [==============================] - 1s 12ms/step - loss: 0.1718 - acc: 0.9518 - val_loss: 0.1496 - val_acc: 0.9556\n",
      "\n",
      "Epoch 00148: val_acc did not improve from 0.95600\n",
      "Epoch 149/1000\n",
      "60/60 [==============================] - 1s 12ms/step - loss: 0.1690 - acc: 0.9530 - val_loss: 0.1492 - val_acc: 0.9558\n",
      "\n",
      "Epoch 00149: val_acc did not improve from 0.95600\n"
     ]
    },
    {
     "data": {
      "text/plain": [
       "<tensorflow.python.keras.callbacks.History at 0x1e15a9ec520>"
      ]
     },
     "execution_count": 4,
     "metadata": {},
     "output_type": "execute_result"
    }
   ],
   "source": [
    "model = Sequential()\n",
    "model.add(Flatten(input_shape=(28,28)))\n",
    "model.add(Dense(360, activation='relu'))\n",
    "model.add(Dense(128, activation='relu'))\n",
    "model.add(Dropout(0.2))\n",
    "model.add(Dense(10, activation='softmax'))\n",
    "model.compile(optimizer='SGD', loss='sparse_categorical_crossentropy', metrics=['acc'])\n",
    "\n",
    "\n",
    "#checkpoint(모델), early_stopping(가중치)를 동시에 저장함\n",
    "model.fit(x_train, y_train, validation_data=(x_test, y_test), batch_size=1000, epochs=1000, \n",
    "          verbose=1, callbacks=[checkpoint, early_stopping, tensor_board])"
   ]
  },
  {
   "cell_type": "code",
   "execution_count": null,
   "metadata": {
    "ExecuteTime": {
     "end_time": "2021-04-30T01:26:21.458215Z",
     "start_time": "2021-04-30T01:26:20.976749Z"
    }
   },
   "outputs": [],
   "source": [
    "model.evaluate(x_test, y_test)"
   ]
  },
  {
   "cell_type": "markdown",
   "metadata": {},
   "source": [
    "## 모델구조 저장하고 불러오기 (json)"
   ]
  },
  {
   "cell_type": "code",
   "execution_count": null,
   "metadata": {
    "ExecuteTime": {
     "end_time": "2021-04-30T01:40:12.563827Z",
     "start_time": "2021-04-30T01:40:10.407114Z"
    }
   },
   "outputs": [],
   "source": [
    "#커널 재시작\n",
    "from tensorflow.keras.models import load_model\n",
    "model = load_model('./model/84-0.9412.hdf5')"
   ]
  },
  {
   "cell_type": "code",
   "execution_count": null,
   "metadata": {},
   "outputs": [],
   "source": [
    "model.compile(optimizer='SGD', loss='sparse_categorical_crossentropy', metrics=['acc'])"
   ]
  },
  {
   "cell_type": "code",
   "execution_count": null,
   "metadata": {
    "ExecuteTime": {
     "end_time": "2021-04-30T01:40:14.538455Z",
     "start_time": "2021-04-30T01:40:13.727895Z"
    }
   },
   "outputs": [],
   "source": [
    "import tensorflow as tf\n",
    "\n",
    "mnist = tf.keras.datasets.mnist\n",
    "(x_train, y_train), (x_test, y_test) = mnist.load_data()\n",
    "\n",
    "x_train, x_test = x_train/255.0, x_test/255.0\n",
    "\n",
    "model.evaluate(x_test, y_test)"
   ]
  },
  {
   "cell_type": "code",
   "execution_count": null,
   "metadata": {
    "ExecuteTime": {
     "end_time": "2021-04-30T02:12:46.469881Z",
     "start_time": "2021-04-30T02:12:46.455889Z"
    }
   },
   "outputs": [],
   "source": [
    "# 모델의 구조만 저장\n",
    "\n",
    "model_json = model.to_json()\n",
    "with open (\"digits_model.json\", 'w') as json_file:\n",
    "    json_file.write(model_json)"
   ]
  },
  {
   "cell_type": "code",
   "execution_count": null,
   "metadata": {
    "ExecuteTime": {
     "end_time": "2021-04-30T02:13:14.965389Z",
     "start_time": "2021-04-30T02:13:14.959402Z"
    }
   },
   "outputs": [],
   "source": [
    "model.summary()"
   ]
  },
  {
   "cell_type": "code",
   "execution_count": null,
   "metadata": {
    "ExecuteTime": {
     "end_time": "2021-04-30T02:12:49.855843Z",
     "start_time": "2021-04-30T02:12:49.791301Z"
    }
   },
   "outputs": [],
   "source": [
    "from tensorflow.keras.models import model_from_json\n",
    "with open (\"digits_model.json\", 'r') as f:\n",
    "    load_model_json=f.read()\n",
    "    model = model_from_json(load_model_json)\n",
    "    \n",
    "model.load_weights('./model/84-0.9412.hdf5')"
   ]
  },
  {
   "cell_type": "code",
   "execution_count": null,
   "metadata": {
    "ExecuteTime": {
     "end_time": "2021-04-30T02:13:19.654237Z",
     "start_time": "2021-04-30T02:13:19.199280Z"
    }
   },
   "outputs": [],
   "source": [
    "#모델의 구조와 가중치를 따로 불러왔기 때문에 컴파일을 다시 해주어야함\n",
    "model.compile(optimizer='SGD', loss='sparse_categorical_crossentropy', metrics=['acc'])\n",
    "\n",
    "model.evaluate(x_test, y_test)"
   ]
  },
  {
   "cell_type": "code",
   "execution_count": null,
   "metadata": {},
   "outputs": [],
   "source": []
  }
 ],
 "metadata": {
  "kernelspec": {
   "display_name": "Python 3",
   "language": "python",
   "name": "python3"
  },
  "language_info": {
   "codemirror_mode": {
    "name": "ipython",
    "version": 3
   },
   "file_extension": ".py",
   "mimetype": "text/x-python",
   "name": "python",
   "nbconvert_exporter": "python",
   "pygments_lexer": "ipython3",
   "version": "3.8.5"
  },
  "toc": {
   "base_numbering": 1,
   "nav_menu": {},
   "number_sections": true,
   "sideBar": true,
   "skip_h1_title": false,
   "title_cell": "Table of Contents",
   "title_sidebar": "Contents",
   "toc_cell": false,
   "toc_position": {},
   "toc_section_display": true,
   "toc_window_display": false
  },
  "varInspector": {
   "cols": {
    "lenName": 16,
    "lenType": 16,
    "lenVar": 40
   },
   "kernels_config": {
    "python": {
     "delete_cmd_postfix": "",
     "delete_cmd_prefix": "del ",
     "library": "var_list.py",
     "varRefreshCmd": "print(var_dic_list())"
    },
    "r": {
     "delete_cmd_postfix": ") ",
     "delete_cmd_prefix": "rm(",
     "library": "var_list.r",
     "varRefreshCmd": "cat(var_dic_list()) "
    }
   },
   "types_to_exclude": [
    "module",
    "function",
    "builtin_function_or_method",
    "instance",
    "_Feature"
   ],
   "window_display": false
  }
 },
 "nbformat": 4,
 "nbformat_minor": 4
}
