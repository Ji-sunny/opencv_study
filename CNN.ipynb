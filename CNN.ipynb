{
 "cells": [
  {
   "cell_type": "markdown",
   "metadata": {},
   "source": [
    "# CNN\n",
    "- 합성곱 계층: 사진의 뉴런이 늘어남 (Convolution)\n",
    "- 풀링 계층: 사이즈를 줄임 (Pooling)\n",
    "- Feature Extraction & Classification"
   ]
  },
  {
   "cell_type": "code",
   "execution_count": 1,
   "metadata": {
    "ExecuteTime": {
     "end_time": "2021-04-29T06:58:04.424221Z",
     "start_time": "2021-04-29T06:58:04.381195Z"
    }
   },
   "outputs": [
    {
     "name": "stdout",
     "output_type": "stream",
     "text": [
      "(1000, 2000)\n"
     ]
    }
   ],
   "source": [
    "import cv2\n",
    "img = cv2.imread('./images/digits.png', 0)\n",
    "print(img.shape)"
   ]
  },
  {
   "cell_type": "code",
   "execution_count": 2,
   "metadata": {
    "ExecuteTime": {
     "end_time": "2021-04-29T06:58:06.149857Z",
     "start_time": "2021-04-29T06:58:05.076842Z"
    }
   },
   "outputs": [
    {
     "name": "stdout",
     "output_type": "stream",
     "text": [
      "(3500, 20, 20, 1) (3500, 10)\n"
     ]
    }
   ],
   "source": [
    "import numpy as np\n",
    "import pandas as pd\n",
    "\n",
    "cells = [np.hsplit(row, 100) for row in np.vsplit(img, 50)]\n",
    "x = np.array(cells)/255.\n",
    "img_rows, img_cols = 20, 20\n",
    "X = x.reshape(-1, img_rows, img_cols, 1)\n",
    "y = pd.get_dummies(np.repeat(np.arange(10), 500)).to_numpy()\n",
    "\n",
    "from sklearn.model_selection import train_test_split\n",
    "\n",
    "train_X, test_X, train_y, test_y = train_test_split(X, y, test_size=0.3, random_state=1)\n",
    "\n",
    "print(train_X.shape, train_y.shape)"
   ]
  },
  {
   "cell_type": "code",
   "execution_count": 3,
   "metadata": {
    "ExecuteTime": {
     "end_time": "2021-04-29T06:58:36.632500Z",
     "start_time": "2021-04-29T06:58:34.466910Z"
    }
   },
   "outputs": [],
   "source": [
    "from tensorflow.keras.models import Sequential\n",
    "\n",
    "model = Sequential()"
   ]
  },
  {
   "cell_type": "code",
   "execution_count": 4,
   "metadata": {
    "ExecuteTime": {
     "end_time": "2021-04-29T06:59:05.732467Z",
     "start_time": "2021-04-29T06:59:05.653864Z"
    }
   },
   "outputs": [],
   "source": [
    "from tensorflow.keras.layers import Conv2D, Flatten, Dense, Input, Dropout, MaxPooling2D\n",
    "\n",
    "model.add(Conv2D(32, kernel_size=(3,3), input_shape=(img_rows, img_cols, 1), activation='relu')) #28, 28, 1\n",
    "model.add(MaxPooling2D(pool_size=(2,2)))\n",
    "model.add(Dropout(0.1))\n",
    "\n",
    "model.add(Conv2D(64, kernel_size=(3,3), activation='relu'))\n",
    "model.add(MaxPooling2D(pool_size=(2,2)))\n",
    "model.add(Dropout(0.25))\n",
    "\n",
    "model.add(Flatten())\n",
    "model.add(Dense(128, activation='relu'))\n",
    "model.add(Dropout(0.5))\n",
    "model.add(Dense(10, activation='softmax'))\n"
   ]
  },
  {
   "cell_type": "code",
   "execution_count": 5,
   "metadata": {
    "ExecuteTime": {
     "end_time": "2021-04-29T06:59:34.222206Z",
     "start_time": "2021-04-29T06:59:34.205793Z"
    }
   },
   "outputs": [],
   "source": [
    "from tensorflow.keras.optimizers import Adam\n",
    "\n",
    "model.compile(loss='categorical_crossentropy', optimizer=Adam(0.001), metrics=['acc'])"
   ]
  },
  {
   "cell_type": "code",
   "execution_count": 6,
   "metadata": {
    "ExecuteTime": {
     "end_time": "2021-04-29T07:02:06.439240Z",
     "start_time": "2021-04-29T07:00:03.194183Z"
    }
   },
   "outputs": [
    {
     "name": "stdout",
     "output_type": "stream",
     "text": [
      "Epoch 1/200\n",
      "28/28 [==============================] - 2s 52ms/step - loss: 2.2066 - acc: 0.2227 - val_loss: 1.4389 - val_acc: 0.6707\n",
      "Epoch 2/200\n",
      "28/28 [==============================] - 1s 22ms/step - loss: 1.3646 - acc: 0.5671 - val_loss: 0.5775 - val_acc: 0.8447\n",
      "Epoch 3/200\n",
      "28/28 [==============================] - 1s 22ms/step - loss: 0.7354 - acc: 0.7764 - val_loss: 0.3838 - val_acc: 0.8893\n",
      "Epoch 4/200\n",
      "28/28 [==============================] - 1s 22ms/step - loss: 0.5375 - acc: 0.8379 - val_loss: 0.3097 - val_acc: 0.9020\n",
      "Epoch 5/200\n",
      "28/28 [==============================] - 1s 23ms/step - loss: 0.4200 - acc: 0.8712 - val_loss: 0.2386 - val_acc: 0.9220\n",
      "Epoch 6/200\n",
      "28/28 [==============================] - 1s 22ms/step - loss: 0.3492 - acc: 0.8934 - val_loss: 0.2186 - val_acc: 0.9260\n",
      "Epoch 7/200\n",
      "28/28 [==============================] - 1s 24ms/step - loss: 0.3040 - acc: 0.9057 - val_loss: 0.1979 - val_acc: 0.9340\n",
      "Epoch 8/200\n",
      "28/28 [==============================] - 1s 22ms/step - loss: 0.2545 - acc: 0.9245 - val_loss: 0.1797 - val_acc: 0.9393\n",
      "Epoch 9/200\n",
      "28/28 [==============================] - 1s 22ms/step - loss: 0.2212 - acc: 0.9343 - val_loss: 0.1590 - val_acc: 0.9453\n",
      "Epoch 10/200\n",
      "28/28 [==============================] - 1s 21ms/step - loss: 0.2111 - acc: 0.9410 - val_loss: 0.1633 - val_acc: 0.9473\n",
      "Epoch 11/200\n",
      "28/28 [==============================] - 1s 22ms/step - loss: 0.2039 - acc: 0.9416 - val_loss: 0.1468 - val_acc: 0.9487\n",
      "Epoch 12/200\n",
      "28/28 [==============================] - 1s 22ms/step - loss: 0.1751 - acc: 0.9489 - val_loss: 0.1383 - val_acc: 0.9560\n",
      "Epoch 13/200\n",
      "28/28 [==============================] - 1s 22ms/step - loss: 0.1492 - acc: 0.9534 - val_loss: 0.1377 - val_acc: 0.9573\n",
      "Epoch 14/200\n",
      "28/28 [==============================] - 1s 24ms/step - loss: 0.1548 - acc: 0.9625 - val_loss: 0.1288 - val_acc: 0.9587\n",
      "Epoch 15/200\n",
      "28/28 [==============================] - 1s 22ms/step - loss: 0.1460 - acc: 0.9554 - val_loss: 0.1260 - val_acc: 0.9600\n",
      "Epoch 16/200\n",
      "28/28 [==============================] - 1s 22ms/step - loss: 0.1429 - acc: 0.9596 - val_loss: 0.1205 - val_acc: 0.9600\n",
      "Epoch 17/200\n",
      "28/28 [==============================] - 1s 21ms/step - loss: 0.1386 - acc: 0.9596 - val_loss: 0.1185 - val_acc: 0.9633\n",
      "Epoch 18/200\n",
      "28/28 [==============================] - 1s 22ms/step - loss: 0.1263 - acc: 0.9611 - val_loss: 0.1113 - val_acc: 0.9620\n",
      "Epoch 19/200\n",
      "28/28 [==============================] - 1s 22ms/step - loss: 0.1070 - acc: 0.9706 - val_loss: 0.1116 - val_acc: 0.9653\n",
      "Epoch 20/200\n",
      "28/28 [==============================] - 1s 22ms/step - loss: 0.1093 - acc: 0.9675 - val_loss: 0.1148 - val_acc: 0.9627\n",
      "Epoch 21/200\n",
      "28/28 [==============================] - 1s 21ms/step - loss: 0.1238 - acc: 0.9623 - val_loss: 0.1187 - val_acc: 0.9633\n",
      "Epoch 22/200\n",
      "28/28 [==============================] - 1s 21ms/step - loss: 0.1169 - acc: 0.9648 - val_loss: 0.1089 - val_acc: 0.9673\n",
      "Epoch 23/200\n",
      "28/28 [==============================] - 1s 22ms/step - loss: 0.0968 - acc: 0.9706 - val_loss: 0.1122 - val_acc: 0.9673\n",
      "Epoch 24/200\n",
      "28/28 [==============================] - 1s 22ms/step - loss: 0.1013 - acc: 0.9705 - val_loss: 0.1081 - val_acc: 0.9640\n",
      "Epoch 25/200\n",
      "28/28 [==============================] - 1s 22ms/step - loss: 0.0958 - acc: 0.9674 - val_loss: 0.1058 - val_acc: 0.9667\n",
      "Epoch 26/200\n",
      "28/28 [==============================] - 1s 22ms/step - loss: 0.0962 - acc: 0.9731 - val_loss: 0.1034 - val_acc: 0.9673\n",
      "Epoch 27/200\n",
      "28/28 [==============================] - 1s 22ms/step - loss: 0.0908 - acc: 0.9740 - val_loss: 0.1076 - val_acc: 0.9700\n",
      "Epoch 28/200\n",
      "28/28 [==============================] - 1s 22ms/step - loss: 0.0960 - acc: 0.9758 - val_loss: 0.1039 - val_acc: 0.9700\n",
      "Epoch 29/200\n",
      "28/28 [==============================] - 1s 23ms/step - loss: 0.0705 - acc: 0.9766 - val_loss: 0.1007 - val_acc: 0.9700\n",
      "Epoch 30/200\n",
      "28/28 [==============================] - 1s 22ms/step - loss: 0.0864 - acc: 0.9728 - val_loss: 0.1016 - val_acc: 0.9713\n",
      "Epoch 31/200\n",
      "28/28 [==============================] - 1s 21ms/step - loss: 0.0766 - acc: 0.9710 - val_loss: 0.1055 - val_acc: 0.9653\n",
      "Epoch 32/200\n",
      "28/28 [==============================] - 1s 22ms/step - loss: 0.0658 - acc: 0.9791 - val_loss: 0.0965 - val_acc: 0.9693\n",
      "Epoch 33/200\n",
      "28/28 [==============================] - 1s 22ms/step - loss: 0.0759 - acc: 0.9814 - val_loss: 0.0932 - val_acc: 0.9713\n",
      "Epoch 34/200\n",
      "28/28 [==============================] - 1s 22ms/step - loss: 0.0651 - acc: 0.9762 - val_loss: 0.0962 - val_acc: 0.9740\n",
      "Epoch 35/200\n",
      "28/28 [==============================] - 1s 22ms/step - loss: 0.0633 - acc: 0.9777 - val_loss: 0.1004 - val_acc: 0.9747\n",
      "Epoch 36/200\n",
      "28/28 [==============================] - 1s 21ms/step - loss: 0.0608 - acc: 0.9811 - val_loss: 0.0931 - val_acc: 0.9733\n",
      "Epoch 37/200\n",
      "28/28 [==============================] - 1s 21ms/step - loss: 0.0543 - acc: 0.9846 - val_loss: 0.0964 - val_acc: 0.9753\n",
      "Epoch 38/200\n",
      "28/28 [==============================] - 1s 22ms/step - loss: 0.0492 - acc: 0.9845 - val_loss: 0.0895 - val_acc: 0.9733\n",
      "Epoch 39/200\n",
      "28/28 [==============================] - 1s 21ms/step - loss: 0.0500 - acc: 0.9831 - val_loss: 0.0899 - val_acc: 0.9727\n",
      "Epoch 40/200\n",
      "28/28 [==============================] - 1s 22ms/step - loss: 0.0625 - acc: 0.9835 - val_loss: 0.0968 - val_acc: 0.9713\n",
      "Epoch 41/200\n",
      "28/28 [==============================] - 1s 21ms/step - loss: 0.0526 - acc: 0.9825 - val_loss: 0.0899 - val_acc: 0.9727\n",
      "Epoch 42/200\n",
      "28/28 [==============================] - 1s 22ms/step - loss: 0.0563 - acc: 0.9824 - val_loss: 0.0880 - val_acc: 0.9713\n",
      "Epoch 43/200\n",
      "28/28 [==============================] - 1s 22ms/step - loss: 0.0470 - acc: 0.9869 - val_loss: 0.0901 - val_acc: 0.9733\n",
      "Epoch 44/200\n",
      "28/28 [==============================] - 1s 22ms/step - loss: 0.0442 - acc: 0.9848 - val_loss: 0.0948 - val_acc: 0.9713\n",
      "Epoch 45/200\n",
      "28/28 [==============================] - 1s 22ms/step - loss: 0.0435 - acc: 0.9859 - val_loss: 0.0990 - val_acc: 0.9727\n",
      "Epoch 46/200\n",
      "28/28 [==============================] - 1s 21ms/step - loss: 0.0348 - acc: 0.9895 - val_loss: 0.1007 - val_acc: 0.9713\n",
      "Epoch 47/200\n",
      "28/28 [==============================] - 1s 22ms/step - loss: 0.0452 - acc: 0.9835 - val_loss: 0.0947 - val_acc: 0.9707\n",
      "Epoch 48/200\n",
      "28/28 [==============================] - 1s 22ms/step - loss: 0.0401 - acc: 0.9886 - val_loss: 0.1005 - val_acc: 0.9713\n",
      "Epoch 49/200\n",
      "28/28 [==============================] - 1s 23ms/step - loss: 0.0471 - acc: 0.9850 - val_loss: 0.1126 - val_acc: 0.9720\n",
      "Epoch 50/200\n",
      "28/28 [==============================] - 1s 21ms/step - loss: 0.0317 - acc: 0.9900 - val_loss: 0.1108 - val_acc: 0.9720\n",
      "Epoch 51/200\n",
      "28/28 [==============================] - 1s 22ms/step - loss: 0.0413 - acc: 0.9904 - val_loss: 0.1009 - val_acc: 0.9733\n",
      "Epoch 52/200\n",
      "28/28 [==============================] - 1s 21ms/step - loss: 0.0327 - acc: 0.9912 - val_loss: 0.1027 - val_acc: 0.9740\n",
      "Epoch 53/200\n",
      "28/28 [==============================] - 1s 23ms/step - loss: 0.0454 - acc: 0.9861 - val_loss: 0.0984 - val_acc: 0.9733\n",
      "Epoch 54/200\n",
      "28/28 [==============================] - 1s 21ms/step - loss: 0.0428 - acc: 0.9845 - val_loss: 0.0933 - val_acc: 0.9740\n",
      "Epoch 55/200\n",
      "28/28 [==============================] - 1s 21ms/step - loss: 0.0393 - acc: 0.9885 - val_loss: 0.0981 - val_acc: 0.9727\n",
      "Epoch 56/200\n",
      "28/28 [==============================] - 1s 21ms/step - loss: 0.0303 - acc: 0.9898 - val_loss: 0.0960 - val_acc: 0.9727\n",
      "Epoch 57/200\n",
      "28/28 [==============================] - 1s 21ms/step - loss: 0.0260 - acc: 0.9913 - val_loss: 0.0982 - val_acc: 0.9747\n",
      "Epoch 58/200\n",
      "28/28 [==============================] - 1s 22ms/step - loss: 0.0346 - acc: 0.9871 - val_loss: 0.1086 - val_acc: 0.9713\n",
      "Epoch 59/200\n",
      "28/28 [==============================] - 1s 22ms/step - loss: 0.0326 - acc: 0.9892 - val_loss: 0.0952 - val_acc: 0.9733\n",
      "Epoch 60/200\n",
      "28/28 [==============================] - 1s 21ms/step - loss: 0.0251 - acc: 0.9903 - val_loss: 0.1012 - val_acc: 0.9767\n",
      "Epoch 61/200\n",
      "28/28 [==============================] - 1s 21ms/step - loss: 0.0349 - acc: 0.9898 - val_loss: 0.1039 - val_acc: 0.9693\n",
      "Epoch 62/200\n"
     ]
    },
    {
     "name": "stdout",
     "output_type": "stream",
     "text": [
      "28/28 [==============================] - 1s 22ms/step - loss: 0.0225 - acc: 0.9948 - val_loss: 0.1050 - val_acc: 0.9740\n",
      "Epoch 63/200\n",
      "28/28 [==============================] - 1s 21ms/step - loss: 0.0225 - acc: 0.9940 - val_loss: 0.1037 - val_acc: 0.9733\n",
      "Epoch 64/200\n",
      "28/28 [==============================] - 1s 22ms/step - loss: 0.0236 - acc: 0.9908 - val_loss: 0.0947 - val_acc: 0.9740\n",
      "Epoch 65/200\n",
      "28/28 [==============================] - 1s 21ms/step - loss: 0.0361 - acc: 0.9869 - val_loss: 0.0965 - val_acc: 0.9740\n",
      "Epoch 66/200\n",
      "28/28 [==============================] - 1s 22ms/step - loss: 0.0255 - acc: 0.9916 - val_loss: 0.1002 - val_acc: 0.9767\n",
      "Epoch 67/200\n",
      "28/28 [==============================] - 1s 22ms/step - loss: 0.0325 - acc: 0.9885 - val_loss: 0.0917 - val_acc: 0.9740\n",
      "Epoch 68/200\n",
      "28/28 [==============================] - 1s 22ms/step - loss: 0.0347 - acc: 0.9889 - val_loss: 0.0950 - val_acc: 0.9747\n",
      "Epoch 69/200\n",
      "28/28 [==============================] - 1s 21ms/step - loss: 0.0262 - acc: 0.9921 - val_loss: 0.1038 - val_acc: 0.9747\n",
      "Epoch 70/200\n",
      "28/28 [==============================] - 1s 21ms/step - loss: 0.0246 - acc: 0.9932 - val_loss: 0.1006 - val_acc: 0.9733\n",
      "Epoch 71/200\n",
      "28/28 [==============================] - 1s 21ms/step - loss: 0.0199 - acc: 0.9935 - val_loss: 0.1014 - val_acc: 0.9733\n",
      "Epoch 72/200\n",
      "28/28 [==============================] - 1s 22ms/step - loss: 0.0261 - acc: 0.9915 - val_loss: 0.1011 - val_acc: 0.9733\n",
      "Epoch 73/200\n",
      "28/28 [==============================] - 1s 21ms/step - loss: 0.0230 - acc: 0.9921 - val_loss: 0.0999 - val_acc: 0.9707\n",
      "Epoch 74/200\n",
      "28/28 [==============================] - 1s 21ms/step - loss: 0.0283 - acc: 0.9883 - val_loss: 0.1084 - val_acc: 0.9747\n",
      "Epoch 75/200\n",
      "28/28 [==============================] - 1s 21ms/step - loss: 0.0235 - acc: 0.9916 - val_loss: 0.0923 - val_acc: 0.9747\n",
      "Epoch 76/200\n",
      "28/28 [==============================] - 1s 21ms/step - loss: 0.0236 - acc: 0.9938 - val_loss: 0.0919 - val_acc: 0.9747\n",
      "Epoch 77/200\n",
      "28/28 [==============================] - 1s 23ms/step - loss: 0.0240 - acc: 0.9925 - val_loss: 0.0943 - val_acc: 0.9713\n",
      "Epoch 78/200\n",
      "28/28 [==============================] - 1s 21ms/step - loss: 0.0218 - acc: 0.9932 - val_loss: 0.0995 - val_acc: 0.9720\n",
      "Epoch 79/200\n",
      "28/28 [==============================] - 1s 21ms/step - loss: 0.0194 - acc: 0.9938 - val_loss: 0.1073 - val_acc: 0.9747\n",
      "Epoch 80/200\n",
      "28/28 [==============================] - 1s 22ms/step - loss: 0.0172 - acc: 0.9959 - val_loss: 0.1201 - val_acc: 0.9747\n",
      "Epoch 81/200\n",
      "28/28 [==============================] - 1s 22ms/step - loss: 0.0279 - acc: 0.9921 - val_loss: 0.1130 - val_acc: 0.9733\n",
      "Epoch 82/200\n",
      "28/28 [==============================] - 1s 22ms/step - loss: 0.0220 - acc: 0.9938 - val_loss: 0.1050 - val_acc: 0.9773\n",
      "Epoch 83/200\n",
      "28/28 [==============================] - 1s 21ms/step - loss: 0.0237 - acc: 0.9913 - val_loss: 0.1030 - val_acc: 0.9760\n",
      "Epoch 84/200\n",
      "28/28 [==============================] - 1s 21ms/step - loss: 0.0200 - acc: 0.9941 - val_loss: 0.1098 - val_acc: 0.9760\n",
      "Epoch 85/200\n",
      "28/28 [==============================] - 1s 21ms/step - loss: 0.0171 - acc: 0.9930 - val_loss: 0.1239 - val_acc: 0.9720\n",
      "Epoch 86/200\n",
      "28/28 [==============================] - 1s 22ms/step - loss: 0.0180 - acc: 0.9923 - val_loss: 0.1059 - val_acc: 0.9760\n",
      "Epoch 87/200\n",
      "28/28 [==============================] - 1s 22ms/step - loss: 0.0162 - acc: 0.9933 - val_loss: 0.0999 - val_acc: 0.9767\n",
      "Epoch 88/200\n",
      "28/28 [==============================] - 1s 22ms/step - loss: 0.0207 - acc: 0.9944 - val_loss: 0.1054 - val_acc: 0.9760\n",
      "Epoch 89/200\n",
      "28/28 [==============================] - 1s 22ms/step - loss: 0.0155 - acc: 0.9944 - val_loss: 0.1084 - val_acc: 0.9780\n",
      "Epoch 90/200\n",
      "28/28 [==============================] - 1s 21ms/step - loss: 0.0194 - acc: 0.9943 - val_loss: 0.1009 - val_acc: 0.9753\n",
      "Epoch 91/200\n",
      "28/28 [==============================] - 1s 22ms/step - loss: 0.0168 - acc: 0.9958 - val_loss: 0.1095 - val_acc: 0.9753\n",
      "Epoch 92/200\n",
      "28/28 [==============================] - 1s 21ms/step - loss: 0.0131 - acc: 0.9969 - val_loss: 0.1069 - val_acc: 0.9767\n",
      "Epoch 93/200\n",
      "28/28 [==============================] - 1s 21ms/step - loss: 0.0194 - acc: 0.9919 - val_loss: 0.1173 - val_acc: 0.9727\n",
      "Epoch 94/200\n",
      "28/28 [==============================] - 1s 22ms/step - loss: 0.0172 - acc: 0.9943 - val_loss: 0.1104 - val_acc: 0.9753\n",
      "Epoch 95/200\n",
      "28/28 [==============================] - 1s 21ms/step - loss: 0.0165 - acc: 0.9955 - val_loss: 0.1163 - val_acc: 0.9740\n",
      "Epoch 96/200\n",
      "28/28 [==============================] - 1s 22ms/step - loss: 0.0176 - acc: 0.9961 - val_loss: 0.1179 - val_acc: 0.9733\n",
      "Epoch 97/200\n",
      "28/28 [==============================] - 1s 22ms/step - loss: 0.0157 - acc: 0.9966 - val_loss: 0.1126 - val_acc: 0.9753\n",
      "Epoch 98/200\n",
      "28/28 [==============================] - 1s 21ms/step - loss: 0.0169 - acc: 0.9934 - val_loss: 0.1204 - val_acc: 0.9733\n",
      "Epoch 99/200\n",
      "28/28 [==============================] - 1s 22ms/step - loss: 0.0139 - acc: 0.9943 - val_loss: 0.1137 - val_acc: 0.9740\n",
      "Epoch 100/200\n",
      "28/28 [==============================] - 1s 22ms/step - loss: 0.0206 - acc: 0.9936 - val_loss: 0.1080 - val_acc: 0.9767\n",
      "Epoch 101/200\n",
      "28/28 [==============================] - 1s 21ms/step - loss: 0.0159 - acc: 0.9959 - val_loss: 0.1132 - val_acc: 0.9747\n",
      "Epoch 102/200\n",
      "28/28 [==============================] - 1s 22ms/step - loss: 0.0119 - acc: 0.9961 - val_loss: 0.1169 - val_acc: 0.9747\n",
      "Epoch 103/200\n",
      "28/28 [==============================] - 1s 22ms/step - loss: 0.0193 - acc: 0.9935 - val_loss: 0.1053 - val_acc: 0.9747\n",
      "Epoch 104/200\n",
      "28/28 [==============================] - 1s 21ms/step - loss: 0.0135 - acc: 0.9961 - val_loss: 0.1124 - val_acc: 0.9753\n",
      "Epoch 105/200\n",
      "28/28 [==============================] - 1s 22ms/step - loss: 0.0156 - acc: 0.9948 - val_loss: 0.1056 - val_acc: 0.9740\n",
      "Epoch 106/200\n",
      "28/28 [==============================] - 1s 21ms/step - loss: 0.0199 - acc: 0.9928 - val_loss: 0.1124 - val_acc: 0.9760\n",
      "Epoch 107/200\n",
      "28/28 [==============================] - 1s 22ms/step - loss: 0.0212 - acc: 0.9933 - val_loss: 0.1107 - val_acc: 0.9753\n",
      "Epoch 108/200\n",
      "28/28 [==============================] - 1s 22ms/step - loss: 0.0126 - acc: 0.9962 - val_loss: 0.1137 - val_acc: 0.9780\n",
      "Epoch 109/200\n",
      "28/28 [==============================] - 1s 22ms/step - loss: 0.0108 - acc: 0.9977 - val_loss: 0.1098 - val_acc: 0.9760\n",
      "Epoch 110/200\n",
      "28/28 [==============================] - 1s 21ms/step - loss: 0.0140 - acc: 0.9941 - val_loss: 0.1272 - val_acc: 0.9753\n",
      "Epoch 111/200\n",
      "28/28 [==============================] - 1s 21ms/step - loss: 0.0125 - acc: 0.9958 - val_loss: 0.1286 - val_acc: 0.9747\n",
      "Epoch 112/200\n",
      "28/28 [==============================] - 1s 21ms/step - loss: 0.0164 - acc: 0.9934 - val_loss: 0.1149 - val_acc: 0.9733\n",
      "Epoch 113/200\n",
      "28/28 [==============================] - 1s 22ms/step - loss: 0.0113 - acc: 0.9969 - val_loss: 0.1092 - val_acc: 0.9760\n",
      "Epoch 114/200\n",
      "28/28 [==============================] - 1s 22ms/step - loss: 0.0121 - acc: 0.9966 - val_loss: 0.1170 - val_acc: 0.9767\n",
      "Epoch 115/200\n",
      "28/28 [==============================] - 1s 21ms/step - loss: 0.0190 - acc: 0.9942 - val_loss: 0.1145 - val_acc: 0.9760\n",
      "Epoch 116/200\n",
      "28/28 [==============================] - 1s 21ms/step - loss: 0.0136 - acc: 0.9955 - val_loss: 0.1182 - val_acc: 0.9767\n",
      "Epoch 117/200\n",
      "28/28 [==============================] - 1s 22ms/step - loss: 0.0149 - acc: 0.9951 - val_loss: 0.1232 - val_acc: 0.9747\n",
      "Epoch 118/200\n",
      "28/28 [==============================] - 1s 21ms/step - loss: 0.0148 - acc: 0.9935 - val_loss: 0.1232 - val_acc: 0.9747\n",
      "Epoch 119/200\n",
      "28/28 [==============================] - 1s 22ms/step - loss: 0.0113 - acc: 0.9963 - val_loss: 0.1148 - val_acc: 0.9740\n",
      "Epoch 120/200\n",
      "28/28 [==============================] - 1s 22ms/step - loss: 0.0094 - acc: 0.9977 - val_loss: 0.1343 - val_acc: 0.9733\n",
      "Epoch 121/200\n",
      "28/28 [==============================] - 1s 22ms/step - loss: 0.0073 - acc: 0.9984 - val_loss: 0.1308 - val_acc: 0.9767\n",
      "Epoch 122/200\n",
      "28/28 [==============================] - 1s 22ms/step - loss: 0.0170 - acc: 0.9945 - val_loss: 0.1181 - val_acc: 0.9753\n",
      "Epoch 123/200\n"
     ]
    },
    {
     "name": "stdout",
     "output_type": "stream",
     "text": [
      "28/28 [==============================] - 1s 22ms/step - loss: 0.0120 - acc: 0.9951 - val_loss: 0.1133 - val_acc: 0.9767\n",
      "Epoch 124/200\n",
      "28/28 [==============================] - 1s 22ms/step - loss: 0.0098 - acc: 0.9973 - val_loss: 0.1117 - val_acc: 0.9753\n",
      "Epoch 125/200\n",
      "28/28 [==============================] - 1s 22ms/step - loss: 0.0107 - acc: 0.9973 - val_loss: 0.1194 - val_acc: 0.9753\n",
      "Epoch 126/200\n",
      "28/28 [==============================] - 1s 21ms/step - loss: 0.0076 - acc: 0.9985 - val_loss: 0.1251 - val_acc: 0.9760\n",
      "Epoch 127/200\n",
      "28/28 [==============================] - 1s 22ms/step - loss: 0.0176 - acc: 0.9945 - val_loss: 0.1114 - val_acc: 0.9767\n",
      "Epoch 128/200\n",
      "28/28 [==============================] - 1s 22ms/step - loss: 0.0105 - acc: 0.9968 - val_loss: 0.1235 - val_acc: 0.9760\n",
      "Epoch 129/200\n",
      "28/28 [==============================] - 1s 22ms/step - loss: 0.0160 - acc: 0.9957 - val_loss: 0.1162 - val_acc: 0.9793\n",
      "Epoch 130/200\n",
      "28/28 [==============================] - 1s 22ms/step - loss: 0.0114 - acc: 0.9964 - val_loss: 0.1169 - val_acc: 0.9780\n",
      "Epoch 131/200\n",
      "28/28 [==============================] - 1s 21ms/step - loss: 0.0146 - acc: 0.9947 - val_loss: 0.1174 - val_acc: 0.9800\n",
      "Epoch 132/200\n",
      "28/28 [==============================] - 1s 22ms/step - loss: 0.0202 - acc: 0.9937 - val_loss: 0.1126 - val_acc: 0.9793\n",
      "Epoch 133/200\n",
      "28/28 [==============================] - 1s 22ms/step - loss: 0.0120 - acc: 0.9964 - val_loss: 0.1272 - val_acc: 0.9760\n",
      "Epoch 134/200\n",
      "28/28 [==============================] - 1s 21ms/step - loss: 0.0119 - acc: 0.9946 - val_loss: 0.1230 - val_acc: 0.9773\n",
      "Epoch 135/200\n",
      "28/28 [==============================] - 1s 21ms/step - loss: 0.0196 - acc: 0.9944 - val_loss: 0.1153 - val_acc: 0.9753\n",
      "Epoch 136/200\n",
      "28/28 [==============================] - 1s 21ms/step - loss: 0.0135 - acc: 0.9956 - val_loss: 0.1205 - val_acc: 0.9760\n",
      "Epoch 137/200\n",
      "28/28 [==============================] - 1s 21ms/step - loss: 0.0071 - acc: 0.9982 - val_loss: 0.1234 - val_acc: 0.9773\n",
      "Epoch 138/200\n",
      "28/28 [==============================] - 1s 22ms/step - loss: 0.0104 - acc: 0.9965 - val_loss: 0.1301 - val_acc: 0.9760\n",
      "Epoch 139/200\n",
      "28/28 [==============================] - 1s 22ms/step - loss: 0.0123 - acc: 0.9962 - val_loss: 0.1153 - val_acc: 0.9740\n",
      "Epoch 140/200\n",
      "28/28 [==============================] - 1s 21ms/step - loss: 0.0115 - acc: 0.9967 - val_loss: 0.1348 - val_acc: 0.9740\n",
      "Epoch 141/200\n",
      "28/28 [==============================] - 1s 22ms/step - loss: 0.0111 - acc: 0.9958 - val_loss: 0.1074 - val_acc: 0.9780\n",
      "Epoch 142/200\n",
      "28/28 [==============================] - 1s 22ms/step - loss: 0.0073 - acc: 0.9975 - val_loss: 0.1340 - val_acc: 0.9760\n",
      "Epoch 143/200\n",
      "28/28 [==============================] - 1s 22ms/step - loss: 0.0066 - acc: 0.9982 - val_loss: 0.1456 - val_acc: 0.9753\n",
      "Epoch 144/200\n",
      "28/28 [==============================] - 1s 23ms/step - loss: 0.0138 - acc: 0.9949 - val_loss: 0.1267 - val_acc: 0.9780\n",
      "Epoch 145/200\n",
      "28/28 [==============================] - 1s 22ms/step - loss: 0.0142 - acc: 0.9939 - val_loss: 0.1101 - val_acc: 0.9800\n",
      "Epoch 146/200\n",
      "28/28 [==============================] - 1s 22ms/step - loss: 0.0113 - acc: 0.9962 - val_loss: 0.1198 - val_acc: 0.9773\n",
      "Epoch 147/200\n",
      "28/28 [==============================] - 1s 22ms/step - loss: 0.0092 - acc: 0.9983 - val_loss: 0.1188 - val_acc: 0.9753\n",
      "Epoch 148/200\n",
      "28/28 [==============================] - 1s 22ms/step - loss: 0.0078 - acc: 0.9982 - val_loss: 0.1231 - val_acc: 0.9760\n",
      "Epoch 149/200\n",
      "28/28 [==============================] - 1s 23ms/step - loss: 0.0065 - acc: 0.9983 - val_loss: 0.1163 - val_acc: 0.9793\n",
      "Epoch 150/200\n",
      "28/28 [==============================] - 1s 22ms/step - loss: 0.0138 - acc: 0.9960 - val_loss: 0.1239 - val_acc: 0.9767\n",
      "Epoch 151/200\n",
      "28/28 [==============================] - 1s 22ms/step - loss: 0.0109 - acc: 0.9954 - val_loss: 0.1207 - val_acc: 0.9753\n",
      "Epoch 152/200\n",
      "28/28 [==============================] - 1s 22ms/step - loss: 0.0072 - acc: 0.9986 - val_loss: 0.1040 - val_acc: 0.9767\n",
      "Epoch 153/200\n",
      "28/28 [==============================] - 1s 22ms/step - loss: 0.0081 - acc: 0.9980 - val_loss: 0.1127 - val_acc: 0.9780\n",
      "Epoch 154/200\n",
      "28/28 [==============================] - 1s 22ms/step - loss: 0.0102 - acc: 0.9968 - val_loss: 0.1102 - val_acc: 0.9773\n",
      "Epoch 155/200\n",
      "28/28 [==============================] - 1s 21ms/step - loss: 0.0094 - acc: 0.9962 - val_loss: 0.1372 - val_acc: 0.9753\n",
      "Epoch 156/200\n",
      "28/28 [==============================] - 1s 22ms/step - loss: 0.0074 - acc: 0.9975 - val_loss: 0.1104 - val_acc: 0.9800\n",
      "Epoch 157/200\n",
      "28/28 [==============================] - 1s 23ms/step - loss: 0.0102 - acc: 0.9963 - val_loss: 0.1253 - val_acc: 0.9753\n",
      "Epoch 158/200\n",
      "28/28 [==============================] - 1s 23ms/step - loss: 0.0102 - acc: 0.9958 - val_loss: 0.1055 - val_acc: 0.9753\n",
      "Epoch 159/200\n",
      "28/28 [==============================] - 1s 23ms/step - loss: 0.0116 - acc: 0.9964 - val_loss: 0.1140 - val_acc: 0.9753\n",
      "Epoch 160/200\n",
      "28/28 [==============================] - 1s 25ms/step - loss: 0.0084 - acc: 0.9973 - val_loss: 0.1214 - val_acc: 0.9787\n",
      "Epoch 161/200\n",
      "28/28 [==============================] - 1s 22ms/step - loss: 0.0053 - acc: 0.9989 - val_loss: 0.1211 - val_acc: 0.9760\n",
      "Epoch 162/200\n",
      "28/28 [==============================] - 1s 23ms/step - loss: 0.0056 - acc: 0.9979 - val_loss: 0.1269 - val_acc: 0.9747\n",
      "Epoch 163/200\n",
      "28/28 [==============================] - 1s 22ms/step - loss: 0.0069 - acc: 0.9973 - val_loss: 0.1304 - val_acc: 0.9747\n",
      "Epoch 164/200\n",
      "28/28 [==============================] - 1s 23ms/step - loss: 0.0080 - acc: 0.9971 - val_loss: 0.1220 - val_acc: 0.9787\n",
      "Epoch 165/200\n",
      "28/28 [==============================] - 1s 22ms/step - loss: 0.0070 - acc: 0.9994 - val_loss: 0.1285 - val_acc: 0.9760\n",
      "Epoch 166/200\n",
      "28/28 [==============================] - 1s 22ms/step - loss: 0.0088 - acc: 0.9973 - val_loss: 0.1269 - val_acc: 0.9740\n",
      "Epoch 167/200\n",
      "28/28 [==============================] - 1s 21ms/step - loss: 0.0066 - acc: 0.9982 - val_loss: 0.1237 - val_acc: 0.9753\n",
      "Epoch 168/200\n",
      "28/28 [==============================] - 1s 23ms/step - loss: 0.0123 - acc: 0.9975 - val_loss: 0.1204 - val_acc: 0.9773\n",
      "Epoch 169/200\n",
      "28/28 [==============================] - 1s 22ms/step - loss: 0.0124 - acc: 0.9961 - val_loss: 0.1194 - val_acc: 0.9773\n",
      "Epoch 170/200\n",
      "28/28 [==============================] - 1s 22ms/step - loss: 0.0080 - acc: 0.9982 - val_loss: 0.1396 - val_acc: 0.9773\n",
      "Epoch 171/200\n",
      "28/28 [==============================] - 1s 23ms/step - loss: 0.0088 - acc: 0.9975 - val_loss: 0.1214 - val_acc: 0.9760\n",
      "Epoch 172/200\n",
      "28/28 [==============================] - 1s 24ms/step - loss: 0.0137 - acc: 0.9948 - val_loss: 0.1140 - val_acc: 0.9780\n",
      "Epoch 173/200\n",
      "28/28 [==============================] - 1s 25ms/step - loss: 0.0106 - acc: 0.9956 - val_loss: 0.1163 - val_acc: 0.9767\n",
      "Epoch 174/200\n",
      "28/28 [==============================] - 1s 25ms/step - loss: 0.0103 - acc: 0.9960 - val_loss: 0.1123 - val_acc: 0.9760\n",
      "Epoch 175/200\n",
      "28/28 [==============================] - 1s 25ms/step - loss: 0.0084 - acc: 0.9970 - val_loss: 0.1213 - val_acc: 0.9793\n",
      "Epoch 176/200\n",
      "28/28 [==============================] - 1s 22ms/step - loss: 0.0077 - acc: 0.9981 - val_loss: 0.1130 - val_acc: 0.9753\n",
      "Epoch 177/200\n",
      "28/28 [==============================] - 1s 22ms/step - loss: 0.0086 - acc: 0.9971 - val_loss: 0.1202 - val_acc: 0.9767\n",
      "Epoch 178/200\n",
      "28/28 [==============================] - 1s 22ms/step - loss: 0.0062 - acc: 0.9978 - val_loss: 0.1255 - val_acc: 0.9780\n",
      "Epoch 179/200\n",
      "28/28 [==============================] - 1s 23ms/step - loss: 0.0069 - acc: 0.9975 - val_loss: 0.1312 - val_acc: 0.9767\n",
      "Epoch 180/200\n",
      "28/28 [==============================] - 1s 22ms/step - loss: 0.0103 - acc: 0.9964 - val_loss: 0.1305 - val_acc: 0.9780\n",
      "Epoch 181/200\n",
      "28/28 [==============================] - 1s 22ms/step - loss: 0.0102 - acc: 0.9967 - val_loss: 0.1347 - val_acc: 0.9747\n",
      "Epoch 182/200\n",
      "28/28 [==============================] - 1s 22ms/step - loss: 0.0168 - acc: 0.9953 - val_loss: 0.1351 - val_acc: 0.9760\n",
      "Epoch 183/200\n",
      "28/28 [==============================] - 1s 22ms/step - loss: 0.0110 - acc: 0.9969 - val_loss: 0.1259 - val_acc: 0.9767\n",
      "Epoch 184/200\n"
     ]
    },
    {
     "name": "stdout",
     "output_type": "stream",
     "text": [
      "28/28 [==============================] - 1s 22ms/step - loss: 0.0079 - acc: 0.9981 - val_loss: 0.1239 - val_acc: 0.9767\n",
      "Epoch 185/200\n",
      "28/28 [==============================] - 1s 21ms/step - loss: 0.0060 - acc: 0.9981 - val_loss: 0.1208 - val_acc: 0.9773\n",
      "Epoch 186/200\n",
      "28/28 [==============================] - 1s 22ms/step - loss: 0.0056 - acc: 0.9980 - val_loss: 0.1233 - val_acc: 0.9753\n",
      "Epoch 187/200\n",
      "28/28 [==============================] - 1s 22ms/step - loss: 0.0083 - acc: 0.9967 - val_loss: 0.1222 - val_acc: 0.9780\n",
      "Epoch 188/200\n",
      "28/28 [==============================] - 1s 23ms/step - loss: 0.0048 - acc: 0.9988 - val_loss: 0.1339 - val_acc: 0.9767\n",
      "Epoch 189/200\n",
      "28/28 [==============================] - 1s 22ms/step - loss: 0.0159 - acc: 0.9952 - val_loss: 0.1195 - val_acc: 0.9767\n",
      "Epoch 190/200\n",
      "28/28 [==============================] - 1s 22ms/step - loss: 0.0092 - acc: 0.9967 - val_loss: 0.1256 - val_acc: 0.9773\n",
      "Epoch 191/200\n",
      "28/28 [==============================] - 1s 22ms/step - loss: 0.0104 - acc: 0.9954 - val_loss: 0.1205 - val_acc: 0.9773\n",
      "Epoch 192/200\n",
      "28/28 [==============================] - 1s 22ms/step - loss: 0.0122 - acc: 0.9951 - val_loss: 0.1239 - val_acc: 0.9773\n",
      "Epoch 193/200\n",
      "28/28 [==============================] - 1s 21ms/step - loss: 0.0107 - acc: 0.9958 - val_loss: 0.1136 - val_acc: 0.9780\n",
      "Epoch 194/200\n",
      "28/28 [==============================] - 1s 22ms/step - loss: 0.0099 - acc: 0.9977 - val_loss: 0.1202 - val_acc: 0.9780\n",
      "Epoch 195/200\n",
      "28/28 [==============================] - 1s 22ms/step - loss: 0.0081 - acc: 0.9985 - val_loss: 0.1282 - val_acc: 0.9800\n",
      "Epoch 196/200\n",
      "28/28 [==============================] - 1s 22ms/step - loss: 0.0045 - acc: 0.9986 - val_loss: 0.1197 - val_acc: 0.9780\n",
      "Epoch 197/200\n",
      "28/28 [==============================] - 1s 22ms/step - loss: 0.0039 - acc: 0.9982 - val_loss: 0.1185 - val_acc: 0.9773\n",
      "Epoch 198/200\n",
      "28/28 [==============================] - 1s 22ms/step - loss: 0.0141 - acc: 0.9957 - val_loss: 0.1277 - val_acc: 0.9760\n",
      "Epoch 199/200\n",
      "28/28 [==============================] - 1s 23ms/step - loss: 0.0081 - acc: 0.9977 - val_loss: 0.1362 - val_acc: 0.9753\n",
      "Epoch 200/200\n",
      "28/28 [==============================] - 1s 22ms/step - loss: 0.0070 - acc: 0.9986 - val_loss: 0.1250 - val_acc: 0.9767\n"
     ]
    }
   ],
   "source": [
    "hist = model.fit(train_X, train_y, validation_data=(test_X, test_y), epochs=200, batch_size=128, verbose=1)"
   ]
  },
  {
   "cell_type": "code",
   "execution_count": 12,
   "metadata": {
    "ExecuteTime": {
     "end_time": "2021-04-29T07:22:40.120776Z",
     "start_time": "2021-04-29T07:22:39.884883Z"
    }
   },
   "outputs": [
    {
     "data": {
      "image/png": "[encoded data removed]",
      "text/plain": [
       "<Figure size 432x288 with 2 Axes>"
      ]
     },
     "metadata": {
      "needs_background": "light"
     },
     "output_type": "display_data"
    }
   ],
   "source": [
    "import matplotlib.pyplot as plt\n",
    "\n",
    "fig, loss_ax = plt.subplots()\n",
    "\n",
    "loss_ax.plot(hist.history['loss'], 'y', label='train loss')\n",
    "loss_ax.plot(hist.history['val_loss'], 'r', label='val loss')\n",
    "loss_ax.set_xlabel('epoch')\n",
    "loss_ax.set_ylabel('loss')\n",
    "loss_ax.legend(loc='upper left')\n",
    "\n",
    "acc_ax = loss_ax.twinx()\n",
    "acc_ax.plot(hist.history['acc'], 'b', label ='train acc')\n",
    "acc_ax.plot(hist.history['val_acc'], 'b', label ='val acc')\n",
    "acc_ax.set_ylabel('accuracy')\n",
    "# acc_ax.set_legend(loc='lower left')\n",
    "\n",
    "plt.show()"
   ]
  },
  {
   "cell_type": "code",
   "execution_count": 10,
   "metadata": {
    "ExecuteTime": {
     "end_time": "2021-04-29T07:22:00.082730Z",
     "start_time": "2021-04-29T07:22:00.054337Z"
    }
   },
   "outputs": [
    {
     "ename": "AttributeError",
     "evalue": "'History' object has no attribute 'accuracy'",
     "output_type": "error",
     "traceback": [
      "\u001b[1;31m---------------------------------------------------------------------------\u001b[0m",
      "\u001b[1;31mAttributeError\u001b[0m                            Traceback (most recent call last)",
      "\u001b[1;32m<ipython-input-10-bdfc06cf3e47>\u001b[0m in \u001b[0;36m<module>\u001b[1;34m\u001b[0m\n\u001b[1;32m----> 1\u001b[1;33m \u001b[0mhist\u001b[0m\u001b[1;33m.\u001b[0m\u001b[0maccuracy\u001b[0m\u001b[1;33m\u001b[0m\u001b[1;33m\u001b[0m\u001b[0m\n\u001b[0m",
      "\u001b[1;31mAttributeError\u001b[0m: 'History' object has no attribute 'accuracy'"
     ]
    }
   ],
   "source": []
  },
  {
   "cell_type": "code",
   "execution_count": null,
   "metadata": {
    "ExecuteTime": {
     "end_time": "2021-04-29T06:36:58.637113Z",
     "start_time": "2021-04-29T06:36:40.702966Z"
    }
   },
   "outputs": [],
   "source": [
    "import cv2\n",
    "import numpy as np\n",
    "cap = cv2.VideoCapture(0)\n",
    "\n",
    "if cap.isOpened():\n",
    "    while True:\n",
    "        ret, img = cap.read()\n",
    "        if ret:\n",
    "            g_img = cv2.cvtColor(img, cv2.COLOR_BGR2GRAY)\n",
    "            _, bin_img = cv2.threshold(g_img, 110, 255, cv2.THRESH_BINARY_INV)\n",
    "            contours, hierarchy = cv2.findContours(bin_img, \n",
    "                        cv2.RETR_EXTERNAL, cv2.CHAIN_APPROX_SIMPLE)\n",
    "            # CHAIN_APPROX_SIMPLE 테두리를 잡아줌 \n",
    "            try:\n",
    "                for i in range(len(contours)):\n",
    "                    contour = contours[i]\n",
    "                    (x,y), radius = cv2.minEnclosingCircle(contour)\n",
    "                    if radius > 3:\n",
    "                        xs, xe = int(x-radius), int(x+radius)\n",
    "                        ys, ye = int(y-radius), int(y+radius)\n",
    "                        cv2.rectangle(bin_img, (xs, ys), (xe, ye), (200, 0, 0), 1)\n",
    "                        roi = bin_img[ys:ye, xs:xe]\n",
    "                        dst = cv2.resize(roi, dsize = (50, 50))\n",
    "                        dst = cv2.resize(dst, dsize = (24, 24)) #16, 16\n",
    "                        A = np.zeros((28,28))  # 20, 20\n",
    "                        A[2:-2, 2:-2] = dst[:,:]\n",
    "                        A = A.reshape(-1,28, 28, 1)  #-1, 20, 20, 1\n",
    "                        num =np.argmax(model.predict(A))\n",
    "                        cv2.putText(bin_img, str(num), (xs,ys), cv2.FONT_HERSHEY_PLAIN, 2, (200, 0, 0))\n",
    "            except Exception as e:\n",
    "                print(e)\n",
    "            cv2.imshow(\"Image\", bin_img)\n",
    "            if cv2.waitKey(1) & 0xFF ==27:\n",
    "                break\n",
    "        else:\n",
    "            print(\"Np Frame\")\n",
    "            break\n",
    "else:\n",
    "    print(\"Camera not opened\")\n",
    "\n",
    "cap.release()\n",
    "cv2.destroyAllWindows()"
   ]
  },
  {
   "cell_type": "markdown",
   "metadata": {
    "ExecuteTime": {
     "end_time": "2021-04-29T06:38:08.175131Z",
     "start_time": "2021-04-29T06:38:08.150136Z"
    }
   },
   "source": [
    "### Mnist"
   ]
  },
  {
   "cell_type": "code",
   "execution_count": null,
   "metadata": {
    "ExecuteTime": {
     "end_time": "2021-04-29T06:21:14.240983Z",
     "start_time": "2021-04-29T06:21:11.918825Z"
    }
   },
   "outputs": [],
   "source": [
    "from tensorflow.keras.datasets import mnist\n",
    "(train_img, train_labels), (test_img, test_labels) = mnist.load_data()"
   ]
  },
  {
   "cell_type": "code",
   "execution_count": null,
   "metadata": {
    "ExecuteTime": {
     "end_time": "2021-04-29T06:21:14.494019Z",
     "start_time": "2021-04-29T06:21:14.336538Z"
    }
   },
   "outputs": [],
   "source": [
    "#X의 모양을 입력 모양에 맞도록 수정\n",
    "\n",
    "train_img = train_img.reshape(-1, 28, 28, 1)\n",
    "test_img = test_img.reshape(-1, 28, 28, 1)\n",
    "\n",
    "#표준화\n",
    "train_img = train_img.astype('float32')/255\n",
    "test_img = test_img.astype('float32') / 255\n",
    "\n",
    "#y를 원-핫 인코딩 \n",
    "\n",
    "from tensorflow.keras.utils import to_categorical\n",
    "\n",
    "train_labels = to_categorical(train_labels)\n",
    "test_labels = to_categorical(test_labels)"
   ]
  },
  {
   "cell_type": "code",
   "execution_count": null,
   "metadata": {},
   "outputs": [],
   "source": [
    "model.fit(train_img, train_labels, validation_data=(test_img, test_labels), epochs=20, batch_size=128, verbose=1)"
   ]
  }
 ],
 "metadata": {
  "kernelspec": {
   "display_name": "Python 3",
   "language": "python",
   "name": "python3"
  },
  "language_info": {
   "codemirror_mode": {
    "name": "ipython",
    "version": 3
   },
   "file_extension": ".py",
   "mimetype": "text/x-python",
   "name": "python",
   "nbconvert_exporter": "python",
   "pygments_lexer": "ipython3",
   "version": "3.8.5"
  },
  "toc": {
   "base_numbering": 1,
   "nav_menu": {},
   "number_sections": true,
   "sideBar": true,
   "skip_h1_title": false,
   "title_cell": "Table of Contents",
   "title_sidebar": "Contents",
   "toc_cell": false,
   "toc_position": {},
   "toc_section_display": true,
   "toc_window_display": false
  },
  "varInspector": {
   "cols": {
    "lenName": 16,
    "lenType": 16,
    "lenVar": 40
   },
   "kernels_config": {
    "python": {
     "delete_cmd_postfix": "",
     "delete_cmd_prefix": "del ",
     "library": "var_list.py",
     "varRefreshCmd": "print(var_dic_list())"
    },
    "r": {
     "delete_cmd_postfix": ") ",
     "delete_cmd_prefix": "rm(",
     "library": "var_list.r",
     "varRefreshCmd": "cat(var_dic_list()) "
    }
   },
   "types_to_exclude": [
    "module",
    "function",
    "builtin_function_or_method",
    "instance",
    "_Feature"
   ],
   "window_display": false
  }
 },
 "nbformat": 4,
 "nbformat_minor": 4
}
